{
 "cells": [
  {
   "cell_type": "markdown",
   "metadata": {},
   "source": [
    "# Loop and Append to Zarr Store"
   ]
  },
  {
   "cell_type": "code",
   "execution_count": 1,
   "metadata": {},
   "outputs": [],
   "source": [
    "import numpy as np\n",
    "import xarray as xr\n",
    "import pandas as pd\n",
    "import numcodecs\n",
    "from dask.distributed import Client, progress, LocalCluster\n",
    "import zarr\n",
    "import glob"
   ]
  },
  {
   "cell_type": "code",
   "execution_count": 2,
   "metadata": {},
   "outputs": [
    {
     "data": {
      "text/html": [
       "<table style=\"border: 2px solid white;\">\n",
       "<tr>\n",
       "<td style=\"vertical-align: top; border: 0px solid white\">\n",
       "<h3 style=\"text-align: left;\">Client</h3>\n",
       "<ul style=\"text-align: left; list-style: none; margin: 0; padding: 0;\">\n",
       "  <li><b>Scheduler: </b>tcp://127.0.0.1:42621</li>\n",
       "  <li><b>Dashboard: </b><a href='http://127.0.0.1:8787/status' target='_blank'>http://127.0.0.1:8787/status</a>\n",
       "</ul>\n",
       "</td>\n",
       "<td style=\"vertical-align: top; border: 0px solid white\">\n",
       "<h3 style=\"text-align: left;\">Cluster</h3>\n",
       "<ul style=\"text-align: left; list-style:none; margin: 0; padding: 0;\">\n",
       "  <li><b>Workers: </b>8</li>\n",
       "  <li><b>Cores: </b>32</li>\n",
       "  <li><b>Memory: </b>132.24 GB</li>\n",
       "</ul>\n",
       "</td>\n",
       "</tr>\n",
       "</table>"
      ],
      "text/plain": [
       "<Client: 'tcp://127.0.0.1:42621' processes=8 threads=32, memory=132.24 GB>"
      ]
     },
     "execution_count": 2,
     "metadata": {},
     "output_type": "execute_result"
    }
   ],
   "source": [
    "cluster = LocalCluster()\n",
    "client = Client(cluster)\n",
    "client"
   ]
  },
  {
   "cell_type": "code",
   "execution_count": 3,
   "metadata": {},
   "outputs": [],
   "source": [
    "# Tell blosc not to use threads since we are using dask to parallelize\n",
    "numcodecs.blosc.use_threads = False"
   ]
  },
  {
   "cell_type": "code",
   "execution_count": 25,
   "metadata": {},
   "outputs": [
    {
     "name": "stdout",
     "output_type": "stream",
     "text": [
      "zarr store directory: /data/mursst_netcdf/zarr/10x1800x3600\n"
      "2.0G\t/data/mursst_netcdf/zarr\r\n",
      "2.4G\t/data/mursst_netcdf/zarr_noenc\r\n"
     ]
    }
   ],
   "source": [
    "!du -sh /data/mursst_netcdf/zarr*"
   ]
  },
  {
   "cell_type": "code",
   "execution_count": 26,
   "metadata": {},
   "outputs": [
    {
     "name": "stdout",
     "output_type": "stream",
     "text": [
      "zarr store directory: /data/mursst_netcdf/zarr_enc/5x1000x1000\n"
     ]
    }
   ],
   "source": [
    "# Invariants\n",
    "year = 2006\n",
    "prefix = '/data/mursst_netcdf'\n",
    "chunks = {'time': 5, 'lat': 1000, 'lon': 1000}\n",
    "path = 'x'.join(map(str, chunks.values()))\n",
    "do_encoding = True\n",
    "store_dir = f\"/data/mursst_netcdf/zarr_enc/{path}\"\n",
    "if not do_encoding:\n",
    "    store_dir = f\"/data/mursst_netcdf/zarr_noenc/{path}\"\n",
    "print(f\"zarr store directory: {store_dir}\")"
   ]
  },
  {
   "cell_type": "code",
   "execution_count": 27,
   "metadata": {},
   "outputs": [],
   "source": [
    "def generate_file_list(start_doy, end_doy):   \n",
    "    \"\"\"\n",
    "    Given a start day and end end day, generate a list of file locations.\n",
    "    Assumes a 'prefix' and 'year' variables have already been defined.\n",
    "    'Prefix' should be a local directory or http url and path.\n",
    "    'Year' should be a 4 digit year.\n",
    "    \"\"\"\n",
    "    days_of_year = list(range(start_doy, end_doy))\n",
    "    fileObjs = []\n",
    "\n",
    "    for doy in days_of_year:\n",
    "        if doy < 10:\n",
    "            doy = f\"00{doy}\"\n",
    "        elif doy >= 10 and doy < 100:\n",
    "            doy = f\"0{doy}\"            \n",
    "        file = glob.glob(f\"{prefix}/{year}/{doy}/*.nc\")[0]\n",
    "        fileObjs.append(file)\n",
    "    return fileObjs"
   ]
  },
  {
   "cell_type": "markdown",
   "metadata": {},
   "source": [
    "## Loop and Append"
   ]
  },
  {
   "cell_type": "code",
   "execution_count": 29,
   "metadata": {
    "scrolled": false
   },
   "outputs": [
    {
     "name": "stdout",
     "output_type": "stream",
     "text": [
      "start doy: 11, file: 20060111090000-JPL-L4_GHRSST-SSTfnd-MUR-GLOB-v02.0-fv04.1.nc\n",
      "end doy: 21, file: 20060120090000-JPL-L4_GHRSST-SSTfnd-MUR-GLOB-v02.0-fv04.1.nc\n",
      "Done with this batch\n",
      "\n",
      "start doy: 21, file: 20060121090000-JPL-L4_GHRSST-SSTfnd-MUR-GLOB-v02.0-fv04.1.nc\n",
      "end doy: 31, file: 20060130090000-JPL-L4_GHRSST-SSTfnd-MUR-GLOB-v02.0-fv04.1.nc\n",
      "Done with this batch\n",
      "\n",
      "start doy: 31, file: 20060131090000-JPL-L4_GHRSST-SSTfnd-MUR-GLOB-v02.0-fv04.1.nc\n",
      "end doy: 41, file: 20060209090000-JPL-L4_GHRSST-SSTfnd-MUR-GLOB-v02.0-fv04.1.nc\n",
      "Done with this batch\n",
      "\n",
      "start doy: 41, file: 20060210090000-JPL-L4_GHRSST-SSTfnd-MUR-GLOB-v02.0-fv04.1.nc\n",
      "end doy: 51, file: 20060219090000-JPL-L4_GHRSST-SSTfnd-MUR-GLOB-v02.0-fv04.1.nc\n",
      "Done with this batch\n",
      "\n",
      "start doy: 51, file: 20060220090000-JPL-L4_GHRSST-SSTfnd-MUR-GLOB-v02.0-fv04.1.nc\n",
      "end doy: 61, file: 20060301090000-JPL-L4_GHRSST-SSTfnd-MUR-GLOB-v02.0-fv04.1.nc\n",
      "Done with this batch\n",
      "\n",
      "start doy: 61, file: 20060302090000-JPL-L4_GHRSST-SSTfnd-MUR-GLOB-v02.0-fv04.1.nc\n",
      "end doy: 71, file: 20060311090000-JPL-L4_GHRSST-SSTfnd-MUR-GLOB-v02.0-fv04.1.nc\n",
      "Done with this batch\n",
      "\n",
      "start doy: 71, file: 20060312090000-JPL-L4_GHRSST-SSTfnd-MUR-GLOB-v02.0-fv04.1.nc\n",
      "end doy: 81, file: 20060321090000-JPL-L4_GHRSST-SSTfnd-MUR-GLOB-v02.0-fv04.1.nc\n",
      "Done with this batch\n",
      "\n",
      "start doy: 81, file: 20060322090000-JPL-L4_GHRSST-SSTfnd-MUR-GLOB-v02.0-fv04.1.nc\n",
      "end doy: 91, file: 20060331090000-JPL-L4_GHRSST-SSTfnd-MUR-GLOB-v02.0-fv04.1.nc\n",
      "Done with this batch\n",
      "\n",
      "start doy: 91, file: 20060401090000-JPL-L4_GHRSST-SSTfnd-MUR-GLOB-v02.0-fv04.1.nc\n",
      "end doy: 101, file: 20060410090000-JPL-L4_GHRSST-SSTfnd-MUR-GLOB-v02.0-fv04.1.nc\n",
      "Done with this batch\n",
      "\n",
      "start doy: 101, file: 20060411090000-JPL-L4_GHRSST-SSTfnd-MUR-GLOB-v02.0-fv04.1.nc\n",
      "end doy: 111, file: 20060420090000-JPL-L4_GHRSST-SSTfnd-MUR-GLOB-v02.0-fv04.1.nc\n",
      "Done with this batch\n",
      "\n",
      "start doy: 121, file: 20060501090000-JPL-L4_GHRSST-SSTfnd-MUR-GLOB-v02.0-fv04.1.nc\n",
      "end doy: 131, file: 20060510090000-JPL-L4_GHRSST-SSTfnd-MUR-GLOB-v02.0-fv04.1.nc\n",
      "Done with this batch\n",
      "\n",
      "start doy: 131, file: 20060511090000-JPL-L4_GHRSST-SSTfnd-MUR-GLOB-v02.0-fv04.1.nc\n",
      "end doy: 141, file: 20060520090000-JPL-L4_GHRSST-SSTfnd-MUR-GLOB-v02.0-fv04.1.nc\n",
      "Done with this batch\n",
      "\n",
      "start doy: 141, file: 20060521090000-JPL-L4_GHRSST-SSTfnd-MUR-GLOB-v02.0-fv04.1.nc\n",
      "end doy: 151, file: 20060530090000-JPL-L4_GHRSST-SSTfnd-MUR-GLOB-v02.0-fv04.1.nc\n",
      "Done with this batch\n",
      "\n",
      "start doy: 151, file: 20060531090000-JPL-L4_GHRSST-SSTfnd-MUR-GLOB-v02.0-fv04.1.nc\n",
      "end doy: 161, file: 20060609090000-JPL-L4_GHRSST-SSTfnd-MUR-GLOB-v02.0-fv04.1.nc\n",
      "Done with this batch\n",
      "\n",
      "start doy: 161, file: 20060610090000-JPL-L4_GHRSST-SSTfnd-MUR-GLOB-v02.0-fv04.1.nc\n",
      "end doy: 171, file: 20060619090000-JPL-L4_GHRSST-SSTfnd-MUR-GLOB-v02.0-fv04.1.nc\n",
      "Done with this batch\n",
      "\n",
      "start doy: 171, file: 20060620090000-JPL-L4_GHRSST-SSTfnd-MUR-GLOB-v02.0-fv04.1.nc\n",
      "end doy: 181, file: 20060629090000-JPL-L4_GHRSST-SSTfnd-MUR-GLOB-v02.0-fv04.1.nc\n",
      "Done with this batch\n",
      "\n",
      "start doy: 181, file: 20060630090000-JPL-L4_GHRSST-SSTfnd-MUR-GLOB-v02.0-fv04.1.nc\n",
      "end doy: 191, file: 20060709090000-JPL-L4_GHRSST-SSTfnd-MUR-GLOB-v02.0-fv04.1.nc\n",
      "Done with this batch\n",
      "\n",
      "start doy: 191, file: 20060710090000-JPL-L4_GHRSST-SSTfnd-MUR-GLOB-v02.0-fv04.1.nc\n",
      "end doy: 201, file: 20060719090000-JPL-L4_GHRSST-SSTfnd-MUR-GLOB-v02.0-fv04.1.nc\n",
      "Done with this batch\n",
      "\n",
      "start doy: 201, file: 20060720090000-JPL-L4_GHRSST-SSTfnd-MUR-GLOB-v02.0-fv04.1.nc\n",
      "end doy: 211, file: 20060729090000-JPL-L4_GHRSST-SSTfnd-MUR-GLOB-v02.0-fv04.1.nc\n",
      "Done with this batch\n",
      "\n",
      "start doy: 211, file: 20060730090000-JPL-L4_GHRSST-SSTfnd-MUR-GLOB-v02.0-fv04.1.nc\n",
      "end doy: 221, file: 20060808090000-JPL-L4_GHRSST-SSTfnd-MUR-GLOB-v02.0-fv04.1.nc\n",
      "Done with this batch\n",
      "\n",
      "start doy: 221, file: 20060809090000-JPL-L4_GHRSST-SSTfnd-MUR-GLOB-v02.0-fv04.1.nc\n",
      "end doy: 231, file: 20060818090000-JPL-L4_GHRSST-SSTfnd-MUR-GLOB-v02.0-fv04.1.nc\n",
      "Done with this batch\n",
      "\n",
      "start doy: 231, file: 20060819090000-JPL-L4_GHRSST-SSTfnd-MUR-GLOB-v02.0-fv04.1.nc\n",
      "end doy: 241, file: 20060828090000-JPL-L4_GHRSST-SSTfnd-MUR-GLOB-v02.0-fv04.1.nc\n",
      "Done with this batch\n",
      "\n",
      "start doy: 241, file: 20060829090000-JPL-L4_GHRSST-SSTfnd-MUR-GLOB-v02.0-fv04.1.nc\n",
      "end doy: 251, file: 20060907090000-JPL-L4_GHRSST-SSTfnd-MUR-GLOB-v02.0-fv04.1.nc\n",
      "Done with this batch\n",
      "\n",
      "start doy: 251, file: 20060908090000-JPL-L4_GHRSST-SSTfnd-MUR-GLOB-v02.0-fv04.1.nc\n",
      "end doy: 261, file: 20060917090000-JPL-L4_GHRSST-SSTfnd-MUR-GLOB-v02.0-fv04.1.nc\n",
      "Done with this batch\n",
      "\n",
      "start doy: 261, file: 20060918090000-JPL-L4_GHRSST-SSTfnd-MUR-GLOB-v02.0-fv04.1.nc\n",
      "end doy: 271, file: 20060927090000-JPL-L4_GHRSST-SSTfnd-MUR-GLOB-v02.0-fv04.1.nc\n",
      "Done with this batch\n",
      "\n",
      "start doy: 271, file: 20060928090000-JPL-L4_GHRSST-SSTfnd-MUR-GLOB-v02.0-fv04.1.nc\n",
      "end doy: 281, file: 20061007090000-JPL-L4_GHRSST-SSTfnd-MUR-GLOB-v02.0-fv04.1.nc\n",
      "Done with this batch\n",
      "\n",
      "start doy: 281, file: 20061008090000-JPL-L4_GHRSST-SSTfnd-MUR-GLOB-v02.0-fv04.1.nc\n",
      "end doy: 291, file: 20061017090000-JPL-L4_GHRSST-SSTfnd-MUR-GLOB-v02.0-fv04.1.nc\n",
      "Done with this batch\n",
      "\n",
      "start doy: 291, file: 20061018090000-JPL-L4_GHRSST-SSTfnd-MUR-GLOB-v02.0-fv04.1.nc\n",
      "end doy: 301, file: 20061027090000-JPL-L4_GHRSST-SSTfnd-MUR-GLOB-v02.0-fv04.1.nc\n",
      "Done with this batch\n",
      "\n",
      "start doy: 301, file: 20061028090000-JPL-L4_GHRSST-SSTfnd-MUR-GLOB-v02.0-fv04.1.nc\n",
      "end doy: 311, file: 20061106090000-JPL-L4_GHRSST-SSTfnd-MUR-GLOB-v02.0-fv04.1.nc\n",
      "Done with this batch\n",
      "\n",
      "start doy: 311, file: 20061107090000-JPL-L4_GHRSST-SSTfnd-MUR-GLOB-v02.0-fv04.1.nc\n",
      "end doy: 321, file: 20061116090000-JPL-L4_GHRSST-SSTfnd-MUR-GLOB-v02.0-fv04.1.nc\n",
      "Done with this batch\n",
      "\n",
      "start doy: 321, file: 20061117090000-JPL-L4_GHRSST-SSTfnd-MUR-GLOB-v02.0-fv04.1.nc\n",
      "end doy: 331, file: 20061126090000-JPL-L4_GHRSST-SSTfnd-MUR-GLOB-v02.0-fv04.1.nc\n",
      "Done with this batch\n",
      "\n",
      "start doy: 331, file: 20061127090000-JPL-L4_GHRSST-SSTfnd-MUR-GLOB-v02.0-fv04.1.nc\n",
      "end doy: 341, file: 20061206090000-JPL-L4_GHRSST-SSTfnd-MUR-GLOB-v02.0-fv04.1.nc\n",
      "Done with this batch\n",
      "\n",
      "start doy: 341, file: 20061207090000-JPL-L4_GHRSST-SSTfnd-MUR-GLOB-v02.0-fv04.1.nc\n",
      "end doy: 351, file: 20061216090000-JPL-L4_GHRSST-SSTfnd-MUR-GLOB-v02.0-fv04.1.nc\n",
      "Done with this batch\n",
      "\n",
      "start doy: 351, file: 20061217090000-JPL-L4_GHRSST-SSTfnd-MUR-GLOB-v02.0-fv04.1.nc\n",
      "end doy: 361, file: 20061226090000-JPL-L4_GHRSST-SSTfnd-MUR-GLOB-v02.0-fv04.1.nc\n",
      "Done with this batch\n",
      "\n",
      "start doy: 361, file: 20061227090000-JPL-L4_GHRSST-SSTfnd-MUR-GLOB-v02.0-fv04.1.nc\n",
      "end doy: 366, file: 20061231090000-JPL-L4_GHRSST-SSTfnd-MUR-GLOB-v02.0-fv04.1.nc\n"
     ]
    }
   ],
   "source": [
    "%%time\n",
    "start_doy = 1\n",
    "end_doy = start_doy\n",
    "number_batches_to_append = 1\n",
    "batch_size = 5\n",
    "final_end_doy = start_doy + (number_batches_to_append * batch_size)\n",
    "\n",
    "while start_doy < final_end_doy:\n",
    "    end_doy = start_doy + batch_size\n",
    "    end_doy = min(366, end_doy)\n",
    "    fileObjs = generate_file_list(start_doy, end_doy)\n",
    "    print(f\"start doy: {start_doy}, file: {fileObjs[0].split('/')[-1]}\")\n",
    "    print(f\"end doy: {end_doy}, file: {fileObjs[-1].split('/')[-1]}\")          \n",
    "    ds = xr.open_mfdataset(fileObjs, parallel=True, combine='by_coords')\n",
    "    ds_rechunk = ds.chunk(chunks=chunks)\n",
    "    if start_doy == 1:\n",
    "          ds_rechunk.to_zarr(store_dir, consolidated=True, mode='w')\n",
    "    args = {'consolidated': True}\n",
    "    if start_doy == 1:\n",
    "        args['mode'] = 'w'\n",
    "    else:\n",
    "        args['mode'] = 'a'\n",
    "        args['append_dim'] = 'time'\n",
    "    if do_encoding:\n",
    "        compressor = zarr.Blosc(cname='zstd', clevel=5, shuffle=zarr.Blosc.AUTOSHUFFLE)\n",
    "        encoding = {v: {'compressor': compressor, 'filters': [zarr.Delta(dtype=ds[v].dtype)]} for v in ds.data_vars}\n",
    "        print(f\"encoding is {encoding}\")          \n",
    "        args['encoding'] = encoding\n",
    "    ds_rechunk.to_zarr(store_dir, **args)\n",
    "    start_doy = end_doy\n",
    "    print(f\"Done with this batch\")\n",
    "    print()"
   ]
  },
  {
   "cell_type": "markdown",
   "metadata": {},
   "source": [
    "## Handling Failures\n",
    "\n",
    "In cases where workers die in the middle of the loop, the code below can be used to re-run that chunk, using `if_exists='replace'`."
   ]
  },
  {
   "cell_type": "code",
   "execution_count": 24,
   "metadata": {},
   "outputs": [
    {
     "name": "stdout",
     "output_type": "stream",
     "text": [
      "start doy: 351, file: 20061217090000-JPL-L4_GHRSST-SSTfnd-MUR-GLOB-v02.0-fv04.1.nc\n",
      "end doy: 356, file: 20061221090000-JPL-L4_GHRSST-SSTfnd-MUR-GLOB-v02.0-fv04.1.nc\n"
     ]
    },
    {
     "name": "stderr",
     "output_type": "stream",
     "text": [
      "distributed.nanny - WARNING - Worker exceeded 95% memory budget. Restarting\n",
      "distributed.nanny - WARNING - Restarting worker\n"
     ]
    },
    {
     "data": {
      "text/plain": [
       "(8, 0, 19439136036)"
      ]
     },
     "execution_count": 24,
     "metadata": {},
     "output_type": "execute_result"
    }
   ],
   "source": [
    "# start_doy = 351\n",
    "# end_doy = 356 \n",
    "# fileObjs = generate_file_list(start_doy, end_doy)\n",
    "# print(f\"start doy: {start_doy}, file: {fileObjs[0].split('/')[-1]}\")\n",
    "# print(f\"end doy: {end_doy}, file: {fileObjs[-1].split('/')[-1]}\")          \n",
    "# ds = xr.open_mfdataset(fileObjs, parallel=True, combine='by_coords')\n",
    "# ds_rechunk = ds.chunk(chunks=chunks)\n",
    "# subset_source = '/Volumes/Elements/zarr/subset/'\n",
    "# ds_rechunk.to_zarr(subset_source, consolidated=True, mode='w')\n",
    "\n",
    "# existing_group = zarr.open(store=store_dir)\n",
    "# subset_group = zarr.open(store=subset_source)\n",
    "# zarr.copy(subset_group, existing_group, name='mursst', if_exists='replace')\n",
    "#xr.open_zarr(store_dir)"
   ]
  },
  {
   "cell_type": "code",
   "execution_count": 27,
   "metadata": {},
   "outputs": [
    {
     "name": "stdout",
     "output_type": "stream",
     "text": [
      "time to analyze netcdf: 64.68867564201355\n",
      "time to analyze zarr: 26.3105731010437\n",
      "[292.86786 292.81772 292.75568 292.6665  292.63092 292.65768 292.6813\n",
      " 292.65872 292.61563 292.58444 292.56137 292.55258 292.53833 292.51093\n",
      " 292.4789  292.40744 292.2918  292.201   292.17044 292.1562  292.12866\n",
      " 292.05167 292.0264  292.0357  292.05746 292.04742 292.0221  291.98184\n",
      " 291.97452 291.98547 292.0126  292.03088 292.01566 292.00555 292.00757\n",
      " 292.01373 292.042   292.06146 292.06778 292.1171  292.06866 292.01566\n",
      " 291.98782 291.994   291.9954  291.97852 291.93353 291.86035 291.80835\n",
      " 291.79666 291.7943  291.777   291.7612  291.7919  291.84567 291.88785\n",
      " 291.84534 291.88412 291.85754 291.81372 291.78186 291.74188 291.72937\n",
      " 291.71747 291.7347  291.76794 291.76416 291.7178  291.6581  291.63898\n",
      " 291.62604 291.593   291.5331  291.49634 291.50558 291.5053  291.51288\n",
      " 291.47717 291.43115 291.41785 291.4563  291.51373 291.58276 291.64783\n",
      " 291.69806 291.72708 291.75818 291.77322 291.78235 291.76813 291.7475\n",
      " 291.74    291.75925 291.7921  291.81247 291.79288 291.77832 291.80136\n",
      " 291.84155 291.8834  291.92087 291.93286 291.91    291.87292 291.82404\n",
      " 291.79752 291.8137  291.82663 291.84378 291.87222 291.8981  291.90067\n",
      " 291.8994  291.9052  291.93976 291.9675  291.98633 291.9799  291.9744\n",
      " 291.98868 292.0276  292.0988  292.1624  292.24194 292.29703 292.32095\n",
      " 292.29196 292.25635 292.25955 292.2907  292.3341  292.39136 292.47968\n",
      " 292.55923 292.62387 292.6761  292.7296  292.78647 292.84412 292.85294\n",
      " 292.82632 292.76993 292.77963 292.8096  292.8238  292.82132 292.78104\n",
      " 292.74716 292.7514  292.78516 292.8413  292.93182 293.04233 293.1323\n",
      " 293.22638 293.33948 293.44305 293.49457 293.52524 293.54053 293.55844\n",
      " 293.59262 293.62427 293.668   293.65518 293.6255  293.61435 293.636\n",
      " 293.6938  293.73843 293.7888  293.8759  293.95007 294.0302  294.11102\n",
      " 294.1532  294.2089  294.2407  294.2901  294.34088 294.41574 294.50125\n",
      " 294.58975 294.64008 294.6667  294.66858 294.6793  294.696   294.72757\n",
      " 294.74548 294.76852 294.7725  294.7783  294.79584 294.83594 294.95383\n",
      " 295.09198 295.1951  295.2432  295.3003  295.37198 295.4343  295.4539\n",
      " 295.4744  295.47787 295.462   295.48148 295.54272 295.60217 295.685\n",
      " 295.77316 295.83173 295.86832 295.86905 295.8428  295.81772 295.78912\n",
      " 295.80948 295.85336 295.94443 295.97562 295.9738  295.9508  295.91385\n",
      " 295.8849  295.89133 295.9192  295.94327 295.96204 295.98724 296.00833\n",
      " 296.0395  296.0599  296.0494  296.04715 296.04852 296.052   296.0856\n",
      " 296.123   296.1672  296.18503 296.1855  296.18457 296.16934 296.13577\n",
      " 296.13815 296.19843 296.24524 296.2776  296.27856 296.25537 296.2659\n",
      " 296.30786 296.3259  296.31534 296.2851  296.2319  296.1859  296.16415\n",
      " 296.15576 296.1534  296.11853 296.08014 296.05115 296.0169  296.0128\n",
      " 296.05313 296.09738 296.1712  296.2589  296.27603 296.2633  296.2234\n",
      " 296.1973  296.17255 296.132   296.07184 296.02158 295.98657 295.97232\n",
      " 295.95862 295.9499  295.94092 295.93954 295.92966 295.89117 295.84262\n",
      " 295.7885  295.76746 295.74054 295.71466 295.66632 295.6113  295.56613\n",
      " 295.52216 295.42413 295.3272  295.29266 295.29318 295.30106 295.25165\n",
      " 295.26382 295.2537  295.2413  295.19357 295.13055 295.09073 295.08322\n",
      " 295.0738  295.07208 295.01572 294.98083 294.9066  294.77563 294.67862\n",
      " 294.64545 294.59616 294.55252 294.50195 294.45224 294.39316 294.35565\n",
      " 294.30164 294.22433 294.15536 294.10782 294.07742 294.05127 293.96863\n",
      " 293.88437 293.81305 293.7568  293.7284  293.71118 293.69717 293.6835\n",
      " 293.67456 293.6346  293.60898 293.57895 293.56006 293.53    293.4739\n",
      " 293.39795 293.30518 293.1905  293.09146 292.99173 292.90842 292.89072\n",
      " 292.8756  292.84302 292.78143 292.71646 292.6754  292.64618 292.5941\n",
      " 292.5262  292.50662 292.51746 292.52908 292.5111  292.43967 292.37784\n",
      " 292.32193]\n",
      "[292.86786, 292.81772, 292.75568, 292.6665, 292.63092, 292.65768, 292.6813, 292.65872, 292.61563, 292.58444, 292.56137, 292.55258, 292.53833, 292.51093, 292.4789, 292.40744, 292.2918, 292.201, 292.17044, 292.1562, 292.12866, 292.05167, 292.0264, 292.0357, 292.05746, 292.04742, 293.14313, 291.99017, 291.97452, nan, 292.0126, 292.03088, 292.01566, 292.00555, 292.00757, 292.01373, 292.042, 292.06146, 292.06778, 292.1171, 292.06866, 292.01566, 291.98782, 291.994, 291.9954, 291.97852, 291.93353, 291.86035, 291.80835, 291.79666, 291.7943, 291.777, 291.7612, 291.7919, 291.84567, 291.88785, 291.84534, 291.88412, 291.85754, 291.81372, 291.78186, 291.74188, 291.72937, 291.71747, 291.7347, 291.76794, 291.76416, 291.7178, 291.6581, 291.63898, 291.62604, 291.593, 291.5331, 291.49634, 291.50558, 291.5053, 291.51288, 291.47717, 291.43115, 291.41785, 291.4563, 291.51373, 291.58276, 291.64783, 291.69806, 291.72708, 291.75818, 291.77322, 291.78235, 291.76813, 291.7475, 291.74, 291.75925, 291.7921, 291.81247, 291.79288, 291.77832, 291.80136, 291.84155, 291.8834, 291.92087, 291.93286, 291.91, 291.87292, 291.82404, 291.79752, 291.8137, 291.82663, 291.84378, 291.87222, 291.8981, 291.90067, 291.8994, 291.9052, 291.93976, 291.9675, 291.98633, 291.9799, 291.9744, 291.98868, 292.0276, 292.0988, 292.1624, 292.24194, 292.29703, 292.32095, 292.29196, 292.25635, 292.25955, 292.2907, 292.3341, 292.39136, 292.47968, 292.55923, 292.62387, 292.6761, 292.7296, 292.78647, 292.84412, 292.85294, 292.82632, 292.76944, 292.77963, 292.8096, 292.8238, 292.82132, 292.78104, 292.74716, 292.7514, 292.78516, 292.8413, 292.93182, 293.04233, 293.1323, 293.22638, 293.33948, 293.44305, 293.49457, 293.52524, 293.54053, 293.55844, 293.59262, 293.62427, 293.668, 293.65518, 293.6255, 293.61435, 293.636, 293.6938, 293.73843, 293.7888, 293.8759, 293.95007, 294.0302, 294.11102, 294.1532, 294.2089, 294.2407, 294.2901, 283.58334, 294.41574, 294.50125, 294.58975, 294.64008, 294.6667, 294.66858, 294.6793, 294.696, 294.72757, 294.74548, 294.76852, 294.7725, 294.7783, 294.79584, 294.83594, 294.95383, 295.09198, 295.1951, 295.2432, 295.3003, 295.37198, 295.4343, 295.4539, 295.4744, 295.47787, 295.462, 295.48148, 295.54272, 295.60217, 295.685, 295.77316, 295.83173, 295.86832, 295.86905, 295.8428, 295.81772, 295.78912, 295.80948, 295.85336, 295.94443, 295.97562, 295.9738, 295.9508, 295.91385, 295.8849, 295.89133, 295.9192, 295.94327, 295.96204, 295.98724, 296.00833, 296.0395, 296.0599, 296.0494, 296.04715, 296.04852, 296.052, 296.0856, 296.123, 296.1672, 296.18503, 296.1855, 296.18457, 296.16934, 296.13577, 296.13815, 296.19843, 296.24524, 296.2776, 296.27856, 296.25537, 296.2659, 296.30786, 296.3259, 296.31534, 296.2851, 296.2319, 296.1859, 296.16415, 296.15576, 296.1534, 296.11853, 296.08014, 296.05115, 296.0169, 296.0128, 296.05313, 296.09738, 296.1712, 296.2589, 296.27603, 296.2633, 296.2234, 296.1973, 296.17255, 296.132, 296.07184, 296.02158, 295.98657, 295.97232, 295.95862, 295.9499, 295.94092, 295.93954, 295.92966, 295.89117, 295.84262, 295.7885, 295.76746, 295.74054, 295.71466, 295.66632, 295.6113, 295.56613, 295.52216, 295.42413, 295.3272, 295.29266, 295.29318, 295.30106, 295.25165, 295.26382, 295.2537, 295.2413, 295.19357, 295.13055, 295.09073, 295.08322, 295.0738, 295.07208, 295.01572, 294.98083, 294.9066, 294.77563, 294.67862, 294.64545, 294.59616, 294.55252, 294.50195, 294.45224, 294.39316, 294.35565, 294.30164, 294.22433, 294.15536, 294.10782, 294.07742, 294.05127, 293.96863, 293.88437, 293.81305, 293.7568, 293.7284, 293.71118, 293.69717, 293.6835, 293.67456, 293.6346, 293.60898, 293.57895, 293.56006, 293.53, 293.4739, 293.39795, 293.30518, 293.1905, 293.09146, 292.99173, 292.90842, 292.89072, 292.8756, 292.84302, 292.78143, 292.71646, 292.6754, 292.64618, 292.5941, 292.5262, 292.50662, 292.51746, 292.52908, 292.5111, 292.43967, 292.37784, 292.32193]\n"
     ]
    }
   ],
   "source": [
    "import time\n",
    "# Add data test\n",
    "zarr_ds = xr.open_zarr(store_dir)\n",
    "start_doy = 1\n",
    "end_doy = 366\n",
    "fileObjs = generate_file_list(start_doy, end_doy)\n",
    "netcdf_ds = xr.open_mfdataset(fileObjs, parallel=True, chunks=chunks, combine='by_coords')\n",
    "lat_slice = slice(10, 50)\n",
    "lon_slice = slice(-150, -100)\n",
    "\n",
    "start_time = time.time()\n",
    "result_n = netcdf_ds.analysed_sst.sel(lat=lat_slice, lon=lon_slice).mean({'lat', 'lon'}).values\n",
    "netcdf_r0 = result_n[0]\n",
    "netcdf_r1 = result_n[-1]\n",
    "print(f\"time to analyze netcdf: {time.time()-start_time}\")\n",
    "\n",
    "start_time = time.time()\n",
    "result_z = list(zarr_ds.analysed_sst.sel(lat=lat_slice, lon=lon_slice).mean({'lat', 'lon'}).values)\n",
    "zarr_r0 = result_z[0]\n",
    "zarr_r1 = result_z[-1]\n",
    "print(f\"time to analyze zarr: {time.time()-start_time}\")\n",
    "\n",
    "# assert(zarr_r0 == netcdf_r0)\n",
    "# assert(zarr_r1 == netcdf_r1)\n",
    "# print('tests passed')\n",
    "print(result_n)\n",
    "print(result_z)"
   ]
  }
 ],
 "metadata": {
  "kernelspec": {
   "display_name": "Python 3",
   "language": "python",
   "name": "python3"
  },
  "language_info": {
   "codemirror_mode": {
    "name": "ipython",
    "version": 3
   },
   "file_extension": ".py",
   "mimetype": "text/x-python",
   "name": "python",
   "nbconvert_exporter": "python",
   "pygments_lexer": "ipython3",
   "version": "3.8.0"
  }
 },
 "nbformat": 4,
 "nbformat_minor": 2
}
