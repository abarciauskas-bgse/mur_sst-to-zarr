{
 "cells": [
  {
   "cell_type": "code",
   "execution_count": 3,
   "metadata": {},
   "outputs": [],
   "source": [
    "from dask.distributed import Client, progress, LocalCluster\n",
    "from rechunker import rechunk\n",
    "import s3fs\n",
    "import zarr"
   ]
  },
  {
   "cell_type": "code",
   "execution_count": 4,
   "metadata": {},
   "outputs": [],
   "source": [
    "s3 = s3fs.S3FileSystem(anon=True, client_kwargs=dict(region_name='us-west-2'))\n",
    "s3_store = s3fs.S3Map(root='mur-sst/zarr', s3=s3, check=False)\n",
    "ds_zarr = zarr.open_consolidated(s3_store, mode='r') #, mask_and_scale=False) - Do we wa    nt mask_and_scale here?"
   ]
  },
  {
   "cell_type": "code",
   "execution_count": 9,
   "metadata": {},
   "outputs": [],
   "source": [
    "ds_subset = ds_zarr['analysed_sst']\n",
    "\n",
    "# Toy example\n",
    "subset = ds_zarr['analysed_sst'] \\\n",
    "  .get_orthogonal_selection((slice(0,100), slice(0,100), slice(0,100)))\n",
    "store = zarr.DirectoryStore('data/example.zarr')\n",
    "root = zarr.group(store, overwrite=True)\n",
    "root.create_dataset('analysed_sst', data=subset, chunks=(2,2,2))\n",
    "source_array = root['analysed_sst']\n",
    "target_chunks = (10,10,10)\n",
    "max_mem = '1MB'"
   ]
  },
  {
   "cell_type": "code",
   "execution_count": 12,
   "metadata": {},
   "outputs": [
    {
     "data": {
      "text/html": [
       "<h2>Rechunked</h2>\n",
       "        <details>\n",
       "          <summary><b>Source</b></summary>\n",
       "          <p><code>&lt;zarr.core.Array (100, 100, 100) int16&gt;</code></p>\n",
       "        </details>\n",
       "        \n",
       "        <details>\n",
       "          <summary><b>Target</b></summary>\n",
       "          <p><code>&lt;zarr.core.Array (100, 100, 100) int16&gt;</code></p>\n",
       "        </details>\n"
      ],
      "text/plain": [
       "<Rechunked>\n",
       "* Source      : <zarr.core.Array '/analysed_sst' (100, 100, 100) int16>\n",
       "* Target      : <zarr.core.Array (100, 100, 100) int16>"
      ]
     },
     "execution_count": 12,
     "metadata": {},
     "output_type": "execute_result"
    }
   ],
   "source": [
    "target_store = 'rechunked.zarr'\n",
    "temp_store = 'rechunked-tmp.zarr'\n",
    "    \n",
    "array_plan = rechunk(\n",
    "    source_array,\n",
    "    target_chunks,\n",
    "    max_mem,\n",
    "    target_store,\n",
    "    temp_store)\n",
    "array_plan"
   ]
  },
  {
   "cell_type": "code",
   "execution_count": 14,
   "metadata": {},
   "outputs": [
    {
     "data": {
      "text/html": [
       "<table style=\"border: 2px solid white;\">\n",
       "<tr>\n",
       "<td style=\"vertical-align: top; border: 0px solid white\">\n",
       "<h3 style=\"text-align: left;\">Client</h3>\n",
       "<ul style=\"text-align: left; list-style: none; margin: 0; padding: 0;\">\n",
       "  <li><b>Scheduler: </b>tcp://127.0.0.1:42147</li>\n",
       "  <li><b>Dashboard: </b><a href='http://127.0.0.1:8787/status' target='_blank'>http://127.0.0.1:8787/status</a></li>\n",
       "</ul>\n",
       "</td>\n",
       "<td style=\"vertical-align: top; border: 0px solid white\">\n",
       "<h3 style=\"text-align: left;\">Cluster</h3>\n",
       "<ul style=\"text-align: left; list-style:none; margin: 0; padding: 0;\">\n",
       "  <li><b>Workers: </b>3</li>\n",
       "  <li><b>Cores: </b>3</li>\n",
       "  <li><b>Memory: </b>6.24 GB</li>\n",
       "</ul>\n",
       "</td>\n",
       "</tr>\n",
       "</table>"
      ],
      "text/plain": [
       "<Client: 'tcp://127.0.0.1:42147' processes=3 threads=3, memory=6.24 GB>"
      ]
     },
     "execution_count": 14,
     "metadata": {},
     "output_type": "execute_result"
    }
   ],
   "source": [
    "cluster = LocalCluster()\n",
    "client = Client(cluster)\n",
    "client"
   ]
  },
  {
   "cell_type": "code",
   "execution_count": 17,
   "metadata": {},
   "outputs": [
    {
     "data": {
      "application/vnd.jupyter.widget-view+json": {
       "model_id": "5cec61cbd92e42a99e3f3ca011d79474",
       "version_major": 2,
       "version_minor": 0
      },
      "text/plain": [
       "VBox()"
      ]
     },
     "metadata": {},
     "output_type": "display_data"
    }
   ],
   "source": [
    "future = array_plan.persist()\n",
    "progress(future)"
   ]
  },
  {
   "cell_type": "code",
   "execution_count": 20,
   "metadata": {},
   "outputs": [],
   "source": [
    "a = zarr.open('rechunked.zarr')"
   ]
  },
  {
   "cell_type": "code",
   "execution_count": 21,
   "metadata": {},
   "outputs": [
    {
     "data": {
      "text/plain": [
       "(10, 10, 10)"
      ]
     },
     "execution_count": 21,
     "metadata": {},
     "output_type": "execute_result"
    }
   ],
   "source": [
    "a.chunks"
   ]
  },
  {
   "cell_type": "code",
   "execution_count": 22,
   "metadata": {},
   "outputs": [
    {
     "data": {
      "text/html": [
       "<table>\n",
       "<tr>\n",
       "<td>\n",
       "<table>\n",
       "  <thead>\n",
       "    <tr><td> </td><th> Array </th><th> Chunk </th></tr>\n",
       "  </thead>\n",
       "  <tbody>\n",
       "    <tr><th> Bytes </th><td> 2.00 MB </td> <td> 2.00 kB </td></tr>\n",
       "    <tr><th> Shape </th><td> (100, 100, 100) </td> <td> (10, 10, 10) </td></tr>\n",
       "    <tr><th> Count </th><td> 1001 Tasks </td><td> 1000 Chunks </td></tr>\n",
       "    <tr><th> Type </th><td> int16 </td><td> numpy.ndarray </td></tr>\n",
       "  </tbody>\n",
       "</table>\n",
       "</td>\n",
       "<td>\n",
       "<svg width=\"250\" height=\"240\" style=\"stroke:rgb(0,0,0);stroke-width:1\" >\n",
       "\n",
       "  <!-- Horizontal lines -->\n",
       "  <line x1=\"10\" y1=\"0\" x2=\"80\" y2=\"70\" style=\"stroke-width:2\" />\n",
       "  <line x1=\"10\" y1=\"12\" x2=\"80\" y2=\"82\" />\n",
       "  <line x1=\"10\" y1=\"24\" x2=\"80\" y2=\"94\" />\n",
       "  <line x1=\"10\" y1=\"36\" x2=\"80\" y2=\"106\" />\n",
       "  <line x1=\"10\" y1=\"48\" x2=\"80\" y2=\"118\" />\n",
       "  <line x1=\"10\" y1=\"60\" x2=\"80\" y2=\"130\" />\n",
       "  <line x1=\"10\" y1=\"72\" x2=\"80\" y2=\"142\" />\n",
       "  <line x1=\"10\" y1=\"84\" x2=\"80\" y2=\"154\" />\n",
       "  <line x1=\"10\" y1=\"96\" x2=\"80\" y2=\"166\" />\n",
       "  <line x1=\"10\" y1=\"108\" x2=\"80\" y2=\"178\" />\n",
       "  <line x1=\"10\" y1=\"120\" x2=\"80\" y2=\"190\" style=\"stroke-width:2\" />\n",
       "\n",
       "  <!-- Vertical lines -->\n",
       "  <line x1=\"10\" y1=\"0\" x2=\"10\" y2=\"120\" style=\"stroke-width:2\" />\n",
       "  <line x1=\"17\" y1=\"7\" x2=\"17\" y2=\"127\" />\n",
       "  <line x1=\"24\" y1=\"14\" x2=\"24\" y2=\"134\" />\n",
       "  <line x1=\"31\" y1=\"21\" x2=\"31\" y2=\"141\" />\n",
       "  <line x1=\"38\" y1=\"28\" x2=\"38\" y2=\"148\" />\n",
       "  <line x1=\"45\" y1=\"35\" x2=\"45\" y2=\"155\" />\n",
       "  <line x1=\"52\" y1=\"42\" x2=\"52\" y2=\"162\" />\n",
       "  <line x1=\"59\" y1=\"49\" x2=\"59\" y2=\"169\" />\n",
       "  <line x1=\"66\" y1=\"56\" x2=\"66\" y2=\"176\" />\n",
       "  <line x1=\"73\" y1=\"63\" x2=\"73\" y2=\"183\" />\n",
       "  <line x1=\"80\" y1=\"70\" x2=\"80\" y2=\"190\" style=\"stroke-width:2\" />\n",
       "\n",
       "  <!-- Colored Rectangle -->\n",
       "  <polygon points=\"10.000000,0.000000 80.588235,70.588235 80.588235,190.588235 10.000000,120.000000\" style=\"fill:#ECB172A0;stroke-width:0\"/>\n",
       "\n",
       "  <!-- Horizontal lines -->\n",
       "  <line x1=\"10\" y1=\"0\" x2=\"130\" y2=\"0\" style=\"stroke-width:2\" />\n",
       "  <line x1=\"17\" y1=\"7\" x2=\"137\" y2=\"7\" />\n",
       "  <line x1=\"24\" y1=\"14\" x2=\"144\" y2=\"14\" />\n",
       "  <line x1=\"31\" y1=\"21\" x2=\"151\" y2=\"21\" />\n",
       "  <line x1=\"38\" y1=\"28\" x2=\"158\" y2=\"28\" />\n",
       "  <line x1=\"45\" y1=\"35\" x2=\"165\" y2=\"35\" />\n",
       "  <line x1=\"52\" y1=\"42\" x2=\"172\" y2=\"42\" />\n",
       "  <line x1=\"59\" y1=\"49\" x2=\"179\" y2=\"49\" />\n",
       "  <line x1=\"66\" y1=\"56\" x2=\"186\" y2=\"56\" />\n",
       "  <line x1=\"73\" y1=\"63\" x2=\"193\" y2=\"63\" />\n",
       "  <line x1=\"80\" y1=\"70\" x2=\"200\" y2=\"70\" style=\"stroke-width:2\" />\n",
       "\n",
       "  <!-- Vertical lines -->\n",
       "  <line x1=\"10\" y1=\"0\" x2=\"80\" y2=\"70\" style=\"stroke-width:2\" />\n",
       "  <line x1=\"22\" y1=\"0\" x2=\"92\" y2=\"70\" />\n",
       "  <line x1=\"34\" y1=\"0\" x2=\"104\" y2=\"70\" />\n",
       "  <line x1=\"46\" y1=\"0\" x2=\"116\" y2=\"70\" />\n",
       "  <line x1=\"58\" y1=\"0\" x2=\"128\" y2=\"70\" />\n",
       "  <line x1=\"70\" y1=\"0\" x2=\"140\" y2=\"70\" />\n",
       "  <line x1=\"82\" y1=\"0\" x2=\"152\" y2=\"70\" />\n",
       "  <line x1=\"94\" y1=\"0\" x2=\"164\" y2=\"70\" />\n",
       "  <line x1=\"106\" y1=\"0\" x2=\"176\" y2=\"70\" />\n",
       "  <line x1=\"118\" y1=\"0\" x2=\"188\" y2=\"70\" />\n",
       "  <line x1=\"130\" y1=\"0\" x2=\"200\" y2=\"70\" style=\"stroke-width:2\" />\n",
       "\n",
       "  <!-- Colored Rectangle -->\n",
       "  <polygon points=\"10.000000,0.000000 130.000000,0.000000 200.588235,70.588235 80.588235,70.588235\" style=\"fill:#ECB172A0;stroke-width:0\"/>\n",
       "\n",
       "  <!-- Horizontal lines -->\n",
       "  <line x1=\"80\" y1=\"70\" x2=\"200\" y2=\"70\" style=\"stroke-width:2\" />\n",
       "  <line x1=\"80\" y1=\"82\" x2=\"200\" y2=\"82\" />\n",
       "  <line x1=\"80\" y1=\"94\" x2=\"200\" y2=\"94\" />\n",
       "  <line x1=\"80\" y1=\"106\" x2=\"200\" y2=\"106\" />\n",
       "  <line x1=\"80\" y1=\"118\" x2=\"200\" y2=\"118\" />\n",
       "  <line x1=\"80\" y1=\"130\" x2=\"200\" y2=\"130\" />\n",
       "  <line x1=\"80\" y1=\"142\" x2=\"200\" y2=\"142\" />\n",
       "  <line x1=\"80\" y1=\"154\" x2=\"200\" y2=\"154\" />\n",
       "  <line x1=\"80\" y1=\"166\" x2=\"200\" y2=\"166\" />\n",
       "  <line x1=\"80\" y1=\"178\" x2=\"200\" y2=\"178\" />\n",
       "  <line x1=\"80\" y1=\"190\" x2=\"200\" y2=\"190\" style=\"stroke-width:2\" />\n",
       "\n",
       "  <!-- Vertical lines -->\n",
       "  <line x1=\"80\" y1=\"70\" x2=\"80\" y2=\"190\" style=\"stroke-width:2\" />\n",
       "  <line x1=\"92\" y1=\"70\" x2=\"92\" y2=\"190\" />\n",
       "  <line x1=\"104\" y1=\"70\" x2=\"104\" y2=\"190\" />\n",
       "  <line x1=\"116\" y1=\"70\" x2=\"116\" y2=\"190\" />\n",
       "  <line x1=\"128\" y1=\"70\" x2=\"128\" y2=\"190\" />\n",
       "  <line x1=\"140\" y1=\"70\" x2=\"140\" y2=\"190\" />\n",
       "  <line x1=\"152\" y1=\"70\" x2=\"152\" y2=\"190\" />\n",
       "  <line x1=\"164\" y1=\"70\" x2=\"164\" y2=\"190\" />\n",
       "  <line x1=\"176\" y1=\"70\" x2=\"176\" y2=\"190\" />\n",
       "  <line x1=\"188\" y1=\"70\" x2=\"188\" y2=\"190\" />\n",
       "  <line x1=\"200\" y1=\"70\" x2=\"200\" y2=\"190\" style=\"stroke-width:2\" />\n",
       "\n",
       "  <!-- Colored Rectangle -->\n",
       "  <polygon points=\"80.588235,70.588235 200.588235,70.588235 200.588235,190.588235 80.588235,190.588235\" style=\"fill:#ECB172A0;stroke-width:0\"/>\n",
       "\n",
       "  <!-- Text -->\n",
       "  <text x=\"140.588235\" y=\"210.588235\" font-size=\"1.0rem\" font-weight=\"100\" text-anchor=\"middle\" >100</text>\n",
       "  <text x=\"220.588235\" y=\"130.588235\" font-size=\"1.0rem\" font-weight=\"100\" text-anchor=\"middle\" transform=\"rotate(-90,220.588235,130.588235)\">100</text>\n",
       "  <text x=\"35.294118\" y=\"175.294118\" font-size=\"1.0rem\" font-weight=\"100\" text-anchor=\"middle\" transform=\"rotate(45,35.294118,175.294118)\">100</text>\n",
       "</svg>\n",
       "</td>\n",
       "</tr>\n",
       "</table>"
      ],
      "text/plain": [
       "dask.array<from-zarr, shape=(100, 100, 100), dtype=int16, chunksize=(10, 10, 10), chunktype=numpy.ndarray>"
      ]
     },
     "execution_count": 22,
     "metadata": {},
     "output_type": "execute_result"
    }
   ],
   "source": [
    "import dask.array as dsa\n",
    "dsa.from_zarr('rechunked.zarr')"
   ]
  },
  {
   "cell_type": "code",
   "execution_count": 27,
   "metadata": {},
   "outputs": [],
   "source": [
    "source_group = ds_zarr['analysed_sst']"
   ]
  },
  {
   "cell_type": "code",
   "execution_count": 35,
   "metadata": {},
   "outputs": [
    {
     "data": {
      "text/html": [
       "<h2>Rechunked</h2>\n",
       "        <details>\n",
       "          <summary><b>Source</b></summary>\n",
       "          <p><code>&lt;zarr.hierarchy.Group &#x27;/&#x27;&gt;</code></p>\n",
       "        </details>\n",
       "        <details>\n",
       "<summary><b>Intermediate</b></summary>\n",
       "<p><code>&lt;zarr.hierarchy.Group &#x27;/&#x27;&gt;</code></p>\n",
       "</details>\n",
       "\n",
       "        <details>\n",
       "          <summary><b>Target</b></summary>\n",
       "          <p><code>&lt;zarr.hierarchy.Group &#x27;/&#x27;&gt;</code></p>\n",
       "        </details>\n"
      ],
      "text/plain": [
       "<Rechunked>\n",
       "* Source      : <zarr.hierarchy.Group '/' read-only>\n",
       "* Intermediate: <zarr.hierarchy.Group '/'>\n",
       "* Target      : <zarr.hierarchy.Group '/'>"
      ]
     },
     "execution_count": 35,
     "metadata": {},
     "output_type": "execute_result"
    }
   ],
   "source": [
    "target_chunks = {\n",
    "    'analysed_sst': {'time': 379, 'lat': 439, 'lon': 360},\n",
    "    'time': None, # don't rechunk this array\n",
    "    'lon': None,\n",
    "    'lat': None,\n",
    "}\n",
    "max_mem = '1GB'\n",
    "\n",
    "target_store = 'group_rechunked2.zarr'\n",
    "temp_store = 'group_rechunked-tmp.zarr'\n",
    "\n",
    "array_plan = rechunk(ds_zarr, target_chunks, max_mem, target_store, temp_store)\n",
    "array_plan"
   ]
  },
  {
   "cell_type": "code",
   "execution_count": null,
   "metadata": {},
   "outputs": [],
   "source": [
    "with ProgressBar():\n",
    "    array_plan.execute()"
   ]
  }
 ],
 "metadata": {
  "kernelspec": {
   "display_name": "zarr_rechunker",
   "language": "python",
   "name": "zarr_rechunker"
  },
  "language_info": {
   "codemirror_mode": {
    "name": "ipython",
    "version": 3
   },
   "file_extension": ".py",
   "mimetype": "text/x-python",
   "name": "python",
   "nbconvert_exporter": "python",
   "pygments_lexer": "ipython3",
   "version": "3.8.4"
  }
 },
 "nbformat": 4,
 "nbformat_minor": 4
}
