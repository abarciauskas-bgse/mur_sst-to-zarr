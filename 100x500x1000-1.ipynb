{
 "cells": [
  {
   "cell_type": "markdown",
   "metadata": {},
   "source": [
    "# Loop and Append to Zarr Store\n",
    "\n",
    "Assumes store has been initiated."
   ]
  },
  {
   "cell_type": "code",
   "execution_count": 1,
   "metadata": {},
   "outputs": [],
   "source": [
    "import numpy as np\n",
    "import xarray as xr\n",
    "import pandas as pd\n",
    "import numcodecs\n",
    "from dask.distributed import Client, progress, LocalCluster\n",
    "import zarr\n",
    "import glob"
   ]
  },
  {
   "cell_type": "code",
   "execution_count": 2,
   "metadata": {},
   "outputs": [
    {
     "data": {
      "text/html": [
       "<table style=\"border: 2px solid white;\">\n",
       "<tr>\n",
       "<td style=\"vertical-align: top; border: 0px solid white\">\n",
       "<h3>Client</h3>\n",
       "<ul>\n",
       "  <li><b>Scheduler: </b>tcp://127.0.0.1:65204\n",
       "  <li><b>Dashboard: </b><a href='http://127.0.0.1:8787/status' target='_blank'>http://127.0.0.1:8787/status</a>\n",
       "</ul>\n",
       "</td>\n",
       "<td style=\"vertical-align: top; border: 0px solid white\">\n",
       "<h3>Cluster</h3>\n",
       "<ul>\n",
       "  <li><b>Workers: </b>4</li>\n",
       "  <li><b>Cores: </b>4</li>\n",
       "  <li><b>Memory: </b>17.18 GB</li>\n",
       "</ul>\n",
       "</td>\n",
       "</tr>\n",
       "</table>"
      ],
      "text/plain": [
       "<Client: scheduler='tcp://127.0.0.1:65204' processes=4 cores=4>"
      ]
     },
     "execution_count": 2,
     "metadata": {},
     "output_type": "execute_result"
    }
   ],
   "source": [
    "cluster = LocalCluster()\n",
    "client = Client(cluster)\n",
    "client"
   ]
  },
  {
   "cell_type": "code",
   "execution_count": 3,
   "metadata": {},
   "outputs": [],
   "source": [
    "# Tell blosc not to use threads since we are using dask to parallelize\n",
    "numcodecs.blosc.use_threads = False"
   ]
  },
  {
   "cell_type": "code",
   "execution_count": 4,
   "metadata": {},
   "outputs": [],
   "source": [
    "# Invariants\n",
    "year = 2002\n",
    "prefix = '/Volumes/Elements/netcdf'\n",
    "chunks = {'time': 100, 'lat': 500, 'lon': 1000}\n",
    "store_dir = '/Volumes/Elements/zarr/100x500x1000-1/'"
   ]
  },
  {
   "cell_type": "code",
   "execution_count": 5,
   "metadata": {},
   "outputs": [
    {
     "data": {
      "text/plain": [
       "<xarray.Dataset>\n",
       "Dimensions:           (lat: 17999, lon: 36000, time: 80)\n",
       "Coordinates:\n",
       "  * lat               (lat) float32 -89.99 -89.98 -89.97 ... 89.97 89.98 89.99\n",
       "  * lon               (lon) float32 -179.99 -179.98 -179.97 ... 179.99 180.0\n",
       "  * time              (time) datetime64[ns] 2002-06-01T09:00:00 ... 2002-08-19T09:00:00\n",
       "Data variables:\n",
       "    analysed_sst      (time, lat, lon) float32 dask.array<chunksize=(10, 500, 1000), meta=np.ndarray>\n",
       "    analysis_error    (time, lat, lon) float32 dask.array<chunksize=(10, 500, 1000), meta=np.ndarray>\n",
       "    mask              (time, lat, lon) float32 dask.array<chunksize=(10, 500, 1000), meta=np.ndarray>\n",
       "    sea_ice_fraction  (time, lat, lon) float32 dask.array<chunksize=(10, 500, 1000), meta=np.ndarray>\n",
       "Attributes:\n",
       "    Conventions:                CF-1.5\n",
       "    Metadata_Conventions:       Unidata Observation Dataset v1.0\n",
       "    acknowledgment:             Please acknowledge the use of these data with...\n",
       "    cdm_data_type:              grid\n",
       "    comment:                    MUR = \"Multi-scale Ultra-high Reolution\"\n",
       "    creator_email:              ghrsst@podaac.jpl.nasa.gov\n",
       "    creator_name:               JPL MUR SST project\n",
       "    creator_url:                http://mur.jpl.nasa.gov\n",
       "    date_created:               20150819T053415Z\n",
       "    easternmost_longitude:      180.0\n",
       "    file_quality_level:         1\n",
       "    gds_version_id:             2.0\n",
       "    geospatial_lat_resolution:  0.01 degrees\n",
       "    geospatial_lat_units:       degrees north\n",
       "    geospatial_lon_resolution:  0.01 degrees\n",
       "    geospatial_lon_units:       degrees east\n",
       "    history:                    created at nominal 4-day latency; replaced nr...\n",
       "    id:                         MUR-JPL-L4-GLOB-v04.1\n",
       "    institution:                Jet Propulsion Laboratory\n",
       "    keywords:                   Oceans > Ocean Temperature > Sea Surface Temp...\n",
       "    keywords_vocabulary:        NASA Global Change Master Directory (GCMD) Sc...\n",
       "    license:                    These data are available free of charge under...\n",
       "    metadata_link:              http://podaac.jpl.nasa.gov/ws/metadata/datase...\n",
       "    naming_authority:           org.ghrsst\n",
       "    netcdf_version_id:          4.1\n",
       "    northernmost_latitude:      90.0\n",
       "    platform:                   Aqua, DMSP, NOAA-POES, Suomi-NPP, Terra\n",
       "    processing_level:           L4\n",
       "    product_version:            04.1\n",
       "    project:                    NASA Making Earth Science Data Records for Us...\n",
       "    publisher_email:            ghrsst-po@nceo.ac.uk\n",
       "    publisher_name:             GHRSST Project Office\n",
       "    publisher_url:              http://www.ghrsst.org\n",
       "    references:                 http://podaac.jpl.nasa.gov/Multi-scale_Ultra-...\n",
       "    sensor:                     AMSR-E, AVHRR, MODIS, SSM/I, VIIRS, in-situ\n",
       "    source:                     AMSRE-REMSS, AVHRR_Pathfinder-PFV5.2-NODC_day...\n",
       "    southernmost_latitude:      -90.0\n",
       "    spatial_resolution:         0.01 degrees\n",
       "    standard_name_vocabulary:   NetCDF Climate and Forecast (CF) Metadata Con...\n",
       "    start_time:                 20020810T090000Z\n",
       "    stop_time:                  20020810T090000Z\n",
       "    summary:                    A merged, multi-sensor L4 Foundation SST anal...\n",
       "    time_coverage_end:          20020810T210000Z\n",
       "    time_coverage_start:        20020809T210000Z\n",
       "    title:                      Daily MUR SST, Final product\n",
       "    uuid:                       27665bc0-d5fc-11e1-9b23-0800200c9a66\n",
       "    westernmost_longitude:      -180.0"
      ]
     },
     "execution_count": 5,
     "metadata": {},
     "output_type": "execute_result"
    }
   ],
   "source": [
    "# open the existing data\n",
    "existing_ds = xr.open_zarr(store_dir)\n",
    "existing_ds"
   ]
  },
  {
   "cell_type": "code",
   "execution_count": 6,
   "metadata": {},
   "outputs": [],
   "source": [
    "def generate_file_list(start_doy, end_doy):   \n",
    "    \"\"\"\n",
    "    Given a start day and end end day, generate a list of file locations.\n",
    "    Assumes a 'prefix' and 'year' variables have already been defined.\n",
    "    'Prefix' should be a local directory or http url and path.\n",
    "    'Year' should be a 4 digit year.\n",
    "    \"\"\"\n",
    "    days_of_year = list(range(start_doy, end_doy))\n",
    "    fileObjs = []\n",
    "\n",
    "    for doy in days_of_year:\n",
    "        file = glob.glob(f\"{prefix}/{year}/{doy}/*.nc\")[0]\n",
    "        fileObjs.append(file)\n",
    "    return fileObjs"
   ]
  },
  {
   "cell_type": "markdown",
   "metadata": {},
   "source": [
    "## Loop and Append"
   ]
  },
  {
   "cell_type": "code",
   "execution_count": null,
   "metadata": {},
   "outputs": [],
   "source": [
    "%%time\n",
    "start_doy = 152\n",
    "end_doy = start_doy\n",
    "number_batches_to_append = 8\n",
    "batch_size = 10\n",
    "final_end_doy = start_doy + (number_batches_to_append * batch_size)\n",
    "\n",
    "while start_doy < final_end_doy:\n",
    "    end_doy = start_doy + batch_size   \n",
    "    fileObjs = generate_file_list(start_doy, end_doy)\n",
    "    print(fileObjs[0])\n",
    "    print(f\"start doy: {start_doy}, file: {fileObjs[0].split('/')[-1]}\")\n",
    "    print(f\"end doy: {end_doy}, file: {fileObjs[-1].split('/')[-1]}\")          \n",
    "    ds = xr.open_mfdataset(fileObjs, chunks=chunks, parallel=True, combine='by_coords')\n",
    "    ds_rechunk = ds.chunk(chunks=chunks)\n",
    "    if start_doy == 152:\n",
    "        ds_rechunk.to_zarr(store_dir, consolidated=True, mode='w')\n",
    "    else:\n",
    "        ds_rechunk.to_zarr(store_dir, consolidated=True, mode='a', append_dim='time')  \n",
    "    start_doy = end_doy\n",
    "    print(f\"Done with this batch\")\n",
    "    print()\n"
   ]
  },
  {
   "cell_type": "markdown",
   "metadata": {},
   "source": [
    "# Now we test"
   ]
  },
  {
   "cell_type": "code",
   "execution_count": 7,
   "metadata": {},
   "outputs": [
    {
     "name": "stdout",
     "output_type": "stream",
     "text": [
      "/Volumes/Elements/netcdf/2002/152/20020601090000-JPL-L4_GHRSST-SSTfnd-MUR-GLOB-v02.0-fv04.1.nc\n",
      "start doy: 152, file: 20020601090000-JPL-L4_GHRSST-SSTfnd-MUR-GLOB-v02.0-fv04.1.nc\n",
      "end doy: 232, file: 20020819090000-JPL-L4_GHRSST-SSTfnd-MUR-GLOB-v02.0-fv04.1.nc\n"
     ]
    }
   ],
   "source": [
    "start_doy = 152\n",
    "end_doy = 232\n",
    "fileObjs = generate_file_list(start_doy, end_doy)\n",
    "print(fileObjs[0])\n",
    "print(f\"start doy: {start_doy}, file: {fileObjs[0].split('/')[-1]}\")\n",
    "print(f\"end doy: {end_doy}, file: {fileObjs[-1].split('/')[-1]}\")          \n",
    "ds_netcdf = xr.open_mfdataset(fileObjs, chunks=chunks, parallel=True, combine='by_coords')"
   ]
  },
  {
   "cell_type": "code",
   "execution_count": 8,
   "metadata": {},
   "outputs": [
    {
     "name": "stdout",
     "output_type": "stream",
     "text": [
      "CPU times: user 9.4 s, sys: 681 ms, total: 10.1 s\n",
      "Wall time: 25.1 s\n"
     ]
    },
    {
     "data": {
      "text/plain": [
       "array([292.37662, 292.4691 , 292.5197 , 292.58658, 292.53912, 292.51685,\n",
       "       292.52118, 292.5701 , 292.6216 , 292.67664, 292.68253, 292.67676,\n",
       "       292.7034 , 292.79172, 292.84357, 292.91672, 292.99316, 293.0918 ,\n",
       "       293.18192, 293.1904 , 293.16492, 293.17023, 293.19888, 293.19775,\n",
       "       293.19473, 293.2463 , 293.29922, 293.33945, 293.3479 , 293.45016,\n",
       "       293.52686, 293.60767, 293.7037 , 293.693  , 293.68152, 293.67117,\n",
       "       293.66757, 293.63553, 293.67514, 293.73798, 293.82193, 293.9002 ,\n",
       "       293.92432, 293.92905, 293.92215, 293.88916, 293.87814, 294.13165,\n",
       "       294.18274, 294.18027, 294.23386, 294.29837, 294.3725 , 294.48947,\n",
       "       294.53397, 294.55908, 294.60065, 294.63242, 294.669  , 294.67908,\n",
       "       294.6661 , 294.96368, 294.96442, 294.9959 , 294.989  , 294.9685 ,\n",
       "       295.1215 , 295.1334 , 295.15146, 295.23117, 295.28967, 295.3094 ,\n",
       "       295.40082, 295.52194, 295.6026 , 295.67233, 295.70416, 295.7932 ,\n",
       "       295.86548, 295.88718], dtype=float32)"
      ]
     },
     "execution_count": 8,
     "metadata": {},
     "output_type": "execute_result"
    }
   ],
   "source": [
    "%%time\n",
    "ds_netcdf.analysed_sst.sel(lat=slice(10,50),lon=slice(-150,-140)).mean({'lat','lon'}).values"
   ]
  },
  {
   "cell_type": "code",
   "execution_count": 9,
   "metadata": {},
   "outputs": [
    {
     "name": "stdout",
     "output_type": "stream",
     "text": [
      "CPU times: user 2.5 s, sys: 246 ms, total: 2.75 s\n",
      "Wall time: 13.1 s\n"
     ]
    },
    {
     "data": {
      "text/plain": [
       "array([292.37662, 292.4691 , 292.5197 , 292.58658, 292.53912, 292.51685,\n",
       "       292.52118, 292.5701 , 292.6216 , 292.67664, 292.68253, 292.67676,\n",
       "       292.7034 , 292.79172, 292.84357, 292.91672, 292.99316, 293.0918 ,\n",
       "       293.18192, 293.1904 , 293.16492, 293.17023, 293.19888, 293.19775,\n",
       "       293.19473, 293.2463 , 293.29922, 293.33945, 293.3479 , 293.45016,\n",
       "       293.52686, 293.60767, 293.7037 , 293.693  , 293.68152, 293.67117,\n",
       "       293.66757, 293.63553, 293.67514, 293.73798, 293.82193, 293.9002 ,\n",
       "       293.92432, 293.92905, 293.92215, 293.88916, 293.87814, 294.13165,\n",
       "       294.18274, 294.18027, 294.23386, 294.29837, 294.3725 , 294.48947,\n",
       "       294.53397, 294.55908, 294.60065, 294.63242, 294.669  , 294.67908,\n",
       "       294.6661 , 294.96368, 294.96442, 294.9959 , 294.989  , 294.9685 ,\n",
       "       295.1215 , 295.1334 , 295.15146, 295.23117, 295.28967, 295.3094 ,\n",
       "       295.40082, 295.52194, 295.6026 , 295.67233, 295.70416, 295.7932 ,\n",
       "       295.86548, 295.88718], dtype=float32)"
      ]
     },
     "execution_count": 9,
     "metadata": {},
     "output_type": "execute_result"
    }
   ],
   "source": [
    "%%time\n",
    "\n",
    "existing_ds.analysed_sst.sel(lat=slice(10,50),lon=slice(-150,-140)).mean({'lat','lon'}).values"
   ]
  }
 ],
 "metadata": {
  "kernelspec": {
   "display_name": "Python 3",
   "language": "python",
   "name": "python3"
  },
  "language_info": {
   "codemirror_mode": {
    "name": "ipython",
    "version": 3
   },
   "file_extension": ".py",
   "mimetype": "text/x-python",
   "name": "python",
   "nbconvert_exporter": "python",
   "pygments_lexer": "ipython3",
   "version": "3.7.3"
  }
 },
 "nbformat": 4,
 "nbformat_minor": 2
}
