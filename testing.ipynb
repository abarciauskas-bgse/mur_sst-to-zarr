{
 "cells": [
  {
   "cell_type": "code",
   "execution_count": 1,
   "metadata": {},
   "outputs": [],
   "source": [
    "import numpy as np\n",
    "import xarray as xr\n",
    "import pandas as pd\n",
    "import numcodecs\n",
    "from dask.distributed import Client, progress, LocalCluster\n",
    "import zarr\n",
    "import glob"
   ]
  },
  {
   "cell_type": "code",
   "execution_count": 3,
   "metadata": {},
   "outputs": [
    {
     "data": {
      "text/plain": [
       "<xarray.Dataset>\n",
       "Dimensions:           (lat: 17999, lon: 36000, time: 20)\n",
       "Coordinates:\n",
       "  * lat               (lat) float32 -89.99 -89.98 -89.97 ... 89.97 89.98 89.99\n",
       "  * lon               (lon) float32 -179.99 -179.98 -179.97 ... 179.99 180.0\n",
       "  * time              (time) datetime64[ns] 2002-06-01T09:00:00 ... 2002-06-20T09:00:00\n",
       "Data variables:\n",
       "    analysed_sst      (time, lat, lon) float32 dask.array<chunksize=(1, 1000, 1000), meta=np.ndarray>\n",
       "    analysis_error    (time, lat, lon) float32 dask.array<chunksize=(1, 1000, 1000), meta=np.ndarray>\n",
       "    mask              (time, lat, lon) float32 dask.array<chunksize=(1, 1000, 1000), meta=np.ndarray>\n",
       "    sea_ice_fraction  (time, lat, lon) float32 dask.array<chunksize=(1, 1000, 1000), meta=np.ndarray>\n",
       "Attributes:\n",
       "    Conventions:                CF-1.5\n",
       "    Metadata_Conventions:       Unidata Observation Dataset v1.0\n",
       "    acknowledgment:             Please acknowledge the use of these data with...\n",
       "    cdm_data_type:              grid\n",
       "    comment:                    MUR = \"Multi-scale Ultra-high Reolution\"\n",
       "    creator_email:              ghrsst@podaac.jpl.nasa.gov\n",
       "    creator_name:               JPL MUR SST project\n",
       "    creator_url:                http://mur.jpl.nasa.gov\n",
       "    date_created:               20150819T092946Z\n",
       "    easternmost_longitude:      180.0\n",
       "    file_quality_level:         1\n",
       "    gds_version_id:             2.0\n",
       "    geospatial_lat_resolution:  0.01 degrees\n",
       "    geospatial_lat_units:       degrees north\n",
       "    geospatial_lon_resolution:  0.01 degrees\n",
       "    geospatial_lon_units:       degrees east\n",
       "    history:                    created at nominal 4-day latency; replaced nr...\n",
       "    id:                         MUR-JPL-L4-GLOB-v04.1\n",
       "    institution:                Jet Propulsion Laboratory\n",
       "    keywords:                   Oceans > Ocean Temperature > Sea Surface Temp...\n",
       "    keywords_vocabulary:        NASA Global Change Master Directory (GCMD) Sc...\n",
       "    license:                    These data are available free of charge under...\n",
       "    metadata_link:              http://podaac.jpl.nasa.gov/ws/metadata/datase...\n",
       "    naming_authority:           org.ghrsst\n",
       "    netcdf_version_id:          4.1\n",
       "    northernmost_latitude:      90.0\n",
       "    platform:                   Aqua, DMSP, NOAA-POES, Suomi-NPP, Terra\n",
       "    processing_level:           L4\n",
       "    product_version:            04.1\n",
       "    project:                    NASA Making Earth Science Data Records for Us...\n",
       "    publisher_email:            ghrsst-po@nceo.ac.uk\n",
       "    publisher_name:             GHRSST Project Office\n",
       "    publisher_url:              http://www.ghrsst.org\n",
       "    references:                 http://podaac.jpl.nasa.gov/Multi-scale_Ultra-...\n",
       "    sensor:                     AMSR-E, AVHRR, MODIS, SSM/I, VIIRS, in-situ\n",
       "    source:                     AMSRE-REMSS, AVHRR_Pathfinder-PFV5.2-NODC_day...\n",
       "    southernmost_latitude:      -90.0\n",
       "    spatial_resolution:         0.01 degrees\n",
       "    standard_name_vocabulary:   NetCDF Climate and Forecast (CF) Metadata Con...\n",
       "    start_time:                 20020617T090000Z\n",
       "    stop_time:                  20020617T090000Z\n",
       "    summary:                    A merged, multi-sensor L4 Foundation SST anal...\n",
       "    time_coverage_end:          20020617T210000Z\n",
       "    time_coverage_start:        20020616T210000Z\n",
       "    title:                      Daily MUR SST, Final product\n",
       "    uuid:                       27665bc0-d5fc-11e1-9b23-0800200c9a66\n",
       "    westernmost_longitude:      -180.0"
      ]
     },
     "execution_count": 3,
     "metadata": {},
     "output_type": "execute_result"
    }
   ],
   "source": [
    "ds_1000 = xr.open_zarr('zarr/test')\n",
    "ds_1000"
   ]
  },
  {
   "cell_type": "code",
   "execution_count": 15,
   "metadata": {},
   "outputs": [
    {
     "name": "stdout",
     "output_type": "stream",
     "text": [
      "CPU times: user 9.79 s, sys: 6.07 s, total: 15.9 s\n",
      "Wall time: 14.2 s\n"
     ]
    },
    {
     "data": {
      "text/plain": [
       "<xarray.DataArray 'analysed_sst' (time: 20)>\n",
       "array([292.99307, 293.01593, 293.0404 , 293.0424 , 293.00082, 292.99283,\n",
       "       293.00195, 293.02985, 293.0633 , 293.08972, 293.1153 , 293.13074,\n",
       "       293.18292, 293.26917, 293.34296, 293.44092, 293.54065, 293.6105 ,\n",
       "       293.6764 , 293.72372], dtype=float32)\n",
       "Coordinates:\n",
       "  * time     (time) datetime64[ns] 2002-06-01T09:00:00 ... 2002-06-20T09:00:00"
      ]
     },
     "execution_count": 15,
     "metadata": {},
     "output_type": "execute_result"
    }
   ],
   "source": [
    "%%time\n",
    "\n",
    "subset = ds_1000.analysed_sst.sel(lat=slice(10,50),lon=slice(-180,-100))\n",
    "subset.load()\n",
    "subset.mean({'lat','lon'})"
   ]
  },
  {
   "cell_type": "code",
   "execution_count": 11,
   "metadata": {},
   "outputs": [
    {
     "data": {
      "text/plain": [
       "<xarray.Dataset>\n",
       "Dimensions:           (lat: 17999, lon: 36000, time: 20)\n",
       "Coordinates:\n",
       "  * lat               (lat) float32 -89.99 -89.98 -89.97 ... 89.97 89.98 89.99\n",
       "  * lon               (lon) float32 -179.99 -179.98 -179.97 ... 179.99 180.0\n",
       "  * time              (time) datetime64[ns] 2002-06-01T09:00:00 ... 2002-06-20T09:00:00\n",
       "Data variables:\n",
       "    analysed_sst      (time, lat, lon) float32 dask.array<chunksize=(5, 500, 500), meta=np.ndarray>\n",
       "    analysis_error    (time, lat, lon) float32 dask.array<chunksize=(5, 500, 500), meta=np.ndarray>\n",
       "    mask              (time, lat, lon) float32 dask.array<chunksize=(5, 500, 500), meta=np.ndarray>\n",
       "    sea_ice_fraction  (time, lat, lon) float32 dask.array<chunksize=(5, 500, 500), meta=np.ndarray>\n",
       "Attributes:\n",
       "    Conventions:                CF-1.5\n",
       "    Metadata_Conventions:       Unidata Observation Dataset v1.0\n",
       "    acknowledgment:             Please acknowledge the use of these data with...\n",
       "    cdm_data_type:              grid\n",
       "    comment:                    MUR = \"Multi-scale Ultra-high Reolution\"\n",
       "    creator_email:              ghrsst@podaac.jpl.nasa.gov\n",
       "    creator_name:               JPL MUR SST project\n",
       "    creator_url:                http://mur.jpl.nasa.gov\n",
       "    date_created:               20150819T093407Z\n",
       "    easternmost_longitude:      180.0\n",
       "    file_quality_level:         1\n",
       "    gds_version_id:             2.0\n",
       "    geospatial_lat_resolution:  0.01 degrees\n",
       "    geospatial_lat_units:       degrees north\n",
       "    geospatial_lon_resolution:  0.01 degrees\n",
       "    geospatial_lon_units:       degrees east\n",
       "    history:                    created at nominal 4-day latency; replaced nr...\n",
       "    id:                         MUR-JPL-L4-GLOB-v04.1\n",
       "    institution:                Jet Propulsion Laboratory\n",
       "    keywords:                   Oceans > Ocean Temperature > Sea Surface Temp...\n",
       "    keywords_vocabulary:        NASA Global Change Master Directory (GCMD) Sc...\n",
       "    license:                    These data are available free of charge under...\n",
       "    metadata_link:              http://podaac.jpl.nasa.gov/ws/metadata/datase...\n",
       "    naming_authority:           org.ghrsst\n",
       "    netcdf_version_id:          4.1\n",
       "    northernmost_latitude:      90.0\n",
       "    platform:                   Aqua, DMSP, NOAA-POES, Suomi-NPP, Terra\n",
       "    processing_level:           L4\n",
       "    product_version:            04.1\n",
       "    project:                    NASA Making Earth Science Data Records for Us...\n",
       "    publisher_email:            ghrsst-po@nceo.ac.uk\n",
       "    publisher_name:             GHRSST Project Office\n",
       "    publisher_url:              http://www.ghrsst.org\n",
       "    references:                 http://podaac.jpl.nasa.gov/Multi-scale_Ultra-...\n",
       "    sensor:                     AMSR-E, AVHRR, MODIS, SSM/I, VIIRS, in-situ\n",
       "    source:                     AMSRE-REMSS, AVHRR_Pathfinder-PFV5.2-NODC_day...\n",
       "    southernmost_latitude:      -90.0\n",
       "    spatial_resolution:         0.01 degrees\n",
       "    standard_name_vocabulary:   NetCDF Climate and Forecast (CF) Metadata Con...\n",
       "    start_time:                 20020616T090000Z\n",
       "    stop_time:                  20020616T090000Z\n",
       "    summary:                    A merged, multi-sensor L4 Foundation SST anal...\n",
       "    time_coverage_end:          20020616T210000Z\n",
       "    time_coverage_start:        20020615T210000Z\n",
       "    title:                      Daily MUR SST, Final product\n",
       "    uuid:                       27665bc0-d5fc-11e1-9b23-0800200c9a66\n",
       "    westernmost_longitude:      -180.0"
      ]
     },
     "execution_count": 11,
     "metadata": {},
     "output_type": "execute_result"
    }
   ],
   "source": [
    "ds_500 = xr.open_zarr('zarr/test-500x500x5-2')\n",
    "ds_500"
   ]
  },
  {
   "cell_type": "code",
   "execution_count": 16,
   "metadata": {},
   "outputs": [
    {
     "name": "stdout",
     "output_type": "stream",
     "text": [
      "CPU times: user 8.87 s, sys: 4.92 s, total: 13.8 s\n",
      "Wall time: 12.3 s\n"
     ]
    },
    {
     "data": {
      "text/plain": [
       "<xarray.DataArray 'analysed_sst' (time: 20)>\n",
       "array([292.99307, 293.01593, 293.0404 , 293.0424 , 293.00082, 292.99283,\n",
       "       293.00195, 293.02985, 293.0633 , 293.08972, 293.1153 , 293.13074,\n",
       "       293.18292, 293.26917, 293.34296, 293.44092, 293.54065, 293.6105 ,\n",
       "       293.6764 , 293.72372], dtype=float32)\n",
       "Coordinates:\n",
       "  * time     (time) datetime64[ns] 2002-06-01T09:00:00 ... 2002-06-20T09:00:00"
      ]
     },
     "execution_count": 16,
     "metadata": {},
     "output_type": "execute_result"
    }
   ],
   "source": [
    "%%time\n",
    "\n",
    "subset = ds_500.analysed_sst.sel(lat=slice(10,50),lon=slice(-180,-100))\n",
    "subset.load()\n",
    "subset.mean({'lat','lon'})"
   ]
  }
 ],
 "metadata": {
  "kernelspec": {
   "display_name": "Python 3",
   "language": "python",
   "name": "python3"
  },
  "language_info": {
   "codemirror_mode": {
    "name": "ipython",
    "version": 3
   },
   "file_extension": ".py",
   "mimetype": "text/x-python",
   "name": "python",
   "nbconvert_exporter": "python",
   "pygments_lexer": "ipython3",
   "version": "3.7.3"
  }
 },
 "nbformat": 4,
 "nbformat_minor": 2
}
