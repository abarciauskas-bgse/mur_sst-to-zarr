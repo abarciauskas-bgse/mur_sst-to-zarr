{
 "cells": [
  {
   "cell_type": "code",
   "execution_count": 1,
   "metadata": {},
   "outputs": [],
   "source": [
    "import numpy as np\n",
    "import xarray as xr\n",
    "import pandas as pd\n",
    "import numcodecs\n",
    "from dask.distributed import Client, progress, LocalCluster\n",
    "import zarr\n",
    "import glob"
   ]
  },
  {
   "cell_type": "code",
   "execution_count": 5,
   "metadata": {},
   "outputs": [],
   "source": [
    "ds_zarr = xr.open_zarr('/Volumes/Elements/zarr/test-500x500x5-2/')"
   ]
  },
  {
   "cell_type": "code",
   "execution_count": 8,
   "metadata": {},
   "outputs": [
    {
     "name": "stdout",
     "output_type": "stream",
     "text": [
      "CPU times: user 24.4 s, sys: 9.81 s, total: 34.2 s\n",
      "Wall time: 10.3 s\n"
     ]
    },
    {
     "data": {
      "text/plain": [
       "array([292.99274, 293.016  , 293.04068, 293.04245, 293.0007 , 292.993  ,\n",
       "       293.00204, 293.02985, 293.06314, 293.08994, 293.1151 , 293.13104,\n",
       "       293.18292, 293.2693 , 293.3431 , 293.4406 , 293.54028, 293.61066,\n",
       "       293.67648, 293.72345, 293.74954, 293.76962, 293.7842 , 293.79865,\n",
       "       293.8131 , 293.85007, 293.89017, 293.98636, 294.0708 , 294.14474,\n",
       "       294.18906, 294.23914, 294.2966 , 294.31686, 294.33334, 294.3644 ,\n",
       "       294.40582, 294.43735, 294.49307, 294.55234, 294.596  , 294.65213,\n",
       "       294.6818 , 294.69547, 294.6951 , 294.7071 , 294.7373 , 294.93655,\n",
       "       294.87177, 294.8785 ], dtype=float32)"
      ]
     },
     "execution_count": 8,
     "metadata": {},
     "output_type": "execute_result"
    }
   ],
   "source": [
    "%%time\n",
    "\n",
    "subset = ds_zarr.analysed_sst.sel(lat=slice(10,50),lon=slice(-180,-100))\n",
    "#subset.load()\n",
    "subset.mean({'lat','lon'}).values"
   ]
  },
  {
   "cell_type": "code",
   "execution_count": 16,
   "metadata": {},
   "outputs": [
    {
     "name": "stdout",
     "output_type": "stream",
     "text": [
      "CPU times: user 8.87 s, sys: 4.92 s, total: 13.8 s\n",
      "Wall time: 12.3 s\n"
     ]
    },
    {
     "data": {
      "text/plain": [
       "<xarray.DataArray 'analysed_sst' (time: 20)>\n",
       "array([292.99307, 293.01593, 293.0404 , 293.0424 , 293.00082, 292.99283,\n",
       "       293.00195, 293.02985, 293.0633 , 293.08972, 293.1153 , 293.13074,\n",
       "       293.18292, 293.26917, 293.34296, 293.44092, 293.54065, 293.6105 ,\n",
       "       293.6764 , 293.72372], dtype=float32)\n",
       "Coordinates:\n",
       "  * time     (time) datetime64[ns] 2002-06-01T09:00:00 ... 2002-06-20T09:00:00"
      ]
     },
     "execution_count": 16,
     "metadata": {},
     "output_type": "execute_result"
    }
   ],
   "source": [
    "%%time\n",
    "\n",
    "subset = ds_500.analysed_sst.sel(lat=slice(10,50),lon=slice(-180,-100))\n",
    "subset.load()\n",
    "subset.mean({'lat','lon'})"
   ]
  }
 ],
 "metadata": {
  "kernelspec": {
   "display_name": "Python 3",
   "language": "python",
   "name": "python3"
  },
  "language_info": {
   "codemirror_mode": {
    "name": "ipython",
    "version": 3
   },
   "file_extension": ".py",
   "mimetype": "text/x-python",
   "name": "python",
   "nbconvert_exporter": "python",
   "pygments_lexer": "ipython3",
   "version": "3.7.3"
  }
 },
 "nbformat": 4,
 "nbformat_minor": 2
}
