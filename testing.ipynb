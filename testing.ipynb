{
 "cells": [
  {
   "cell_type": "code",
   "execution_count": 1,
   "metadata": {},
   "outputs": [],
   "source": [
    "import numpy as np\n",
    "import xarray as xr\n",
    "import pandas as pd\n",
    "import numcodecs\n",
    "from dask.distributed import Client, progress, LocalCluster\n",
    "import zarr\n",
    "import glob"
   ]
  },
  {
   "cell_type": "code",
   "execution_count": 2,
   "metadata": {},
   "outputs": [
    {
     "data": {
      "text/html": [
       "<table style=\"border: 2px solid white;\">\n",
       "<tr>\n",
       "<td style=\"vertical-align: top; border: 0px solid white\">\n",
       "<h3 style=\"text-align: left;\">Client</h3>\n",
       "<ul style=\"text-align: left; list-style: none; margin: 0; padding: 0;\">\n",
       "  <li><b>Scheduler: </b>tcp://127.0.0.1:46455</li>\n",
       "  <li><b>Dashboard: </b><a href='http://127.0.0.1:8787/status' target='_blank'>http://127.0.0.1:8787/status</a>\n",
       "</ul>\n",
       "</td>\n",
       "<td style=\"vertical-align: top; border: 0px solid white\">\n",
       "<h3 style=\"text-align: left;\">Cluster</h3>\n",
       "<ul style=\"text-align: left; list-style:none; margin: 0; padding: 0;\">\n",
       "  <li><b>Workers: </b>8</li>\n",
       "  <li><b>Cores: </b>32</li>\n",
       "  <li><b>Memory: </b>132.24 GB</li>\n",
       "</ul>\n",
       "</td>\n",
       "</tr>\n",
       "</table>"
      ],
      "text/plain": [
       "<Client: 'tcp://127.0.0.1:46455' processes=8 threads=32, memory=132.24 GB>"
      ]
     },
     "execution_count": 2,
     "metadata": {},
     "output_type": "execute_result"
    }
   ],
   "source": [
    "cluster = LocalCluster()\n",
    "client = Client(cluster)\n",
    "client"
   ]
  },
  {
   "cell_type": "code",
   "execution_count": 3,
   "metadata": {},
   "outputs": [
    {
     "name": "stdout",
     "output_type": "stream",
     "text": [
      "1000x1000x5  10x1800x3600  1x1000x1000\t1x4000x8000  5x1800x3600\r\n"
     ]
    }
   ],
   "source": [
    "!ls /data/mursst_netcdf/zarr"
   ]
  },
  {
   "cell_type": "code",
   "execution_count": 5,
   "metadata": {},
   "outputs": [],
   "source": [
    "#xr.open_zarr('/data/mursst_netcdf/zarr/1x1000x1000')"
   ]
  },
  {
   "cell_type": "code",
   "execution_count": 6,
   "metadata": {},
   "outputs": [],
   "source": [
    "def generate_file_list(start_doy, end_doy):   \n",
    "    \"\"\"\n",
    "    Given a start day and end end day, generate a list of file locations.\n",
    "    Assumes a 'prefix' and 'year' variables have already been defined.\n",
    "    'Prefix' should be a local directory or http url and path.\n",
    "    'Year' should be a 4 digit year.\n",
    "    \"\"\"\n",
    "    days_of_year = list(range(start_doy, end_doy))\n",
    "    fileObjs = []\n",
    "\n",
    "    for doy in days_of_year:\n",
    "        if doy < 10:\n",
    "            doy = f\"00{doy}\"\n",
    "        elif doy >= 10 and doy < 100:\n",
    "            doy = f\"0{doy}\"\n",
    "        file = glob.glob(f\"{prefix}/{year}/{doy}/*.nc\")[0]\n",
    "        fileObjs.append(file)\n",
    "    return fileObjs"
   ]
  },
  {
   "cell_type": "code",
   "execution_count": 7,
   "metadata": {},
   "outputs": [],
   "source": [
    "year = 2006\n",
    "start_doy = 1\n",
    "end_doy = 366\n",
    "prefix = '/data/mursst_netcdf/v4.1'\n",
    "zarr_prefix = '/data/mursst_netcdf/zarr/'\n",
    "fileObjs = generate_file_list(start_doy, end_doy)"
   ]
  },
  {
   "cell_type": "code",
   "execution_count": 19,
   "metadata": {},
   "outputs": [
    {
     "name": "stdout",
     "output_type": "stream",
     "text": [
      "\n",
      "NETCDF TESTS:\n",
      "time to open files for chunking 1x4000x8000: 2.6882407665252686 seconds\n",
      "time to calculate mean for 5 day time slice for chunking 1x4000x8000: 4.6291892528533936 seconds\n",
      "time to calculate mean for lat/lon slice for chunking 1x4000x8000: 15.776287078857422 seconds\n",
      "\n",
      "ZARR TESTS:\n",
      "time to open files for chunking 1x4000x8000: 0.12767696380615234 seconds\n",
      "time to calculate mean for 5 day time slice for chunking 1x4000x8000: 3.0347349643707275 seconds\n",
      "time to calculate mean for lat/lon slice for chunking 1x4000x8000: 9.877639055252075 seconds\n",
      "\n",
      "NETCDF TESTS:\n",
      "time to open files for chunking 1x1000x1000: 12.971092700958252 seconds\n",
      "time to calculate mean for 5 day time slice for chunking 1x1000x1000: 13.798918724060059 seconds\n",
      "time to calculate mean for lat/lon slice for chunking 1x1000x1000: 59.00486469268799 seconds\n",
      "\n",
      "ZARR TESTS:\n",
      "time to open files for chunking 1x1000x1000: 5.618469953536987 seconds\n",
      "time to calculate mean for 5 day time slice for chunking 1x1000x1000: 8.03934097290039 seconds\n",
      "time to calculate mean for lat/lon slice for chunking 1x1000x1000: 16.131094694137573 seconds\n",
      "\n",
      "NETCDF TESTS:\n",
      "time to open files for chunking 1000x1000x5: 12.790059566497803 seconds\n",
      "time to calculate mean for 5 day time slice for chunking 1000x1000x5: 13.726073980331421 seconds\n",
      "time to calculate mean for lat/lon slice for chunking 1000x1000x5: 59.363274335861206 seconds\n",
      "\n",
      "ZARR TESTS:\n",
      "time to open files for chunking 1000x1000x5: 0.847759485244751 seconds\n",
      "time to calculate mean for 5 day time slice for chunking 1000x1000x5: 2.0814929008483887 seconds\n",
      "time to calculate mean for lat/lon slice for chunking 1000x1000x5: 5.962030410766602 seconds\n",
      "\n",
      "NETCDF TESTS:\n",
      "time to open files for chunking 5x1800x3600: 3.596250534057617 seconds\n",
      "time to calculate mean for 5 day time slice for chunking 5x1800x3600: 5.870999813079834 seconds\n",
      "time to calculate mean for lat/lon slice for chunking 5x1800x3600: 28.218671321868896 seconds\n",
      "\n",
      "ZARR TESTS:\n",
      "time to open files for chunking 5x1800x3600: 0.2517223358154297 seconds\n",
      "time to calculate mean for 5 day time slice for chunking 5x1800x3600: 3.1940436363220215 seconds\n",
      "time to calculate mean for lat/lon slice for chunking 5x1800x3600: 9.671921014785767 seconds\n",
      "\n",
      "NETCDF TESTS:\n",
      "time to open files for chunking 10x1800x3600: 3.564561128616333 seconds\n",
      "time to calculate mean for 5 day time slice for chunking 10x1800x3600: 5.72567343711853 seconds\n",
      "time to calculate mean for lat/lon slice for chunking 10x1800x3600: 28.00366520881653 seconds\n",
      "\n",
      "ZARR TESTS:\n",
      "time to open files for chunking 10x1800x3600: 0.18140602111816406 seconds\n",
      "time to calculate mean for 5 day time slice for chunking 10x1800x3600: 3.4086806774139404 seconds\n",
      "time to calculate mean for lat/lon slice for chunking 10x1800x3600: 10.155257940292358 seconds\n"
     ]
    }
   ],
   "source": [
    "import time\n",
    "from datetime import datetime\n",
    "chunk_opts = [\n",
    "    {'time': 1, 'lat': 4000, 'lon': 8000},\n",
    "    {'time': 1, 'lat': 1000, 'lon': 1000},    \n",
    "    {'lat': 1000, 'lon': 1000, 'time': 5},\n",
    "    {'time': 5, 'lat': 1800, 'lon': 3600},\n",
    "    {'time': 10, 'lat': 1800, 'lon': 3600}    \n",
    "]\n",
    "test_results = {\n",
    "    'netcdf': {},\n",
    "    'zarr': {}\n",
    "}\n",
    "\n",
    "time_slice = slice(datetime.strptime(f\"{year}-06-01\", '%Y-%m-%d'), datetime.strptime(f\"{year}-06-05\", '%Y-%m-%d'))\n",
    "lat_slice = slice(10, 50)\n",
    "lon_slice = slice(-150, -100)\n",
    "\n",
    "for chunks in chunk_opts:\n",
    "    chunks_str = 'x'.join(map(str, chunks.values()))\n",
    "    test_results['netcdf'][chunks_str] = {}\n",
    "    test_results['zarr'][chunks_str] = {}\n",
    "    print(\"\\nNETCDF TESTS:\")\n",
    "    ###############################\n",
    "    ###############################\n",
    "    # NETCDF Tests\n",
    "    ###############################\n",
    "    # Test opening the store\n",
    "    ###############################\n",
    "    s = time.time()\n",
    "    ds_netcdf = xr.open_mfdataset(fileObjs, chunks=chunks, combine='by_coords', parallel=True)\n",
    "    test_duration = time.time() - s\n",
    "    print(f\"time to open files for chunking {chunks_str}: {test_duration} seconds\")\n",
    "    test_results['netcdf'][chunks_str]['open'] = test_duration\n",
    "    ###############################\n",
    "    # Test averaging globally for a 5 day time slice\n",
    "    ###############################\n",
    "    s = time.time()\n",
    "    ds_netcdf.analysed_sst.sel(time=time_slice).mean({'lat','lon'}).values\n",
    "    test_duration = time.time() - s\n",
    "    print(f\"time to calculate mean for 5 day time slice for chunking {chunks_str}: {test_duration} seconds\")\n",
    "    test_results['netcdf'][chunks_str]['global 5 day slice'] = test_duration\n",
    "    ###############################\n",
    "    # Test averaging for 1 year for a lat/lon bbox\n",
    "    ###############################\n",
    "    s = time.time()\n",
    "    ds_netcdf.analysed_sst.sel(lat=lat_slice, lon=lon_slice).mean({'lat','lon'}).values\n",
    "    test_duration = time.time() - s\n",
    "    print(f\"time to calculate mean for lat/lon slice for chunking {chunks_str}: {test_duration} seconds\")\n",
    "    test_results['netcdf'][chunks_str]['bbox 1 year'] = test_duration\n",
    "    ###############################\n",
    "    ###############################\n",
    "    # Zarr Tests\n",
    "    ###############################\n",
    "    print(\"\\nZARR TESTS:\")\n",
    "    # Test opening the store\n",
    "    ###############################\n",
    "    s = time.time()\n",
    "    ds_zarr = xr.open_zarr(f\"{zarr_prefix}{chunks_str}\")\n",
    "    test_duration = time.time() - s\n",
    "    print(f\"time to open files for chunking {chunks_str}: {test_duration} seconds\")\n",
    "    test_results['zarr'][chunks_str]['open'] = test_duration\n",
    "    ###############################\n",
    "    # Test averaging globally for a 5 day time slice\n",
    "    ###############################\n",
    "    s = time.time()\n",
    "    ds_zarr.analysed_sst.sel(time=time_slice).mean({'lat','lon'}).values\n",
    "    test_duration = time.time() - s\n",
    "    print(f\"time to calculate mean for 5 day time slice for chunking {chunks_str}: {test_duration} seconds\")\n",
    "    test_results['zarr'][chunks_str]['global 5 day slice'] = test_duration\n",
    "    ###############################\n",
    "    # Test averaging for 1 year for a lat/lon bbox\n",
    "    ###############################\n",
    "    s = time.time()\n",
    "    ds_zarr.analysed_sst.sel(lat=lat_slice, lon=lon_slice).mean({'lat','lon'}).values\n",
    "    test_duration = time.time() - s\n",
    "    print(f\"time to calculate mean for lat/lon slice for chunking {chunks_str}: {test_duration} seconds\")      \n",
    "    test_results['zarr'][chunks_str]['bbox 1 year'] = test_duration\n",
    "    "
   ]
  },
  {
   "cell_type": "code",
   "execution_count": 18,
   "metadata": {},
   "outputs": [
    {
     "name": "stdout",
     "output_type": "stream",
     "text": [
      "{\n",
      "  \"netcdf\": {\n",
      "    \"1x4000x8000\": {\n",
      "      \"open\": 2.6454591751098633,\n",
      "      \"global 5 day slice\": 4.864861726760864,\n",
      "      \"bbox 1 year\": 15.742761373519897\n",
      "    },\n",
      "    \"1x1000x1000\": {\n",
      "      \"open\": 12.08592963218689,\n",
      "      \"global 5 day slice\": 13.844393730163574,\n",
      "      \"bbox 1 year\": 59.879070520401\n",
      "    },\n",
      "    \"1000x1000x5\": {\n",
      "      \"open\": 17.32360577583313,\n",
      "      \"global 5 day slice\": 13.869495391845703,\n",
      "      \"bbox 1 year\": 56.50943946838379\n",
      "    },\n",
      "    \"5x1800x3600\": {\n",
      "      \"open\": 3.7167274951934814,\n",
      "      \"global 5 day slice\": 5.786425590515137,\n",
      "      \"bbox 1 year\": 27.096174478530884\n",
      "    },\n",
      "    \"10x1800x3600\": {\n",
      "      \"open\": 3.4323573112487793,\n",
      "      \"global 5 day slice\": 5.743644952774048,\n",
      "      \"bbox 1 year\": 26.81326150894165\n",
      "    }\n",
      "  },\n",
      "  \"zarr\": {\n",
      "    \"1x4000x8000\": {\n",
      "      \"open\": 0.11932897567749023,\n",
      "      \"global 5 day slice\": 3.0444843769073486,\n",
      "      \"bbox 1 year\": 9.824787616729736\n",
      "    },\n",
      "    \"1x1000x1000\": {\n",
      "      \"open\": 9.184297561645508,\n",
      "      \"global 5 day slice\": 4.182809591293335,\n",
      "      \"bbox 1 year\": 15.841439008712769\n",
      "    },\n",
      "    \"1000x1000x5\": {\n",
      "      \"open\": 0.8044757843017578,\n",
      "      \"global 5 day slice\": 2.054959535598755,\n",
      "      \"bbox 1 year\": 5.996865749359131\n",
      "    },\n",
      "    \"5x1800x3600\": {\n",
      "      \"open\": 0.20803427696228027,\n",
      "      \"global 5 day slice\": 3.09132981300354,\n",
      "      \"bbox 1 year\": 9.294830799102783\n",
      "    },\n",
      "    \"10x1800x3600\": {\n",
      "      \"open\": 0.14425039291381836,\n",
      "      \"global 5 day slice\": 3.378746271133423,\n",
      "      \"bbox 1 year\": 10.197948932647705\n",
      "    }\n",
      "  }\n",
      "}\n"
     ]
    }
   ],
   "source": [
    "import json\n",
    "print(json.dumps(test_results, indent=2))"
   ]
  }
 ],
 "metadata": {
  "kernelspec": {
   "display_name": "Python 3",
   "language": "python",
   "name": "python3"
  },
  "language_info": {
   "codemirror_mode": {
    "name": "ipython",
    "version": 3
   },
   "file_extension": ".py",
   "mimetype": "text/x-python",
   "name": "python",
   "nbconvert_exporter": "python",
   "pygments_lexer": "ipython3",
   "version": "3.8.0"
  }
 },
 "nbformat": 4,
 "nbformat_minor": 2
}
