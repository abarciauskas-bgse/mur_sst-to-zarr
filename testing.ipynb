{
 "cells": [
  {
   "cell_type": "code",
   "execution_count": 2,
   "metadata": {},
   "outputs": [],
   "source": [
    "import numpy as np\n",
    "import xarray as xr\n",
    "import pandas as pd\n",
    "import numcodecs\n",
    "from dask.distributed import Client, progress, LocalCluster\n",
    "import zarr\n",
    "import glob"
   ]
  },
  {
   "cell_type": "code",
   "execution_count": 2,
<<<<<<< HEAD
   "metadata": {},
   "outputs": [
    {
     "data": {
      "text/html": [
       "<table style=\"border: 2px solid white;\">\n",
       "<tr>\n",
       "<td style=\"vertical-align: top; border: 0px solid white\">\n",
       "<h3 style=\"text-align: left;\">Client</h3>\n",
       "<ul style=\"text-align: left; list-style: none; margin: 0; padding: 0;\">\n",
       "  <li><b>Scheduler: </b>tcp://127.0.0.1:46759</li>\n",
       "  <li><b>Dashboard: </b><a href='http://127.0.0.1:8787/status' target='_blank'>http://127.0.0.1:8787/status</a>\n",
       "</ul>\n",
       "</td>\n",
       "<td style=\"vertical-align: top; border: 0px solid white\">\n",
       "<h3 style=\"text-align: left;\">Cluster</h3>\n",
       "<ul style=\"text-align: left; list-style:none; margin: 0; padding: 0;\">\n",
       "  <li><b>Workers: </b>8</li>\n",
       "  <li><b>Cores: </b>32</li>\n",
       "  <li><b>Memory: </b>132.24 GB</li>\n",
       "</ul>\n",
       "</td>\n",
       "</tr>\n",
       "</table>"
      ],
      "text/plain": [
       "<Client: 'tcp://127.0.0.1:46759' processes=8 threads=32, memory=132.24 GB>"
      ]
     },
     "execution_count": 2,
=======
   "metadata": {},
   "outputs": [
    {
     "data": {
      "text/html": [
       "<table style=\"border: 2px solid white;\">\n",
       "<tr>\n",
       "<td style=\"vertical-align: top; border: 0px solid white\">\n",
       "<h3 style=\"text-align: left;\">Client</h3>\n",
       "<ul style=\"text-align: left; list-style: none; margin: 0; padding: 0;\">\n",
       "  <li><b>Scheduler: </b>tcp://127.0.0.1:39221</li>\n",
       "  <li><b>Dashboard: </b><a href='http://127.0.0.1:8787/status' target='_blank'>http://127.0.0.1:8787/status</a>\n",
       "</ul>\n",
       "</td>\n",
       "<td style=\"vertical-align: top; border: 0px solid white\">\n",
       "<h3 style=\"text-align: left;\">Cluster</h3>\n",
       "<ul style=\"text-align: left; list-style:none; margin: 0; padding: 0;\">\n",
       "  <li><b>Workers: </b>8</li>\n",
       "  <li><b>Cores: </b>32</li>\n",
       "  <li><b>Memory: </b>132.24 GB</li>\n",
       "</ul>\n",
       "</td>\n",
       "</tr>\n",
       "</table>"
      ],
      "text/plain": [
       "<Client: 'tcp://127.0.0.1:39221' processes=8 threads=32, memory=132.24 GB>"
      ]
     },
     "execution_count": 2,
     "metadata": {},
     "output_type": "execute_result"
    }
   ],
   "source": [
    "cluster = LocalCluster()\n",
    "client = Client(cluster)\n",
    "client"
   ]
  },
  {
   "cell_type": "code",
   "execution_count": 11,
   "metadata": {},
   "outputs": [
    {
     "name": "stderr",
     "output_type": "stream",
     "text": [
      "<ipython-input-11-aaea35e59654>:2: FutureWarning: In xarray version 0.15 the default behaviour of `open_mfdataset`\n",
      "will change. To retain the existing behavior, pass\n",
      "combine='nested'. To use future default behavior, pass\n",
      "combine='by_coords'. See\n",
      "http://xarray.pydata.org/en/stable/combining.html#combining-multi\n",
      "\n",
      "  xr.open_mfdataset(['/data/mursst_netcdf/v4.1/2015/152/20150601090000-JPL-L4_GHRSST-SSTfnd-MUR-GLOB-v02.0-fv04.1.nc'])\n",
      "/opt/conda/envs/netcdf_to_zarr/lib/python3.8/site-packages/xarray/backends/api.py:926: FutureWarning: The datasets supplied have global dimension coordinates. You may want\n",
      "to use the new `combine_by_coords` function (or the\n",
      "`combine='by_coords'` option to `open_mfdataset`) to order the datasets\n",
      "before concatenation. Alternatively, to continue concatenating based\n",
      "on the order the datasets are supplied in future, please use the new\n",
      "`combine_nested` function (or the `combine='nested'` option to\n",
      "open_mfdataset).\n",
      "  combined = auto_combine(\n"
     ]
    },
    {
     "data": {
      "text/html": [
       "<pre>&lt;xarray.Dataset&gt;\n",
       "Dimensions:           (lat: 17999, lon: 36000, time: 1)\n",
       "Coordinates:\n",
       "  * time              (time) datetime64[ns] 2015-06-01T09:00:00\n",
       "  * lat               (lat) float32 -89.99 -89.98 -89.97 ... 89.97 89.98 89.99\n",
       "  * lon               (lon) float32 -179.99 -179.98 -179.97 ... 179.99 180.0\n",
       "Data variables:\n",
       "    analysed_sst      (time, lat, lon) float32 dask.array&lt;chunksize=(1, 17999, 36000), meta=np.ndarray&gt;\n",
       "    analysis_error    (time, lat, lon) float32 dask.array&lt;chunksize=(1, 17999, 36000), meta=np.ndarray&gt;\n",
       "    mask              (time, lat, lon) float32 dask.array&lt;chunksize=(1, 17999, 36000), meta=np.ndarray&gt;\n",
       "    sea_ice_fraction  (time, lat, lon) float32 dask.array&lt;chunksize=(1, 17999, 36000), meta=np.ndarray&gt;\n",
       "Attributes:\n",
       "    Conventions:                CF-1.5\n",
       "    title:                      Daily MUR SST, Final product\n",
       "    summary:                    A merged, multi-sensor L4 Foundation SST anal...\n",
       "    references:                 http://podaac.jpl.nasa.gov/Multi-scale_Ultra-...\n",
       "    institution:                Jet Propulsion Laboratory\n",
       "    history:                    created at nominal 4-day latency; replaced nr...\n",
       "    comment:                    MUR = &quot;Multi-scale Ultra-high Reolution&quot;\n",
       "    license:                    These data are available free of charge under...\n",
       "    id:                         MUR-JPL-L4-GLOB-v04.1\n",
       "    naming_authority:           org.ghrsst\n",
       "    product_version:            04.1\n",
       "    uuid:                       27665bc0-d5fc-11e1-9b23-0800200c9a66\n",
       "    gds_version_id:             2.0\n",
       "    netcdf_version_id:          4.1\n",
       "    date_created:               20150605T013045Z\n",
       "    start_time:                 20150601T090000Z\n",
       "    stop_time:                  20150601T090000Z\n",
       "    time_coverage_start:        20150531T210000Z\n",
       "    time_coverage_end:          20150601T210000Z\n",
       "    file_quality_level:         1\n",
       "    source:                     AVHRR19_G-NAVO, AVHRR_METOP_A-EUMETSAT, MODIS...\n",
       "    platform:                   Aqua, DMSP, NOAA-POES, Suomi-NPP, Terra\n",
       "    sensor:                     AMSR-E, AVHRR, MODIS, SSM/I, VIIRS, in-situ\n",
       "    Metadata_Conventions:       Unidata Observation Dataset v1.0\n",
       "    metadata_link:              http://podaac.jpl.nasa.gov/ws/metadata/datase...\n",
       "    keywords:                   Oceans &gt; Ocean Temperature &gt; Sea Surface Temp...\n",
       "    keywords_vocabulary:        NASA Global Change Master Directory (GCMD) Sc...\n",
       "    standard_name_vocabulary:   NetCDF Climate and Forecast (CF) Metadata Con...\n",
       "    southernmost_latitude:      -90.0\n",
       "    northernmost_latitude:      90.0\n",
       "    westernmost_longitude:      -180.0\n",
       "    easternmost_longitude:      180.0\n",
       "    spatial_resolution:         0.01 degrees\n",
       "    geospatial_lat_units:       degrees north\n",
       "    geospatial_lat_resolution:  0.01 degrees\n",
       "    geospatial_lon_units:       degrees east\n",
       "    geospatial_lon_resolution:  0.01 degrees\n",
       "    acknowledgment:             Please acknowledge the use of these data with...\n",
       "    creator_name:               JPL MUR SST project\n",
       "    creator_email:              ghrsst@podaac.jpl.nasa.gov\n",
       "    creator_url:                http://mur.jpl.nasa.gov\n",
       "    project:                    NASA Making Earth Science Data Records for Us...\n",
       "    publisher_name:             GHRSST Project Office\n",
       "    publisher_url:              http://www.ghrsst.org\n",
       "    publisher_email:            ghrsst-po@nceo.ac.uk\n",
       "    processing_level:           L4\n",
       "    cdm_data_type:              grid</pre>"
      ],
      "text/plain": [
       "<xarray.Dataset>\n",
       "Dimensions:           (lat: 17999, lon: 36000, time: 1)\n",
       "Coordinates:\n",
       "  * time              (time) datetime64[ns] 2015-06-01T09:00:00\n",
       "  * lat               (lat) float32 -89.99 -89.98 -89.97 ... 89.97 89.98 89.99\n",
       "  * lon               (lon) float32 -179.99 -179.98 -179.97 ... 179.99 180.0\n",
       "Data variables:\n",
       "    analysed_sst      (time, lat, lon) float32 dask.array<chunksize=(1, 17999, 36000), meta=np.ndarray>\n",
       "    analysis_error    (time, lat, lon) float32 dask.array<chunksize=(1, 17999, 36000), meta=np.ndarray>\n",
       "    mask              (time, lat, lon) float32 dask.array<chunksize=(1, 17999, 36000), meta=np.ndarray>\n",
       "    sea_ice_fraction  (time, lat, lon) float32 dask.array<chunksize=(1, 17999, 36000), meta=np.ndarray>\n",
       "Attributes:\n",
       "    Conventions:                CF-1.5\n",
       "    title:                      Daily MUR SST, Final product\n",
       "    summary:                    A merged, multi-sensor L4 Foundation SST anal...\n",
       "    references:                 http://podaac.jpl.nasa.gov/Multi-scale_Ultra-...\n",
       "    institution:                Jet Propulsion Laboratory\n",
       "    history:                    created at nominal 4-day latency; replaced nr...\n",
       "    comment:                    MUR = \"Multi-scale Ultra-high Reolution\"\n",
       "    license:                    These data are available free of charge under...\n",
       "    id:                         MUR-JPL-L4-GLOB-v04.1\n",
       "    naming_authority:           org.ghrsst\n",
       "    product_version:            04.1\n",
       "    uuid:                       27665bc0-d5fc-11e1-9b23-0800200c9a66\n",
       "    gds_version_id:             2.0\n",
       "    netcdf_version_id:          4.1\n",
       "    date_created:               20150605T013045Z\n",
       "    start_time:                 20150601T090000Z\n",
       "    stop_time:                  20150601T090000Z\n",
       "    time_coverage_start:        20150531T210000Z\n",
       "    time_coverage_end:          20150601T210000Z\n",
       "    file_quality_level:         1\n",
       "    source:                     AVHRR19_G-NAVO, AVHRR_METOP_A-EUMETSAT, MODIS...\n",
       "    platform:                   Aqua, DMSP, NOAA-POES, Suomi-NPP, Terra\n",
       "    sensor:                     AMSR-E, AVHRR, MODIS, SSM/I, VIIRS, in-situ\n",
       "    Metadata_Conventions:       Unidata Observation Dataset v1.0\n",
       "    metadata_link:              http://podaac.jpl.nasa.gov/ws/metadata/datase...\n",
       "    keywords:                   Oceans > Ocean Temperature > Sea Surface Temp...\n",
       "    keywords_vocabulary:        NASA Global Change Master Directory (GCMD) Sc...\n",
       "    standard_name_vocabulary:   NetCDF Climate and Forecast (CF) Metadata Con...\n",
       "    southernmost_latitude:      -90.0\n",
       "    northernmost_latitude:      90.0\n",
       "    westernmost_longitude:      -180.0\n",
       "    easternmost_longitude:      180.0\n",
       "    spatial_resolution:         0.01 degrees\n",
       "    geospatial_lat_units:       degrees north\n",
       "    geospatial_lat_resolution:  0.01 degrees\n",
       "    geospatial_lon_units:       degrees east\n",
       "    geospatial_lon_resolution:  0.01 degrees\n",
       "    acknowledgment:             Please acknowledge the use of these data with...\n",
       "    creator_name:               JPL MUR SST project\n",
       "    creator_email:              ghrsst@podaac.jpl.nasa.gov\n",
       "    creator_url:                http://mur.jpl.nasa.gov\n",
       "    project:                    NASA Making Earth Science Data Records for Us...\n",
       "    publisher_name:             GHRSST Project Office\n",
       "    publisher_url:              http://www.ghrsst.org\n",
       "    publisher_email:            ghrsst-po@nceo.ac.uk\n",
       "    processing_level:           L4\n",
       "    cdm_data_type:              grid"
      ]
     },
     "execution_count": 11,
>>>>>>> c1039869cee36506bb973207132d6c9d56bfe9d1
     "metadata": {},
     "output_type": "execute_result"
    }
   ],
   "source": [
<<<<<<< HEAD
    "cluster = LocalCluster()\n",
    "client = Client(cluster)\n",
    "client"
   ]
  },
  {
   "cell_type": "code",
   "execution_count": null,
   "metadata": {},
   "outputs": [],
   "source": [
    "#xr.open_zarr('/data/mursst_netcdf/zarr/2x3000x7000')\n",
    "# xr.open_mfdataset(\n",
    "#     ['/data/mursst_netcdf/v4.1/2015/152/20150601090000-JPL-L4_GHRSST-SSTfnd-MUR-GLOB-v02.0-fv04.1.nc'],\n",
    "#     combine='by_coords')"
=======
    "#xr.open_zarr('/data/mursst_netcdf/zarr/1x4000x8000')\n",
    "xr.open_mfdataset(['/data/mursst_netcdf/v4.1/2015/152/20150601090000-JPL-L4_GHRSST-SSTfnd-MUR-GLOB-v02.0-fv04.1.nc'])"
>>>>>>> c1039869cee36506bb973207132d6c9d56bfe9d1
   ]
  },
  {
   "cell_type": "code",
   "execution_count": 3,
   "metadata": {},
   "outputs": [],
   "source": [
    "def generate_file_list(start_doy, end_doy):   \n",
    "    \"\"\"\n",
    "    Given a start day and end end day, generate a list of file locations.\n",
    "    Assumes a 'prefix' and 'year' variables have already been defined.\n",
    "    'Prefix' should be a local directory or http url and path.\n",
    "    'Year' should be a 4 digit year.\n",
    "    \"\"\"\n",
    "    days_of_year = list(range(start_doy, end_doy))\n",
    "    fileObjs = []\n",
    "\n",
    "    for doy in days_of_year:\n",
    "        file = glob.glob(f\"{prefix}/{year}/{doy}/*.nc\")[0]\n",
    "        fileObjs.append(file)\n",
    "    return fileObjs"
   ]
  },
  {
   "cell_type": "code",
   "execution_count": 4,
   "metadata": {},
   "outputs": [],
<<<<<<< HEAD
   "source": [
    "year = 2006\n",
    "start_doy = 152\n",
    "end_doy = 252\n",
    "prefix = '/data/mursst_netcdf/v4.1'\n",
    "zarr_prefix = '/data/mursst_netcdf/zarr/'\n",
    "fileObjs = generate_file_list(start_doy, end_doy)"
   ]
  },
  {
   "cell_type": "code",
   "execution_count": 11,
   "metadata": {},
   "outputs": [
    {
     "name": "stdout",
     "output_type": "stream",
     "text": [
      "1x4000x8000\n",
      "time to open files for chunking 1x4000x8000: 0.781994104385376 seconds\n",
      "time to calculate mean for 5 day time slice for chunking 1x4000x8000: 4.7349512577056885 seconds\n",
      "time to calculate mean for lat/lon slice for chunking 1x4000x8000: 4.255879640579224 seconds\n",
      "/data/mursst_netcdf/zarr/1x4000x8000\n",
      "time to open files for chunking 1x4000x8000: 0.2458817958831787 seconds\n",
      "time to calculate mean for 5 day time slice for chunking 1x4000x8000: 2.9352259635925293 seconds\n",
      "time to calculate mean for lat/lon slice for chunking 1x4000x8000: 2.650949001312256 seconds\n",
      "2x3000x7000\n",
      "time to open files for chunking 2x3000x7000: 0.9736356735229492 seconds\n",
      "time to calculate mean for 5 day time slice for chunking 2x3000x7000: 4.60493278503418 seconds\n",
      "time to calculate mean for lat/lon slice for chunking 2x3000x7000: 5.234242916107178 seconds\n",
      "/data/mursst_netcdf/zarr/2x3000x7000\n",
      "time to open files for chunking 2x3000x7000: 0.04452872276306152 seconds\n",
      "time to calculate mean for 5 day time slice for chunking 2x3000x7000: 3.150022506713867 seconds\n",
      "time to calculate mean for lat/lon slice for chunking 2x3000x7000: 3.561424732208252 seconds\n",
      "5x1800x3600\n",
      "time to open files for chunking 5x1800x3600: 1.2085046768188477 seconds\n",
      "time to calculate mean for 5 day time slice for chunking 5x1800x3600: 5.894567489624023 seconds\n",
      "time to calculate mean for lat/lon slice for chunking 5x1800x3600: 7.596440553665161 seconds\n",
      "/data/mursst_netcdf/zarr/5x1800x3600\n",
      "time to open files for chunking 5x1800x3600: 0.3231527805328369 seconds\n",
      "time to calculate mean for 5 day time slice for chunking 5x1800x3600: 3.1490397453308105 seconds\n",
      "time to calculate mean for lat/lon slice for chunking 5x1800x3600: 2.6431736946105957 seconds\n",
      "10x1400x2800\n",
      "time to open files for chunking 10x1400x2800: 1.5857770442962646 seconds\n",
      "time to calculate mean for 5 day time slice for chunking 10x1400x2800: 6.7964417934417725 seconds\n",
      "time to calculate mean for lat/lon slice for chunking 10x1400x2800: 6.2446510791778564 seconds\n",
      "/data/mursst_netcdf/zarr/10x1400x2800\n",
      "time to open files for chunking 10x1400x2800: 0.05707216262817383 seconds\n",
      "time to calculate mean for 5 day time slice for chunking 10x1400x2800: 3.2850825786590576 seconds\n",
      "time to calculate mean for lat/lon slice for chunking 10x1400x2800: 2.5277557373046875 seconds\n"
     ]
    }
   ],
   "source": [
    "import time\n",
    "from datetime import datetime\n",
    "chunk_opts = [\n",
    "    {'time': 1, 'lat': 4000, 'lon': 8000},\n",
    "    {'time': 2, 'lat': 3000, 'lon': 7000},\n",
    "    {'time': 5, 'lat': 1800, 'lon': 3600},\n",
    "    {'time': 10, 'lat': 1400, 'lon': 2800}    \n",
=======
   "source": [
    "year = 2006\n",
    "start_doy = 152\n",
    "end_doy = 252\n",
    "prefix = '/data/mursst_netcdf/v4.1/'\n",
    "zarr_prefix = '/data/mursst_netcdf/zarr/'\n",
    "fileObjs = generate_file_list(start_doy, end_doy)"
   ]
  },
  {
   "cell_type": "code",
   "execution_count": null,
   "metadata": {},
   "outputs": [],
   "source": [
    "import time\n",
    "from datetime import datetime\n",
    "chunk_opts = [\n",
    "    {'time': 1, 'lat': 4000, 'lon': 8000, 'tests': { 'netcdf': {}, 'zarr': {} }},\n",
    "    {'time': 5, 'lat': 1800, 'lon': 3600, 'tests': { 'netcdf': {}, 'zarr': {} }},\n",
    "    {'time': 10, 'lat': 1400, 'lon': 2800, 'tests': { 'netcdf': {}, 'zarr': {} }}    \n",
>>>>>>> c1039869cee36506bb973207132d6c9d56bfe9d1
    "]\n",
    "test_results = {\n",
    "    'netcdf': {},\n",
    "    'zarr': {}\n",
    "}\n",
    "\n",
    "time_slice = slice(datetime.strptime(f\"{year}-06-01\", '%Y-%m-%d'), datetime.strptime(f\"{year}-06-05\", '%Y-%m-%d'))\n",
    "lat_slice = slice(10, 50)\n",
    "lon_slice = slice(-150, -100)\n",
    "\n",
    "for chunks in chunk_opts:\n",
<<<<<<< HEAD
    "    chunks_str = 'x'.join(map(str, chunks.values()))\n",
    "    print(chunks_str)\n",
    "    test_results['netcdf'][chunks_str] = {}\n",
    "    test_results['zarr'][chunks_str] = {}\n",
=======
    "    zarr_subdirectory = 'x'.join(map(str, list(chunks.values())[0:3]))\n",
    "    print(zarr_subdirectory)\n",
>>>>>>> c1039869cee36506bb973207132d6c9d56bfe9d1
    "    ###############################\n",
    "    ###############################\n",
    "    # NETCDF Tests\n",
    "    ###############################\n",
    "    # Test opening the store\n",
    "    ###############################\n",
    "    s = time.time()\n",
<<<<<<< HEAD
    "    ds_netcdf = xr.open_mfdataset(fileObjs, chunks=chunks, combine='by_coords', parallel=True)\n",
    "    test_duration = time.time() - s\n",
    "    print(f\"time to open files for chunking {chunks_str}: {test_duration} seconds\")\n",
    "    test_results['netcdf'][chunks_str]['open'] = test_duration\n",
=======
    "    ds_netcdf = xr.open_mfdataset(fileObjs, chunks=chunks, parallel=True, combine='by_coords')\n",
    "    test_duration = time.time() - s\n",
    "    print(f\"time to open files for chunking {zarr_subdirectory}: {test_duration} seconds\")\n",
    "    chunks['tests']['netcdf']['open'] = test_duration\n",
>>>>>>> c1039869cee36506bb973207132d6c9d56bfe9d1
    "    ###############################\n",
    "    # Test averaging globally for a 5 day time slice\n",
    "    ###############################\n",
    "    s = time.time()\n",
    "    ds_netcdf.analysed_sst.sel(time=time_slice).mean({'lat','lon'}).values\n",
    "    test_duration = time.time() - s\n",
<<<<<<< HEAD
    "    print(f\"time to calculate mean for 5 day time slice for chunking {chunks_str}: {test_duration} seconds\")\n",
    "    test_results['netcdf'][chunks_str]['global 5 day slice'] = test_duration\n",
=======
    "    print(f\"time to calculate mean for 5 day time slice for chunking {zarr_subdirectory}: {test_duration} seconds\")\n",
    "    chunks['tests']['netcdf']['global 5 day slice'] = test_duration\n",
>>>>>>> c1039869cee36506bb973207132d6c9d56bfe9d1
    "    ###############################\n",
    "    # Test averaging for 100 days for a lat/lon bbox\n",
    "    ###############################\n",
    "    s = time.time()\n",
    "    ds_netcdf.analysed_sst.sel(lat=lat_slice, lon=lon_slice).mean({'lat','lon'}).values\n",
    "    test_duration = time.time() - s\n",
<<<<<<< HEAD
    "    print(f\"time to calculate mean for lat/lon slice for chunking {chunks_str}: {test_duration} seconds\")\n",
    "    test_results['netcdf'][chunks_str]['bbox 100 day'] = test_duration\n",
=======
    "    print(f\"time to calculate mean for lat/lon slice for chunking {zarr_subdirectory}: {test_duration} seconds\")\n",
    "    chunks['tests']['netcdf']['bbox 100 day'] = test_duration\n",
>>>>>>> c1039869cee36506bb973207132d6c9d56bfe9d1
    "    ###############################\n",
    "    ###############################\n",
    "    ###############################\n",
    "    # Zarr Tests\n",
    "    ###############################\n",
    "    # Test opening the store\n",
    "    ###############################\n",
    "    s = time.time()\n",
<<<<<<< HEAD
    "    print(f\"{zarr_prefix}{chunks_str}\")\n",
    "    ds_zarr = xr.open_zarr(f\"{zarr_prefix}{chunks_str}\")\n",
    "    test_duration = time.time() - s\n",
    "    print(f\"time to open files for chunking {chunks_str}: {test_duration} seconds\")\n",
    "    test_results['zarr'][chunks_str]['open'] = test_duration\n",
=======
    "    ds_zarr = xr.open_zarr(f\"{zarr_store}{zarr_prefix}\")\n",
    "    test_duration = time.time() - s\n",
    "    print(f\"time to open files for chunking {zarr_subdirectory}: {test_duration} seconds\")\n",
    "    chunks['tests']['zarr']['open'] = test_duration\n",
>>>>>>> c1039869cee36506bb973207132d6c9d56bfe9d1
    "    ###############################\n",
    "    # Test averaging globally for a 5 day time slice\n",
    "    ###############################\n",
    "    s = time.time()\n",
    "    ds_zarr.analysed_sst.sel(time=time_slice).mean({'lat','lon'}).values\n",
    "    test_duration = time.time() - s\n",
<<<<<<< HEAD
    "    print(f\"time to calculate mean for 5 day time slice for chunking {chunks_str}: {test_duration} seconds\")\n",
    "    test_results['zarr'][chunks_str]['global 5 day slice'] = test_duration\n",
=======
    "    print(f\"time to calculate mean for 5 day time slice for chunking {chunks}: {test_duration} seconds\")\n",
    "    chunks['tests']['zarr']['global 5 day slice'] = test_duration\n",
>>>>>>> c1039869cee36506bb973207132d6c9d56bfe9d1
    "    ###############################\n",
    "    # Test averaging for 100 days for a lat/lon bbox\n",
    "    ###############################\n",
    "    s = time.time()\n",
    "    ds_zarr.analysed_sst.sel(lat=lat_slice, lon=lon_slice).mean({'lat','lon'}).values\n",
    "    test_duration = time.time() - s\n",
<<<<<<< HEAD
    "    print(f\"time to calculate mean for lat/lon slice for chunking {chunks_str}: {test_duration} seconds\")      \n",
    "    test_results['zarr'][chunks_str]['bbox 100 day'] = test_duration\n",
    "    "
   ]
  },
  {
   "cell_type": "code",
   "execution_count": 16,
   "metadata": {},
   "outputs": [
    {
     "name": "stdout",
     "output_type": "stream",
     "text": [
      "{\n",
      "  \"netcdf\": {\n",
      "    \"1x4000x8000\": {\n",
      "      \"open\": 0.781994104385376,\n",
      "      \"global 5 day slice\": 4.7349512577056885,\n",
      "      \"bbox 100 day\": 4.255879640579224\n",
      "    },\n",
      "    \"2x3000x7000\": {\n",
      "      \"open\": 0.9736356735229492,\n",
      "      \"global 5 day slice\": 4.60493278503418,\n",
      "      \"bbox 100 day\": 5.234242916107178\n",
      "    },\n",
      "    \"5x1800x3600\": {\n",
      "      \"open\": 1.2085046768188477,\n",
      "      \"global 5 day slice\": 5.894567489624023,\n",
      "      \"bbox 100 day\": 7.596440553665161\n",
      "    },\n",
      "    \"10x1400x2800\": {\n",
      "      \"open\": 1.5857770442962646,\n",
      "      \"global 5 day slice\": 6.7964417934417725,\n",
      "      \"bbox 100 day\": 6.2446510791778564\n",
      "    }\n",
      "  },\n",
      "  \"zarr\": {\n",
      "    \"1x4000x8000\": {\n",
      "      \"open\": 0.2458817958831787,\n",
      "      \"global 5 day slice\": 2.9352259635925293,\n",
      "      \"bbox 100 day\": 2.650949001312256\n",
      "    },\n",
      "    \"2x3000x7000\": {\n",
      "      \"open\": 0.04452872276306152,\n",
      "      \"global 5 day slice\": 3.150022506713867,\n",
      "      \"bbox 100 day\": 3.561424732208252\n",
      "    },\n",
      "    \"5x1800x3600\": {\n",
      "      \"open\": 0.3231527805328369,\n",
      "      \"global 5 day slice\": 3.1490397453308105,\n",
      "      \"bbox 100 day\": 2.6431736946105957\n",
      "    },\n",
      "    \"10x1400x2800\": {\n",
      "      \"open\": 0.05707216262817383,\n",
      "      \"global 5 day slice\": 3.2850825786590576,\n",
      "      \"bbox 100 day\": 2.5277557373046875\n",
      "    }\n",
      "  }\n",
      "}\n"
     ]
    }
   ],
   "source": [
    "import json\n",
    "print(json.dumps(test_results, indent=2))"
=======
    "    print(f\"time to calculate mean for lat/lon slice for chunking {chunks}: {test_duration} seconds\")      \n",
    "    chunks['tests']['zarr']['bbox 100 day'] = test_duration"
>>>>>>> c1039869cee36506bb973207132d6c9d56bfe9d1
   ]
  }
 ],
 "metadata": {
  "kernelspec": {
   "display_name": "Python 3",
   "language": "python",
   "name": "python3"
  },
  "language_info": {
   "codemirror_mode": {
    "name": "ipython",
    "version": 3
   },
   "file_extension": ".py",
   "mimetype": "text/x-python",
   "name": "python",
   "nbconvert_exporter": "python",
   "pygments_lexer": "ipython3",
   "version": "3.8.0"
  }
 },
 "nbformat": 4,
 "nbformat_minor": 2
}
