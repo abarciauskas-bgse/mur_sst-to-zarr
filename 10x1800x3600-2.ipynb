{
 "cells": [
  {
   "cell_type": "markdown",
   "metadata": {},
   "source": [
    "# Loop and Append to Zarr Store\n",
    "\n",
    "Assumes store has been initiated."
   ]
  },
  {
   "cell_type": "code",
   "execution_count": 1,
   "metadata": {},
   "outputs": [],
   "source": [
    "import numpy as np\n",
    "import xarray as xr\n",
    "import pandas as pd\n",
    "import numcodecs\n",
    "from dask.distributed import Client, progress, LocalCluster\n",
    "import zarr\n",
    "import glob"
   ]
  },
  {
   "cell_type": "code",
   "execution_count": 2,
   "metadata": {},
   "outputs": [
    {
     "data": {
      "text/html": [
       "<table style=\"border: 2px solid white;\">\n",
       "<tr>\n",
       "<td style=\"vertical-align: top; border: 0px solid white\">\n",
       "<h3>Client</h3>\n",
       "<ul>\n",
       "  <li><b>Scheduler: </b>tcp://127.0.0.1:58301\n",
       "  <li><b>Dashboard: </b><a href='http://127.0.0.1:8787/status' target='_blank'>http://127.0.0.1:8787/status</a>\n",
       "</ul>\n",
       "</td>\n",
       "<td style=\"vertical-align: top; border: 0px solid white\">\n",
       "<h3>Cluster</h3>\n",
       "<ul>\n",
       "  <li><b>Workers: </b>4</li>\n",
       "  <li><b>Cores: </b>4</li>\n",
       "  <li><b>Memory: </b>17.18 GB</li>\n",
       "</ul>\n",
       "</td>\n",
       "</tr>\n",
       "</table>"
      ],
      "text/plain": [
       "<Client: scheduler='tcp://127.0.0.1:58301' processes=4 cores=4>"
      ]
     },
     "execution_count": 2,
     "metadata": {},
     "output_type": "execute_result"
    }
   ],
   "source": [
    "cluster = LocalCluster()\n",
    "client = Client(cluster)\n",
    "client"
   ]
  },
  {
   "cell_type": "code",
   "execution_count": 3,
   "metadata": {},
   "outputs": [],
   "source": [
    "# Tell blosc not to use threads since we are using dask to parallelize\n",
    "numcodecs.blosc.use_threads = False"
   ]
  },
  {
   "cell_type": "code",
   "execution_count": 4,
   "metadata": {},
   "outputs": [],
   "source": [
    "# Invariants\n",
    "year = 2002\n",
    "prefix = '/Volumes/Elements/netcdf'\n",
    "chunks = {'time': 10, 'lat': 1800, 'lon': 3600}\n",
    "store_dir = '/Volumes/Elements/zarr/10x1800x3600-2/'"
   ]
  },
  {
   "cell_type": "code",
   "execution_count": 5,
   "metadata": {},
   "outputs": [],
   "source": [
    "def generate_file_list(start_doy, end_doy):   \n",
    "    \"\"\"\n",
    "    Given a start day and end end day, generate a list of file locations.\n",
    "    Assumes a 'prefix' and 'year' variables have already been defined.\n",
    "    'Prefix' should be a local directory or http url and path.\n",
    "    'Year' should be a 4 digit year.\n",
    "    \"\"\"\n",
    "    days_of_year = list(range(start_doy, end_doy))\n",
    "    fileObjs = []\n",
    "\n",
    "    for doy in days_of_year:\n",
    "        file = glob.glob(f\"{prefix}/{year}/{doy}/*.nc\")[0]\n",
    "        fileObjs.append(file)\n",
    "    return fileObjs"
   ]
  },
  {
   "cell_type": "markdown",
   "metadata": {},
   "source": [
    "## Loop and Append"
   ]
  },
  {
   "cell_type": "code",
   "execution_count": 13,
   "metadata": {},
   "outputs": [
    {
     "name": "stdout",
     "output_type": "stream",
     "text": [
      "/Volumes/Elements/netcdf/2002/252/20020909090000-JPL-L4_GHRSST-SSTfnd-MUR-GLOB-v02.0-fv04.1.nc\n",
      "start doy: 252, file: 20020909090000-JPL-L4_GHRSST-SSTfnd-MUR-GLOB-v02.0-fv04.1.nc\n",
      "end doy: 352, file: 20021217090000-JPL-L4_GHRSST-SSTfnd-MUR-GLOB-v02.0-fv04.1.nc\n"
     ]
    },
    {
     "name": "stderr",
     "output_type": "stream",
     "text": [
      "distributed.nanny - WARNING - Worker process 95073 was killed by signal 11\n",
      "distributed.nanny - WARNING - Restarting worker\n",
      "distributed.nanny - WARNING - Worker process 95138 was killed by signal 11\n",
      "distributed.nanny - WARNING - Restarting worker\n"
     ]
    },
    {
     "name": "stdout",
     "output_type": "stream",
     "text": [
      "Done with this batch\n",
      "\n"
     ]
    },
    {
     "ename": "IndexError",
     "evalue": "list index out of range",
     "output_type": "error",
     "traceback": [
      "\u001b[0;31m----------------------------------------------------------------\u001b[0m",
      "\u001b[0;31mIndexError\u001b[0m                     Traceback (most recent call last)",
      "\u001b[0;32m<timed exec>\u001b[0m in \u001b[0;36m<module>\u001b[0;34m\u001b[0m\n",
      "\u001b[0;32m<ipython-input-5-4d58b97a50eb>\u001b[0m in \u001b[0;36mgenerate_file_list\u001b[0;34m(start_doy, end_doy)\u001b[0m\n\u001b[1;32m     10\u001b[0m \u001b[0;34m\u001b[0m\u001b[0m\n\u001b[1;32m     11\u001b[0m     \u001b[0;32mfor\u001b[0m \u001b[0mdoy\u001b[0m \u001b[0;32min\u001b[0m \u001b[0mdays_of_year\u001b[0m\u001b[0;34m:\u001b[0m\u001b[0;34m\u001b[0m\u001b[0;34m\u001b[0m\u001b[0m\n\u001b[0;32m---> 12\u001b[0;31m         \u001b[0mfile\u001b[0m \u001b[0;34m=\u001b[0m \u001b[0mglob\u001b[0m\u001b[0;34m.\u001b[0m\u001b[0mglob\u001b[0m\u001b[0;34m(\u001b[0m\u001b[0;34mf\"{prefix}/{year}/{doy}/*.nc\"\u001b[0m\u001b[0;34m)\u001b[0m\u001b[0;34m[\u001b[0m\u001b[0;36m0\u001b[0m\u001b[0;34m]\u001b[0m\u001b[0;34m\u001b[0m\u001b[0;34m\u001b[0m\u001b[0m\n\u001b[0m\u001b[1;32m     13\u001b[0m         \u001b[0mfileObjs\u001b[0m\u001b[0;34m.\u001b[0m\u001b[0mappend\u001b[0m\u001b[0;34m(\u001b[0m\u001b[0mfile\u001b[0m\u001b[0;34m)\u001b[0m\u001b[0;34m\u001b[0m\u001b[0;34m\u001b[0m\u001b[0m\n\u001b[1;32m     14\u001b[0m     \u001b[0;32mreturn\u001b[0m \u001b[0mfileObjs\u001b[0m\u001b[0;34m\u001b[0m\u001b[0;34m\u001b[0m\u001b[0m\n",
      "\u001b[0;31mIndexError\u001b[0m: list index out of range"
     ]
    }
   ],
   "source": [
    "%%time\n",
    "start_doy = 252\n",
    "end_doy = start_doy\n",
    "number_batches_to_append = 2\n",
    "batch_size = 100\n",
    "final_end_doy = start_doy + (number_batches_to_append * batch_size)\n",
    "\n",
    "while start_doy < final_end_doy:\n",
    "    end_doy = start_doy + batch_size   \n",
    "    fileObjs = generate_file_list(start_doy, end_doy)\n",
    "    print(fileObjs[0])\n",
    "    print(f\"start doy: {start_doy}, file: {fileObjs[0].split('/')[-1]}\")\n",
    "    print(f\"end doy: {end_doy}, file: {fileObjs[-1].split('/')[-1]}\")          \n",
    "    ds = xr.open_mfdataset(fileObjs, chunks=chunks, parallel=True, combine='by_coords')\n",
    "    ds_rechunk = ds.chunk(chunks=chunks)\n",
    "    if start_doy == 152:\n",
    "          ds_rechunk.to_zarr(store_dir, consolidated=True, mode='w')\n",
    "    else:\n",
    "          ds_rechunk.to_zarr(store_dir, consolidated=True, mode='a', append_dim='time')\n",
    "    start_doy = end_doy\n",
    "    print(f\"Done with this batch\")\n",
    "    print()\n"
   ]
  },
  {
   "cell_type": "markdown",
   "metadata": {},
   "source": [
    "## Handling failures\n",
    "\n",
    "In cases where the above method errors for whatever reason, we can create the subset on which the error occurred and then copy to the final datastore"
   ]
  },
  {
   "cell_type": "code",
   "execution_count": null,
   "metadata": {},
   "outputs": [],
   "source": [
    "start_doy = 177\n",
    "end_doy = 182 \n",
    "fileObjs = generate_file_list(start_doy, end_doy)\n",
    "print(fileObjs[0])\n",
    "print(f\"start doy: {start_doy}, file: {fileObjs[0].split('/')[-1]}\")\n",
    "print(f\"end doy: {end_doy}, file: {fileObjs[-1].split('/')[-1]}\")          \n",
    "ds = xr.open_mfdataset(fileObjs, chunks=chunks, parallel=True, combine='by_coords')\n",
    "ds_rechunk = ds.chunk(chunks=chunks)\n",
    "subset_source = '/Volumes/Elements/zarr/subset/'\n",
    "# ds_rechunk.to_zarr(subset_source, consolidated=True, mode='w')\n",
    "\n",
    "# existing_group = zarr.open(store=store_dir)\n",
    "# subset_group = zarr.open(store=subset_source)\n",
    "# zarr.copy(subset_group, existing_group, name='mursst', if_exists='replace')"
   ]
  },
  {
   "cell_type": "markdown",
   "metadata": {},
   "source": [
    "# Now we test"
   ]
  },
  {
   "cell_type": "code",
   "execution_count": null,
   "metadata": {},
   "outputs": [],
   "source": [
    "from datetime import datetime\n",
    "\n",
    "start_doy = 152\n",
    "end_doy = 352\n",
    "fileObjs = generate_file_list(start_doy, end_doy)\n",
    "print(fileObjs[0])\n",
    "print(f\"start doy: {start_doy}, file: {fileObjs[0].split('/')[-1]}\")\n",
    "print(f\"end doy: {end_doy}, file: {fileObjs[-1].split('/')[-1]}\") "
   ]
  },
  {
   "cell_type": "code",
   "execution_count": 43,
   "metadata": {},
   "outputs": [],
   "source": [
    "time_slice = slice(datetime.strptime('2002-06-01', '%Y-%m-%d'), datetime.strptime('2002-07-31', '%Y-%m-%d'))"
   ]
  },
  {
   "cell_type": "code",
   "execution_count": 44,
   "metadata": {},
   "outputs": [
    {
     "name": "stdout",
     "output_type": "stream",
     "text": [
      "CPU times: user 10.7 s, sys: 1.04 s, total: 11.8 s\n",
      "Wall time: 53.6 s\n"
     ]
    },
    {
     "data": {
      "text/plain": [
       "array([293.13544, 293.1559 , 293.20792, 293.23874, 293.21085, 293.21237,\n",
       "       293.19904, 293.19226, 293.18427, 293.1665 , 293.14133, 293.13684,\n",
       "       293.22424, 293.3292 , 293.41763, 293.5121 , 293.59473, 293.65005,\n",
       "       293.73868, 293.7867 , 293.81558, 293.84576, 293.86066, 293.88812,\n",
       "       293.91266, 293.9739 , 294.02036, 294.09225, 294.12524, 294.2123 ,\n",
       "       294.25143, 294.27628, 294.31146, 294.31287, 294.32843, 294.36154,\n",
       "       294.43106, 294.4748 , 294.5472 , 294.63104, 294.6977 , 294.76428,\n",
       "       294.7722 , 294.75235, 294.7109 , 294.704  , 294.70987, 294.7429 ,\n",
       "       294.87073, 294.84946, 294.8339 , 294.8852 , 294.9408 , 295.00803,\n",
       "       295.04187, 295.06644, 295.08246, 295.11935, 295.12418, 295.1287 ],\n",
       "      dtype=float32)"
      ]
     },
     "execution_count": 44,
     "metadata": {},
     "output_type": "execute_result"
    }
   ],
   "source": [
    "%%time\n",
    "ds_netcdf = xr.open_mfdataset(fileObjs, chunks=chunks, parallel=True, combine='by_coords')\n",
    "ds_netcdf.analysed_sst.sel(lat=slice(10,50), lon=slice(-150,-100), time=time_slice).mean({'lat','lon'}).values"
   ]
  },
  {
   "cell_type": "code",
   "execution_count": 42,
   "metadata": {},
   "outputs": [
    {
     "name": "stdout",
     "output_type": "stream",
     "text": [
      "CPU times: user 6.67 s, sys: 696 ms, total: 7.36 s\n",
      "Wall time: 59.6 s\n"
     ]
    },
    {
     "data": {
      "text/plain": [
       "array([293.13544, 293.1559 , 293.20792, 293.23874, 293.21085, 293.21237,\n",
       "       293.19904, 293.19226, 293.18427, 293.1665 , 293.14133, 293.13684,\n",
       "       293.22424, 293.3292 , 293.41763, 293.5121 , 293.59473, 293.65005,\n",
       "       293.73868, 293.7867 , 293.81558, 293.84576, 293.86066, 293.88812,\n",
       "       293.91266, 293.9739 , 294.02036, 294.09225, 294.12524, 294.2123 ,\n",
       "       294.25143, 294.27628, 294.31146, 294.31287, 294.32843, 294.36154,\n",
       "       294.43106, 294.4748 , 294.5472 , 294.63104, 294.6977 , 294.76428,\n",
       "       294.7722 , 294.75235, 294.7109 , 294.704  , 294.70987, 294.7429 ,\n",
       "       294.87073, 294.84946, 294.8339 , 294.8852 , 294.9408 , 295.00803,\n",
       "       295.04187, 295.06644, 295.08246, 295.11935, 295.12418, 295.1287 ,\n",
       "       295.1586 , 295.48337, 295.47583, 295.46277, 295.4418 , 295.36972,\n",
       "       295.4617 , 295.49762, 295.52625, 295.5996 , 295.69183, 295.8068 ,\n",
       "       295.93246, 295.9977 , 296.00717, 296.0098 , 296.0006 , 296.03256,\n",
       "       296.06427, 296.05164, 296.04807, 296.08508, 296.12012, 296.1199 ,\n",
       "       296.09177, 296.0039 , 295.96194, 295.9422 , 295.96936, 295.98453],\n",
       "      dtype=float32)"
      ]
     },
     "execution_count": 42,
     "metadata": {},
     "output_type": "execute_result"
    }
   ],
   "source": [
    "%%time\n",
    "existing_ds = xr.open_zarr(store_dir)\n",
    "existing_ds.analysed_sst.sel(lat=slice(10,50),lon=slice(-150,-100), time=time_slice).mean({'lat','lon'}).values"
   ]
  }
 ],
 "metadata": {
  "kernelspec": {
   "display_name": "Python 3",
   "language": "python",
   "name": "python3"
  },
  "language_info": {
   "codemirror_mode": {
    "name": "ipython",
    "version": 3
   },
   "file_extension": ".py",
   "mimetype": "text/x-python",
   "name": "python",
   "nbconvert_exporter": "python",
   "pygments_lexer": "ipython3",
   "version": "3.7.3"
  }
 },
 "nbformat": 4,
 "nbformat_minor": 2
}
