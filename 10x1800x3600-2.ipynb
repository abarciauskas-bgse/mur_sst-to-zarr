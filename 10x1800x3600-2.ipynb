{
 "cells": [
  {
   "cell_type": "markdown",
   "metadata": {},
   "source": [
    "# Loop and Append to Zarr Store\n",
    "\n",
    "Assumes store has been initiated."
   ]
  },
  {
   "cell_type": "code",
   "execution_count": 1,
   "metadata": {},
   "outputs": [],
   "source": [
    "import numpy as np\n",
    "import xarray as xr\n",
    "import pandas as pd\n",
    "import numcodecs\n",
    "from dask.distributed import Client, progress, LocalCluster\n",
    "import zarr\n",
    "import glob"
   ]
  },
  {
   "cell_type": "code",
   "execution_count": 2,
   "metadata": {},
   "outputs": [
    {
     "data": {
      "text/html": [
       "<table style=\"border: 2px solid white;\">\n",
       "<tr>\n",
       "<td style=\"vertical-align: top; border: 0px solid white\">\n",
       "<h3>Client</h3>\n",
       "<ul>\n",
       "  <li><b>Scheduler: </b>tcp://127.0.0.1:56477\n",
       "  <li><b>Dashboard: </b><a href='http://127.0.0.1:8787/status' target='_blank'>http://127.0.0.1:8787/status</a>\n",
       "</ul>\n",
       "</td>\n",
       "<td style=\"vertical-align: top; border: 0px solid white\">\n",
       "<h3>Cluster</h3>\n",
       "<ul>\n",
       "  <li><b>Workers: </b>4</li>\n",
       "  <li><b>Cores: </b>4</li>\n",
       "  <li><b>Memory: </b>17.18 GB</li>\n",
       "</ul>\n",
       "</td>\n",
       "</tr>\n",
       "</table>"
      ],
      "text/plain": [
       "<Client: scheduler='tcp://127.0.0.1:56477' processes=4 cores=4>"
      ]
     },
     "execution_count": 2,
     "metadata": {},
     "output_type": "execute_result"
    }
   ],
   "source": [
    "cluster = LocalCluster()\n",
    "client = Client(cluster)\n",
    "client"
   ]
  },
  {
   "cell_type": "code",
   "execution_count": 3,
   "metadata": {},
   "outputs": [],
   "source": [
    "# Tell blosc not to use threads since we are using dask to parallelize\n",
    "numcodecs.blosc.use_threads = False"
   ]
  },
  {
   "cell_type": "code",
   "execution_count": 4,
   "metadata": {},
   "outputs": [],
   "source": [
    "# Invariants\n",
    "year = 2002\n",
    "prefix = '/Volumes/Elements/netcdf'\n",
    "chunks = {'time': 10, 'lat': 1800, 'lon': 3600}\n",
    "store_dir = '/Volumes/Elements/zarr/10x1800x3600-2/'"
   ]
  },
  {
   "cell_type": "code",
   "execution_count": 6,
   "metadata": {},
   "outputs": [],
   "source": [
    "# open the existing data\n",
    "# existing_ds = xr.open_zarr(store_dir)\n",
    "# existing_ds"
   ]
  },
  {
   "cell_type": "code",
   "execution_count": 5,
   "metadata": {},
   "outputs": [],
   "source": [
    "def generate_file_list(start_doy, end_doy):   \n",
    "    \"\"\"\n",
    "    Given a start day and end end day, generate a list of file locations.\n",
    "    Assumes a 'prefix' and 'year' variables have already been defined.\n",
    "    'Prefix' should be a local directory or http url and path.\n",
    "    'Year' should be a 4 digit year.\n",
    "    \"\"\"\n",
    "    days_of_year = list(range(start_doy, end_doy))\n",
    "    fileObjs = []\n",
    "\n",
    "    for doy in days_of_year:\n",
    "        file = glob.glob(f\"{prefix}/{year}/{doy}/*.nc\")[0]\n",
    "        fileObjs.append(file)\n",
    "    return fileObjs"
   ]
  },
  {
   "cell_type": "markdown",
   "metadata": {},
   "source": [
    "## Loop and Append"
   ]
  },
  {
   "cell_type": "code",
   "execution_count": null,
   "metadata": {},
   "outputs": [
    {
     "name": "stdout",
     "output_type": "stream",
     "text": [
      "/Volumes/Elements/netcdf/2002/152/20020601090000-JPL-L4_GHRSST-SSTfnd-MUR-GLOB-v02.0-fv04.1.nc\n",
      "start doy: 152, file: 20020601090000-JPL-L4_GHRSST-SSTfnd-MUR-GLOB-v02.0-fv04.1.nc\n",
      "end doy: 252, file: 20020908090000-JPL-L4_GHRSST-SSTfnd-MUR-GLOB-v02.0-fv04.1.nc\n"
     ]
    }
   ],
   "source": [
    "%%time\n",
    "start_doy = 152\n",
    "end_doy = start_doy\n",
    "number_batches_to_append = 1\n",
    "batch_size = 100\n",
    "final_end_doy = start_doy + (number_batches_to_append * batch_size)\n",
    "\n",
    "while start_doy < final_end_doy:\n",
    "    end_doy = start_doy + batch_size   \n",
    "    fileObjs = generate_file_list(start_doy, end_doy)\n",
    "    print(fileObjs[0])\n",
    "    print(f\"start doy: {start_doy}, file: {fileObjs[0].split('/')[-1]}\")\n",
    "    print(f\"end doy: {end_doy}, file: {fileObjs[-1].split('/')[-1]}\")          \n",
    "    ds = xr.open_mfdataset(fileObjs, chunks=chunks, parallel=True, combine='by_coords')\n",
    "    ds_rechunk = ds.chunk(chunks=chunks)\n",
    "    if start_doy == 152:\n",
    "          ds_rechunk.to_zarr(store_dir, consolidated=True, mode='w')\n",
    "    else:\n",
    "          ds_rechunk.to_zarr(store_dir, consolidated=True, mode='a', append_dim='time')\n",
    "    start_doy = end_doy\n",
    "    print(f\"Done with this batch\")\n",
    "    print()\n"
   ]
  },
  {
   "cell_type": "markdown",
   "metadata": {},
   "source": [
    "## Handling failures\n",
    "\n",
    "In cases where the above method errors for whatever reason, we can create the subset on which the error occurred and then copy to the final datastore"
   ]
  },
  {
   "cell_type": "code",
   "execution_count": null,
   "metadata": {},
   "outputs": [],
   "source": [
    "start_doy = 177\n",
    "end_doy = 182 \n",
    "fileObjs = generate_file_list(start_doy, end_doy)\n",
    "print(fileObjs[0])\n",
    "print(f\"start doy: {start_doy}, file: {fileObjs[0].split('/')[-1]}\")\n",
    "print(f\"end doy: {end_doy}, file: {fileObjs[-1].split('/')[-1]}\")          \n",
    "ds = xr.open_mfdataset(fileObjs, chunks=chunks, parallel=True, combine='by_coords')\n",
    "ds_rechunk = ds.chunk(chunks=chunks)\n",
    "subset_source = '/Volumes/Elements/zarr/subset/'\n",
    "# ds_rechunk.to_zarr(subset_source, consolidated=True, mode='w')\n",
    "\n",
    "# existing_group = zarr.open(store=store_dir)\n",
    "# subset_group = zarr.open(store=subset_source)\n",
    "# zarr.copy(subset_group, existing_group, name='mursst', if_exists='replace')"
   ]
  },
  {
   "cell_type": "markdown",
   "metadata": {},
   "source": [
    "# Now we test"
   ]
  },
  {
   "cell_type": "code",
   "execution_count": null,
   "metadata": {},
   "outputs": [],
   "source": [
    "start_doy = 152\n",
    "end_doy = 232\n",
    "fileObjs = generate_file_list(start_doy, end_doy)\n",
    "print(fileObjs[0])\n",
    "print(f\"start doy: {start_doy}, file: {fileObjs[0].split('/')[-1]}\")\n",
    "print(f\"end doy: {end_doy}, file: {fileObjs[-1].split('/')[-1]}\")          \n",
    "ds_netcdf = xr.open_mfdataset(fileObjs, chunks=chunks, parallel=True, combine='by_coords')"
   ]
  },
  {
   "cell_type": "code",
   "execution_count": null,
   "metadata": {},
   "outputs": [],
   "source": [
    "%%time\n",
    "ds_netcdf.analysed_sst.sel(lat=slice(10,50),lon=slice(-150,-100)).mean({'lat','lon'}).values"
   ]
  },
  {
   "cell_type": "code",
   "execution_count": null,
   "metadata": {},
   "outputs": [],
   "source": [
    "%%time\n",
    "\n",
    "existing_ds.analysed_sst.sel(lat=slice(10,50),lon=slice(-150,-100)).mean({'lat','lon'}).values"
   ]
  }
 ],
 "metadata": {
  "kernelspec": {
   "display_name": "Python 3",
   "language": "python",
   "name": "python3"
  },
  "language_info": {
   "codemirror_mode": {
    "name": "ipython",
    "version": 3
   },
   "file_extension": ".py",
   "mimetype": "text/x-python",
   "name": "python",
   "nbconvert_exporter": "python",
   "pygments_lexer": "ipython3",
   "version": "3.7.3"
  }
 },
 "nbformat": 4,
 "nbformat_minor": 2
}
