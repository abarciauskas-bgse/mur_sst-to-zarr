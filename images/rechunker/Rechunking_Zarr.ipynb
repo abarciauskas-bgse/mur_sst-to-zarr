{
 "cells": [
  {
   "cell_type": "code",
   "execution_count": null,
   "metadata": {},
   "outputs": [],
   "source": [
    "!pip install xarray\n",
    "!pip install ipytree"
   ]
  },
  {
   "cell_type": "code",
   "execution_count": 1,
   "metadata": {},
   "outputs": [],
   "source": [
    "from dask.distributed import Client, progress, LocalCluster\n",
    "from rechunker import rechunk\n",
    "import s3fs\n",
    "#import xarray as xr\n",
    "import zarr\n",
    "import dask.array as dsa\n",
    "import shutil\n",
    "from dask.diagnostics import ProgressBar"
   ]
  },
  {
   "cell_type": "markdown",
   "metadata": {},
   "source": [
    "## Start the Dask Cluster"
   ]
  },
  {
   "cell_type": "code",
   "execution_count": 2,
   "metadata": {},
   "outputs": [
    {
     "data": {
      "text/html": [
       "<table style=\"border: 2px solid white;\">\n",
       "<tr>\n",
       "<td style=\"vertical-align: top; border: 0px solid white\">\n",
       "<h3 style=\"text-align: left;\">Client</h3>\n",
       "<ul style=\"text-align: left; list-style: none; margin: 0; padding: 0;\">\n",
       "  <li><b>Scheduler: </b>tcp://127.0.0.1:35341</li>\n",
       "  <li><b>Dashboard: </b><a href='http://127.0.0.1:8787/status' target='_blank'>http://127.0.0.1:8787/status</a></li>\n",
       "</ul>\n",
       "</td>\n",
       "<td style=\"vertical-align: top; border: 0px solid white\">\n",
       "<h3 style=\"text-align: left;\">Cluster</h3>\n",
       "<ul style=\"text-align: left; list-style:none; margin: 0; padding: 0;\">\n",
       "  <li><b>Workers: </b>20</li>\n",
       "  <li><b>Cores: </b>80</li>\n",
       "  <li><b>Memory: </b>524.29 GB</li>\n",
       "</ul>\n",
       "</td>\n",
       "</tr>\n",
       "</table>"
      ],
      "text/plain": [
       "<Client: 'tcp://127.0.0.1:35341' processes=20 threads=80, memory=524.29 GB>"
      ]
     },
     "execution_count": 2,
     "metadata": {},
     "output_type": "execute_result"
    }
   ],
   "source": [
    "cluster = LocalCluster(n_workers=20)\n",
    "client = Client(cluster)\n",
    "client\n",
    "# client.close()\n",
    "# cluster.close()"
   ]
  },
  {
   "cell_type": "markdown",
   "metadata": {},
   "source": [
    "## Load the MUR SST Dataset from AWS PDS S3"
   ]
  },
  {
   "cell_type": "code",
   "execution_count": 3,
   "metadata": {},
   "outputs": [],
   "source": [
    "s3 = s3fs.S3FileSystem(anon=True, client_kwargs=dict(region_name='us-west-2'))\n",
    "s3_store = s3fs.S3Map(root='mur-sst/zarr', s3=s3, check=False)\n",
    "ds_zarr = zarr.open_consolidated(s3_store, mode='r')"
   ]
  },
  {
   "cell_type": "code",
   "execution_count": null,
   "metadata": {},
   "outputs": [],
   "source": [
    "%%time\n",
    "#ds = xr.open_zarr(s3_store, consolidated=True)"
   ]
  },
  {
   "cell_type": "code",
   "execution_count": null,
   "metadata": {},
   "outputs": [],
   "source": [
    "print(zarr.tree(ds_zarr))"
   ]
  },
  {
   "cell_type": "markdown",
   "metadata": {},
   "source": [
    "## Rechunker Plan"
   ]
  },
  {
   "cell_type": "code",
   "execution_count": 4,
   "metadata": {},
   "outputs": [],
   "source": [
    "s3 = s3fs.S3FileSystem(client_kwargs=dict(region_name='us-west-2'), default_fill_cache=False, skip_instance_cache=True)\n",
    "s3_rechunk_store = s3fs.S3Map(root='ds-projects/eodc/mursst/6443x100x100-group.zarr', create=True, s3=s3)\n",
    "# Note this path must exist in S3 or will raise rechunker assertion, `assert temp_store_or_group is not None`\n",
    "s3_tmp_store = s3fs.S3Map(root='ds-projects/eodc/mursst/tmp.zarr', create=True, s3=s3)"
   ]
  },
  {
   "cell_type": "code",
   "execution_count": 6,
   "metadata": {},
   "outputs": [
    {
     "name": "stdout",
     "output_type": "stream",
     "text": [
      "{}\n",
      "hi\n",
      "<zarr.hierarchy.Group '/'>\n",
      "{}\n",
      "hi\n",
      "<zarr.hierarchy.Group '/'>\n",
      "{}\n",
      "hi\n",
      "<zarr.hierarchy.Group '/'>\n",
      "{}\n",
      "hi\n",
      "<zarr.hierarchy.Group '/'>\n",
      "{}\n",
      "{}\n",
      "{}\n"
     ]
    },
    {
     "data": {
      "text/html": [
       "<h2>Rechunked</h2>\n",
       "        <details>\n",
       "          <summary><b>Source</b></summary>\n",
       "          <p><code>&lt;zarr.hierarchy.Group &#x27;/&#x27;&gt;</code></p>\n",
       "        </details>\n",
       "        <details>\n",
       "<summary><b>Intermediate</b></summary>\n",
       "<p><code>&lt;zarr.hierarchy.Group &#x27;/&#x27;&gt;</code></p>\n",
       "</details>\n",
       "\n",
       "        <details>\n",
       "          <summary><b>Target</b></summary>\n",
       "          <p><code>&lt;zarr.hierarchy.Group &#x27;/&#x27;&gt;</code></p>\n",
       "        </details>\n"
      ],
      "text/plain": [
       "<Rechunked>\n",
       "* Source      : <zarr.hierarchy.Group '/' read-only>\n",
       "* Intermediate: <zarr.hierarchy.Group '/'>\n",
       "* Target      : <zarr.hierarchy.Group '/'>"
      ]
     },
     "execution_count": 6,
     "metadata": {},
     "output_type": "execute_result"
    }
   ],
   "source": [
    "target_chunks = {\n",
    "    'analysed_sst': {'time': 6443, 'lat': 100, 'lon': 100},\n",
    "    'analysis_error': {'time': 6443, 'lat': 100, 'lon': 100},\n",
    "    'mask': {'time': 6443, 'lat': 100, 'lon': 100},\n",
    "    'sea_ice_fraction': {'time': 6443, 'lat': 100, 'lon': 100},\n",
    "    'lat': None,\n",
    "    'lon': None,\n",
    "    'time': None\n",
    "}\n",
    "max_mem = '2GB'\n",
    "\n",
    "array_plan = rechunk(ds_zarr, target_chunks, max_mem, s3_rechunk_store, s3_tmp_store)\n",
    "array_plan"
   ]
  },
  {
   "cell_type": "code",
   "execution_count": null,
   "metadata": {},
   "outputs": [],
   "source": [
    "with ProgressBar():\n",
    "    array_plan.execute()"
   ]
  }
 ],
 "metadata": {
  "kernelspec": {
   "display_name": "zarr_rechunker",
   "language": "python",
   "name": "zarr_rechunker"
  },
  "language_info": {
   "codemirror_mode": {
    "name": "ipython",
    "version": 3
   },
   "file_extension": ".py",
   "mimetype": "text/x-python",
   "name": "python",
   "nbconvert_exporter": "python",
   "pygments_lexer": "ipython3",
   "version": "3.8.4"
  }
 },
 "nbformat": 4,
 "nbformat_minor": 4
}
