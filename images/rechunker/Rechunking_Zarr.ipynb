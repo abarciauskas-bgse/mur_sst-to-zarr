{
 "cells": [
  {
   "cell_type": "code",
   "execution_count": null,
   "metadata": {},
   "outputs": [],
   "source": [
    "!pip install xarray\n",
    "!pip install ipytree"
   ]
  },
  {
   "cell_type": "code",
   "execution_count": 1,
   "metadata": {},
   "outputs": [],
   "source": [
    "from dask.distributed import Client, progress, LocalCluster\n",
    "from rechunker import rechunk\n",
    "import s3fs\n",
    "import xarray as xr\n",
    "import zarr\n",
    "import dask.array as dsa\n",
    "import shutil\n",
    "from dask.diagnostics import ProgressBar"
   ]
  },
  {
   "cell_type": "markdown",
   "metadata": {},
   "source": [
    "## Start the Dask Cluster"
   ]
  },
  {
   "cell_type": "code",
   "execution_count": 2,
   "metadata": {},
   "outputs": [
    {
     "data": {
      "text/html": [
       "<table style=\"border: 2px solid white;\">\n",
       "<tr>\n",
       "<td style=\"vertical-align: top; border: 0px solid white\">\n",
       "<h3 style=\"text-align: left;\">Client</h3>\n",
       "<ul style=\"text-align: left; list-style: none; margin: 0; padding: 0;\">\n",
       "  <li><b>Scheduler: </b>tcp://127.0.0.1:37539</li>\n",
       "  <li><b>Dashboard: </b><a href='http://127.0.0.1:8787/status' target='_blank'>http://127.0.0.1:8787/status</a></li>\n",
       "</ul>\n",
       "</td>\n",
       "<td style=\"vertical-align: top; border: 0px solid white\">\n",
       "<h3 style=\"text-align: left;\">Cluster</h3>\n",
       "<ul style=\"text-align: left; list-style:none; margin: 0; padding: 0;\">\n",
       "  <li><b>Workers: </b>20</li>\n",
       "  <li><b>Cores: </b>80</li>\n",
       "  <li><b>Memory: </b>524.29 GB</li>\n",
       "</ul>\n",
       "</td>\n",
       "</tr>\n",
       "</table>"
      ],
      "text/plain": [
       "<Client: 'tcp://127.0.0.1:37539' processes=20 threads=80, memory=524.29 GB>"
      ]
     },
     "execution_count": 2,
     "metadata": {},
     "output_type": "execute_result"
    }
   ],
   "source": [
    "cluster = LocalCluster(n_workers=20)\n",
    "client = Client(cluster)\n",
    "client\n",
    "# client.close()\n",
    "# cluster.close()"
   ]
  },
  {
   "cell_type": "markdown",
   "metadata": {},
   "source": [
    "## Load the MUR SST Dataset from AWS PDS S3"
   ]
  },
  {
   "cell_type": "code",
   "execution_count": 3,
   "metadata": {},
   "outputs": [],
   "source": [
    "s3 = s3fs.S3FileSystem(anon=True, client_kwargs=dict(region_name='us-west-2'))\n",
    "s3_store = s3fs.S3Map(root='mur-sst/zarr', s3=s3, check=False)\n",
    "ds_zarr = zarr.open_consolidated(s3_store, mode='r')"
   ]
  },
  {
   "cell_type": "code",
   "execution_count": 42,
   "metadata": {},
   "outputs": [
    {
     "name": "stdout",
     "output_type": "stream",
     "text": [
      "CPU times: user 4 µs, sys: 0 ns, total: 4 µs\n",
      "Wall time: 8.11 µs\n"
     ]
    }
   ],
   "source": [
    "%%time\n",
    "#ds = xr.open_zarr(s3_store, consolidated=True)"
   ]
  },
  {
   "cell_type": "code",
   "execution_count": 17,
   "metadata": {},
   "outputs": [
    {
     "name": "stdout",
     "output_type": "stream",
     "text": [
      "/\n",
      " ├── analysed_sst (6443, 17999, 36000) int16\n",
      " ├── analysis_error (6443, 17999, 36000) int16\n",
      " ├── lat (17999,) float32\n",
      " ├── lon (36000,) float32\n",
      " ├── mask (6443, 17999, 36000) int8\n",
      " ├── sea_ice_fraction (6443, 17999, 36000) int8\n",
      " └── time (6443,) int64\n"
     ]
    }
   ],
   "source": [
    "print(zarr.tree(ds_zarr))"
   ]
  },
  {
   "cell_type": "markdown",
   "metadata": {},
   "source": [
    "## Rechunker Plan"
   ]
  },
  {
   "cell_type": "code",
   "execution_count": 40,
   "metadata": {},
   "outputs": [],
   "source": [
    "s3 = s3fs.S3FileSystem(client_kwargs=dict(region_name='us-west-2'))\n",
    "s3_rechunk_store = s3fs.S3Map(root='ds-projects/eodc/mursst/6443100100-group.zarr', create=True, s3=s3)\n",
    "s3_tmp_store = s3fs.S3Map(root='ds-projects/eodc/mursst/tmp/tmp-group.zarr', create=True, s3=s3)"
   ]
  },
  {
   "cell_type": "code",
   "execution_count": 41,
   "metadata": {},
   "outputs": [
    {
     "ename": "AssertionError",
     "evalue": "",
     "output_type": "error",
     "traceback": [
      "\u001b[0;31m---------------------------------------------------------------------------\u001b[0m",
      "\u001b[0;31mAssertionError\u001b[0m                            Traceback (most recent call last)",
      "\u001b[0;32m<ipython-input-41-10abc73093a1>\u001b[0m in \u001b[0;36m<module>\u001b[0;34m\u001b[0m\n\u001b[1;32m      7\u001b[0m \u001b[0mmax_mem\u001b[0m \u001b[0;34m=\u001b[0m \u001b[0;34m'2GB'\u001b[0m\u001b[0;34m\u001b[0m\u001b[0;34m\u001b[0m\u001b[0m\n\u001b[1;32m      8\u001b[0m \u001b[0;34m\u001b[0m\u001b[0m\n\u001b[0;32m----> 9\u001b[0;31m \u001b[0marray_plan\u001b[0m \u001b[0;34m=\u001b[0m \u001b[0mrechunk\u001b[0m\u001b[0;34m(\u001b[0m\u001b[0mds_zarr\u001b[0m\u001b[0;34m,\u001b[0m \u001b[0mtarget_chunks\u001b[0m\u001b[0;34m,\u001b[0m \u001b[0mmax_mem\u001b[0m\u001b[0;34m,\u001b[0m \u001b[0ms3_rechunk_store\u001b[0m\u001b[0;34m,\u001b[0m \u001b[0ms3_tmp_store\u001b[0m\u001b[0;34m)\u001b[0m\u001b[0;34m\u001b[0m\u001b[0;34m\u001b[0m\u001b[0m\n\u001b[0m\u001b[1;32m     10\u001b[0m \u001b[0marray_plan\u001b[0m\u001b[0;34m\u001b[0m\u001b[0;34m\u001b[0m\u001b[0m\n",
      "\u001b[0;32m/opt/conda/envs/zarr_rechunker/lib/python3.8/site-packages/rechunker/api.py\u001b[0m in \u001b[0;36mrechunk\u001b[0;34m(source, target_chunks, max_mem, target_store, temp_store)\u001b[0m\n\u001b[1;32m    204\u001b[0m \u001b[0;34m\u001b[0m\u001b[0m\n\u001b[1;32m    205\u001b[0m         \u001b[0;32mfor\u001b[0m \u001b[0marray_name\u001b[0m\u001b[0;34m,\u001b[0m \u001b[0marray_target_chunks\u001b[0m \u001b[0;32min\u001b[0m \u001b[0mtarget_chunks\u001b[0m\u001b[0;34m.\u001b[0m\u001b[0mitems\u001b[0m\u001b[0;34m(\u001b[0m\u001b[0;34m)\u001b[0m\u001b[0;34m:\u001b[0m\u001b[0;34m\u001b[0m\u001b[0;34m\u001b[0m\u001b[0m\n\u001b[0;32m--> 206\u001b[0;31m             delayed = _rechunk_array(\n\u001b[0m\u001b[1;32m    207\u001b[0m                 \u001b[0msource\u001b[0m\u001b[0;34m[\u001b[0m\u001b[0marray_name\u001b[0m\u001b[0;34m]\u001b[0m\u001b[0;34m,\u001b[0m\u001b[0;34m\u001b[0m\u001b[0;34m\u001b[0m\u001b[0m\n\u001b[1;32m    208\u001b[0m                 \u001b[0marray_target_chunks\u001b[0m\u001b[0;34m,\u001b[0m\u001b[0;34m\u001b[0m\u001b[0;34m\u001b[0m\u001b[0m\n",
      "\u001b[0;32m/opt/conda/envs/zarr_rechunker/lib/python3.8/site-packages/rechunker/api.py\u001b[0m in \u001b[0;36m_rechunk_array\u001b[0;34m(source_array, target_chunks, max_mem, target_store_or_group, temp_store_or_group, name, source_storage_options, temp_storage_options, target_storage_options)\u001b[0m\n\u001b[1;32m    318\u001b[0m     \u001b[0;32melse\u001b[0m\u001b[0;34m:\u001b[0m\u001b[0;34m\u001b[0m\u001b[0;34m\u001b[0m\u001b[0m\n\u001b[1;32m    319\u001b[0m         \u001b[0;31m# do intermediate store\u001b[0m\u001b[0;34m\u001b[0m\u001b[0;34m\u001b[0m\u001b[0;34m\u001b[0m\u001b[0m\n\u001b[0;32m--> 320\u001b[0;31m         \u001b[0;32massert\u001b[0m \u001b[0mtemp_store_or_group\u001b[0m \u001b[0;32mis\u001b[0m \u001b[0;32mnot\u001b[0m \u001b[0;32mNone\u001b[0m\u001b[0;34m\u001b[0m\u001b[0;34m\u001b[0m\u001b[0m\n\u001b[0m\u001b[1;32m    321\u001b[0m         int_array = _zarr_empty(\n\u001b[1;32m    322\u001b[0m             \u001b[0mshape\u001b[0m\u001b[0;34m,\u001b[0m \u001b[0mtemp_store_or_group\u001b[0m\u001b[0;34m,\u001b[0m \u001b[0mint_chunks\u001b[0m\u001b[0;34m,\u001b[0m \u001b[0mdtype\u001b[0m\u001b[0;34m,\u001b[0m \u001b[0mname\u001b[0m\u001b[0;34m=\u001b[0m\u001b[0mname\u001b[0m\u001b[0;34m\u001b[0m\u001b[0;34m\u001b[0m\u001b[0m\n",
      "\u001b[0;31mAssertionError\u001b[0m: "
     ]
    }
   ],
   "source": [
    "target_chunks = {\n",
    "    'analysed_sst': {'time': 6443, 'lat': 100, 'lon': 100},\n",
    "    'lat': None,\n",
    "    'lon': None,\n",
    "    'time': None\n",
    "}\n",
    "max_mem = '2GB'\n",
    "\n",
    "array_plan = rechunk(ds_zarr, target_chunks, max_mem, s3_rechunk_store, s3_tmp_store)\n",
    "array_plan"
   ]
  },
  {
   "cell_type": "code",
   "execution_count": null,
   "metadata": {},
   "outputs": [],
   "source": [
    "with ProgressBar():\n",
    "    array_plan.execute()"
   ]
  }
 ],
 "metadata": {
  "kernelspec": {
   "display_name": "zarr_rechunker",
   "language": "python",
   "name": "zarr_rechunker"
  },
  "language_info": {
   "codemirror_mode": {
    "name": "ipython",
    "version": 3
   },
   "file_extension": ".py",
   "mimetype": "text/x-python",
   "name": "python",
   "nbconvert_exporter": "python",
   "pygments_lexer": "ipython3",
   "version": "3.8.4"
  }
 },
 "nbformat": 4,
 "nbformat_minor": 4
}
