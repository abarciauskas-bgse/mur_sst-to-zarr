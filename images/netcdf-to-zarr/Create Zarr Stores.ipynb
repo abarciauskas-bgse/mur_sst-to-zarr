{
 "cells": [
  {
   "cell_type": "markdown",
   "metadata": {},
   "source": [
    "# Loop and Append to Zarr Store"
   ]
  },
  {
   "cell_type": "code",
   "execution_count": 1,
   "metadata": {},
   "outputs": [],
   "source": [
    "import numpy as np\n",
    "import xarray as xr\n",
    "import pandas as pd\n",
    "import numcodecs\n",
    "from dask.distributed import Client, progress, LocalCluster\n",
    "import zarr\n",
    "import glob"
   ]
  },
  {
   "cell_type": "code",
   "execution_count": 2,
   "metadata": {},
   "outputs": [
    {
     "data": {
      "text/html": [
       "<table style=\"border: 2px solid white;\">\n",
       "<tr>\n",
       "<td style=\"vertical-align: top; border: 0px solid white\">\n",
       "<h3 style=\"text-align: left;\">Client</h3>\n",
       "<ul style=\"text-align: left; list-style: none; margin: 0; padding: 0;\">\n",
<<<<<<< HEAD
       "  <li><b>Scheduler: </b>tcp://127.0.0.1:46815</li>\n",
=======
       "  <li><b>Scheduler: </b>tcp://127.0.0.1:44507</li>\n",
>>>>>>> c1039869cee36506bb973207132d6c9d56bfe9d1
       "  <li><b>Dashboard: </b><a href='http://127.0.0.1:8787/status' target='_blank'>http://127.0.0.1:8787/status</a>\n",
       "</ul>\n",
       "</td>\n",
       "<td style=\"vertical-align: top; border: 0px solid white\">\n",
       "<h3 style=\"text-align: left;\">Cluster</h3>\n",
       "<ul style=\"text-align: left; list-style:none; margin: 0; padding: 0;\">\n",
       "  <li><b>Workers: </b>8</li>\n",
       "  <li><b>Cores: </b>32</li>\n",
       "  <li><b>Memory: </b>132.24 GB</li>\n",
       "</ul>\n",
       "</td>\n",
       "</tr>\n",
       "</table>"
      ],
      "text/plain": [
<<<<<<< HEAD
       "<Client: 'tcp://127.0.0.1:46815' processes=8 threads=32, memory=132.24 GB>"
=======
       "<Client: 'tcp://127.0.0.1:44507' processes=8 threads=32, memory=132.24 GB>"
>>>>>>> c1039869cee36506bb973207132d6c9d56bfe9d1
      ]
     },
     "execution_count": 2,
     "metadata": {},
     "output_type": "execute_result"
    }
   ],
   "source": [
    "cluster = LocalCluster()\n",
    "client = Client(cluster)\n",
    "client"
   ]
  },
  {
   "cell_type": "code",
   "execution_count": 3,
   "metadata": {},
   "outputs": [],
   "source": [
    "# Tell blosc not to use threads since we are using dask to parallelize\n",
    "numcodecs.blosc.use_threads = False"
   ]
  },
  {
   "cell_type": "code",
   "execution_count": 4,
   "metadata": {},
   "outputs": [
    {
     "name": "stdout",
     "output_type": "stream",
     "text": [
<<<<<<< HEAD
      "zarr store directory: /data/mursst_netcdf/zarr/10x1800x3600\n"
=======
      "zarr store directory: /data/mursst_netcdf/zarr/2x3000x7000\n"
>>>>>>> c1039869cee36506bb973207132d6c9d56bfe9d1
     ]
    }
   ],
   "source": [
    "# Invariants\n",
    "year = 2006\n",
    "prefix = '/data/mursst_netcdf/v4.1'\n",
<<<<<<< HEAD
    "chunks = {'time': 10, 'lat': 1800, 'lon': 3600}\n",
=======
    "chunks = {'time': 2, 'lat': 3000, 'lon': 7000}\n",
>>>>>>> c1039869cee36506bb973207132d6c9d56bfe9d1
    "path = 'x'.join(map(str, chunks.values()))\n",
    "store_dir = f\"/data/mursst_netcdf/zarr/{path}\"\n",
    "print(f\"zarr store directory: {store_dir}\")"
   ]
  },
  {
   "cell_type": "code",
   "execution_count": 5,
   "metadata": {},
   "outputs": [],
   "source": [
    "def generate_file_list(start_doy, end_doy):   \n",
    "    \"\"\"\n",
    "    Given a start day and end end day, generate a list of file locations.\n",
    "    Assumes a 'prefix' and 'year' variables have already been defined.\n",
    "    'Prefix' should be a local directory or http url and path.\n",
    "    'Year' should be a 4 digit year.\n",
    "    \"\"\"\n",
    "    days_of_year = list(range(start_doy, end_doy))\n",
    "    fileObjs = []\n",
    "\n",
    "    for doy in days_of_year:\n",
<<<<<<< HEAD
    "        if doy < 10:\n",
    "            doy = f\"00{doy}\"\n",
    "        elif doy >= 10 and doy < 100:\n",
    "            doy = f\"0{doy}\"            \n",
=======
>>>>>>> c1039869cee36506bb973207132d6c9d56bfe9d1
    "        file = glob.glob(f\"{prefix}/{year}/{doy}/*.nc\")[0]\n",
    "        fileObjs.append(file)\n",
    "    return fileObjs"
   ]
  },
  {
   "cell_type": "markdown",
   "metadata": {},
   "source": [
    "## Loop and Append"
   ]
  },
  {
   "cell_type": "code",
<<<<<<< HEAD
   "execution_count": null,
=======
   "execution_count": 6,
>>>>>>> c1039869cee36506bb973207132d6c9d56bfe9d1
   "metadata": {},
   "outputs": [
    {
     "name": "stdout",
     "output_type": "stream",
     "text": [
<<<<<<< HEAD
      "start doy: 11, file: 20060111090000-JPL-L4_GHRSST-SSTfnd-MUR-GLOB-v02.0-fv04.1.nc\n",
      "end doy: 21, file: 20060120090000-JPL-L4_GHRSST-SSTfnd-MUR-GLOB-v02.0-fv04.1.nc\n",
      "Done with this batch\n",
      "\n",
      "start doy: 21, file: 20060121090000-JPL-L4_GHRSST-SSTfnd-MUR-GLOB-v02.0-fv04.1.nc\n",
      "end doy: 31, file: 20060130090000-JPL-L4_GHRSST-SSTfnd-MUR-GLOB-v02.0-fv04.1.nc\n",
      "Done with this batch\n",
      "\n",
      "start doy: 31, file: 20060131090000-JPL-L4_GHRSST-SSTfnd-MUR-GLOB-v02.0-fv04.1.nc\n",
      "end doy: 41, file: 20060209090000-JPL-L4_GHRSST-SSTfnd-MUR-GLOB-v02.0-fv04.1.nc\n",
      "Done with this batch\n",
      "\n",
      "start doy: 41, file: 20060210090000-JPL-L4_GHRSST-SSTfnd-MUR-GLOB-v02.0-fv04.1.nc\n",
      "end doy: 51, file: 20060219090000-JPL-L4_GHRSST-SSTfnd-MUR-GLOB-v02.0-fv04.1.nc\n",
      "Done with this batch\n",
      "\n",
      "start doy: 51, file: 20060220090000-JPL-L4_GHRSST-SSTfnd-MUR-GLOB-v02.0-fv04.1.nc\n",
      "end doy: 61, file: 20060301090000-JPL-L4_GHRSST-SSTfnd-MUR-GLOB-v02.0-fv04.1.nc\n",
      "Done with this batch\n",
      "\n",
      "start doy: 61, file: 20060302090000-JPL-L4_GHRSST-SSTfnd-MUR-GLOB-v02.0-fv04.1.nc\n",
      "end doy: 71, file: 20060311090000-JPL-L4_GHRSST-SSTfnd-MUR-GLOB-v02.0-fv04.1.nc\n",
      "Done with this batch\n",
      "\n",
      "start doy: 71, file: 20060312090000-JPL-L4_GHRSST-SSTfnd-MUR-GLOB-v02.0-fv04.1.nc\n",
      "end doy: 81, file: 20060321090000-JPL-L4_GHRSST-SSTfnd-MUR-GLOB-v02.0-fv04.1.nc\n",
      "Done with this batch\n",
      "\n",
      "start doy: 81, file: 20060322090000-JPL-L4_GHRSST-SSTfnd-MUR-GLOB-v02.0-fv04.1.nc\n",
      "end doy: 91, file: 20060331090000-JPL-L4_GHRSST-SSTfnd-MUR-GLOB-v02.0-fv04.1.nc\n",
      "Done with this batch\n",
      "\n",
      "start doy: 91, file: 20060401090000-JPL-L4_GHRSST-SSTfnd-MUR-GLOB-v02.0-fv04.1.nc\n",
      "end doy: 101, file: 20060410090000-JPL-L4_GHRSST-SSTfnd-MUR-GLOB-v02.0-fv04.1.nc\n",
      "Done with this batch\n",
      "\n",
      "start doy: 101, file: 20060411090000-JPL-L4_GHRSST-SSTfnd-MUR-GLOB-v02.0-fv04.1.nc\n",
      "end doy: 111, file: 20060420090000-JPL-L4_GHRSST-SSTfnd-MUR-GLOB-v02.0-fv04.1.nc\n",
      "Done with this batch\n",
      "\n",
      "start doy: 121, file: 20060501090000-JPL-L4_GHRSST-SSTfnd-MUR-GLOB-v02.0-fv04.1.nc\n",
      "end doy: 131, file: 20060510090000-JPL-L4_GHRSST-SSTfnd-MUR-GLOB-v02.0-fv04.1.nc\n",
      "Done with this batch\n",
      "\n",
      "start doy: 131, file: 20060511090000-JPL-L4_GHRSST-SSTfnd-MUR-GLOB-v02.0-fv04.1.nc\n",
      "end doy: 141, file: 20060520090000-JPL-L4_GHRSST-SSTfnd-MUR-GLOB-v02.0-fv04.1.nc\n",
      "Done with this batch\n",
      "\n",
      "start doy: 141, file: 20060521090000-JPL-L4_GHRSST-SSTfnd-MUR-GLOB-v02.0-fv04.1.nc\n",
      "end doy: 151, file: 20060530090000-JPL-L4_GHRSST-SSTfnd-MUR-GLOB-v02.0-fv04.1.nc\n",
      "Done with this batch\n",
      "\n",
      "start doy: 151, file: 20060531090000-JPL-L4_GHRSST-SSTfnd-MUR-GLOB-v02.0-fv04.1.nc\n",
      "end doy: 161, file: 20060609090000-JPL-L4_GHRSST-SSTfnd-MUR-GLOB-v02.0-fv04.1.nc\n",
      "Done with this batch\n",
      "\n",
      "start doy: 161, file: 20060610090000-JPL-L4_GHRSST-SSTfnd-MUR-GLOB-v02.0-fv04.1.nc\n",
      "end doy: 171, file: 20060619090000-JPL-L4_GHRSST-SSTfnd-MUR-GLOB-v02.0-fv04.1.nc\n",
      "Done with this batch\n",
      "\n",
      "start doy: 171, file: 20060620090000-JPL-L4_GHRSST-SSTfnd-MUR-GLOB-v02.0-fv04.1.nc\n",
      "end doy: 181, file: 20060629090000-JPL-L4_GHRSST-SSTfnd-MUR-GLOB-v02.0-fv04.1.nc\n",
      "Done with this batch\n",
      "\n",
      "start doy: 181, file: 20060630090000-JPL-L4_GHRSST-SSTfnd-MUR-GLOB-v02.0-fv04.1.nc\n",
      "end doy: 191, file: 20060709090000-JPL-L4_GHRSST-SSTfnd-MUR-GLOB-v02.0-fv04.1.nc\n",
      "Done with this batch\n",
      "\n",
      "start doy: 191, file: 20060710090000-JPL-L4_GHRSST-SSTfnd-MUR-GLOB-v02.0-fv04.1.nc\n",
      "end doy: 201, file: 20060719090000-JPL-L4_GHRSST-SSTfnd-MUR-GLOB-v02.0-fv04.1.nc\n",
      "Done with this batch\n",
      "\n",
      "start doy: 201, file: 20060720090000-JPL-L4_GHRSST-SSTfnd-MUR-GLOB-v02.0-fv04.1.nc\n",
      "end doy: 211, file: 20060729090000-JPL-L4_GHRSST-SSTfnd-MUR-GLOB-v02.0-fv04.1.nc\n",
      "Done with this batch\n",
      "\n",
      "start doy: 211, file: 20060730090000-JPL-L4_GHRSST-SSTfnd-MUR-GLOB-v02.0-fv04.1.nc\n",
      "end doy: 221, file: 20060808090000-JPL-L4_GHRSST-SSTfnd-MUR-GLOB-v02.0-fv04.1.nc\n",
      "Done with this batch\n",
      "\n",
      "start doy: 221, file: 20060809090000-JPL-L4_GHRSST-SSTfnd-MUR-GLOB-v02.0-fv04.1.nc\n",
      "end doy: 231, file: 20060818090000-JPL-L4_GHRSST-SSTfnd-MUR-GLOB-v02.0-fv04.1.nc\n",
      "Done with this batch\n",
      "\n",
      "start doy: 231, file: 20060819090000-JPL-L4_GHRSST-SSTfnd-MUR-GLOB-v02.0-fv04.1.nc\n",
      "end doy: 241, file: 20060828090000-JPL-L4_GHRSST-SSTfnd-MUR-GLOB-v02.0-fv04.1.nc\n",
      "Done with this batch\n",
      "\n",
      "start doy: 241, file: 20060829090000-JPL-L4_GHRSST-SSTfnd-MUR-GLOB-v02.0-fv04.1.nc\n",
      "end doy: 251, file: 20060907090000-JPL-L4_GHRSST-SSTfnd-MUR-GLOB-v02.0-fv04.1.nc\n",
      "Done with this batch\n",
      "\n",
      "start doy: 251, file: 20060908090000-JPL-L4_GHRSST-SSTfnd-MUR-GLOB-v02.0-fv04.1.nc\n",
      "end doy: 261, file: 20060917090000-JPL-L4_GHRSST-SSTfnd-MUR-GLOB-v02.0-fv04.1.nc\n",
      "Done with this batch\n",
      "\n",
      "start doy: 261, file: 20060918090000-JPL-L4_GHRSST-SSTfnd-MUR-GLOB-v02.0-fv04.1.nc\n",
      "end doy: 271, file: 20060927090000-JPL-L4_GHRSST-SSTfnd-MUR-GLOB-v02.0-fv04.1.nc\n",
      "Done with this batch\n",
      "\n",
      "start doy: 271, file: 20060928090000-JPL-L4_GHRSST-SSTfnd-MUR-GLOB-v02.0-fv04.1.nc\n",
      "end doy: 281, file: 20061007090000-JPL-L4_GHRSST-SSTfnd-MUR-GLOB-v02.0-fv04.1.nc\n",
      "Done with this batch\n",
      "\n",
      "start doy: 281, file: 20061008090000-JPL-L4_GHRSST-SSTfnd-MUR-GLOB-v02.0-fv04.1.nc\n",
      "end doy: 291, file: 20061017090000-JPL-L4_GHRSST-SSTfnd-MUR-GLOB-v02.0-fv04.1.nc\n",
      "Done with this batch\n",
      "\n",
      "start doy: 291, file: 20061018090000-JPL-L4_GHRSST-SSTfnd-MUR-GLOB-v02.0-fv04.1.nc\n",
      "end doy: 301, file: 20061027090000-JPL-L4_GHRSST-SSTfnd-MUR-GLOB-v02.0-fv04.1.nc\n",
      "Done with this batch\n",
      "\n",
      "start doy: 301, file: 20061028090000-JPL-L4_GHRSST-SSTfnd-MUR-GLOB-v02.0-fv04.1.nc\n",
      "end doy: 311, file: 20061106090000-JPL-L4_GHRSST-SSTfnd-MUR-GLOB-v02.0-fv04.1.nc\n",
      "Done with this batch\n",
      "\n",
      "start doy: 311, file: 20061107090000-JPL-L4_GHRSST-SSTfnd-MUR-GLOB-v02.0-fv04.1.nc\n",
      "end doy: 321, file: 20061116090000-JPL-L4_GHRSST-SSTfnd-MUR-GLOB-v02.0-fv04.1.nc\n",
      "Done with this batch\n",
      "\n",
      "start doy: 321, file: 20061117090000-JPL-L4_GHRSST-SSTfnd-MUR-GLOB-v02.0-fv04.1.nc\n",
      "end doy: 331, file: 20061126090000-JPL-L4_GHRSST-SSTfnd-MUR-GLOB-v02.0-fv04.1.nc\n",
      "Done with this batch\n",
      "\n",
      "start doy: 331, file: 20061127090000-JPL-L4_GHRSST-SSTfnd-MUR-GLOB-v02.0-fv04.1.nc\n",
      "end doy: 341, file: 20061206090000-JPL-L4_GHRSST-SSTfnd-MUR-GLOB-v02.0-fv04.1.nc\n",
      "Done with this batch\n",
      "\n",
      "start doy: 341, file: 20061207090000-JPL-L4_GHRSST-SSTfnd-MUR-GLOB-v02.0-fv04.1.nc\n",
      "end doy: 351, file: 20061216090000-JPL-L4_GHRSST-SSTfnd-MUR-GLOB-v02.0-fv04.1.nc\n",
      "Done with this batch\n",
      "\n",
      "start doy: 351, file: 20061217090000-JPL-L4_GHRSST-SSTfnd-MUR-GLOB-v02.0-fv04.1.nc\n",
      "end doy: 361, file: 20061226090000-JPL-L4_GHRSST-SSTfnd-MUR-GLOB-v02.0-fv04.1.nc\n",
      "Done with this batch\n",
      "\n",
      "start doy: 361, file: 20061227090000-JPL-L4_GHRSST-SSTfnd-MUR-GLOB-v02.0-fv04.1.nc\n",
      "end doy: 366, file: 20061231090000-JPL-L4_GHRSST-SSTfnd-MUR-GLOB-v02.0-fv04.1.nc\n"
=======
      "/data/mursst_netcdf/v4.1/2006/152/20060601090000-JPL-L4_GHRSST-SSTfnd-MUR-GLOB-v02.0-fv04.1.nc\n",
      "start doy: 152, file: 20060601090000-JPL-L4_GHRSST-SSTfnd-MUR-GLOB-v02.0-fv04.1.nc\n",
      "end doy: 158, file: 20060606090000-JPL-L4_GHRSST-SSTfnd-MUR-GLOB-v02.0-fv04.1.nc\n",
      "Done with this batch\n",
      "\n",
      "/data/mursst_netcdf/v4.1/2006/158/20060607090000-JPL-L4_GHRSST-SSTfnd-MUR-GLOB-v02.0-fv04.1.nc\n",
      "start doy: 158, file: 20060607090000-JPL-L4_GHRSST-SSTfnd-MUR-GLOB-v02.0-fv04.1.nc\n",
      "end doy: 164, file: 20060612090000-JPL-L4_GHRSST-SSTfnd-MUR-GLOB-v02.0-fv04.1.nc\n",
      "Done with this batch\n",
      "\n",
      "/data/mursst_netcdf/v4.1/2006/164/20060613090000-JPL-L4_GHRSST-SSTfnd-MUR-GLOB-v02.0-fv04.1.nc\n",
      "start doy: 164, file: 20060613090000-JPL-L4_GHRSST-SSTfnd-MUR-GLOB-v02.0-fv04.1.nc\n",
      "end doy: 170, file: 20060618090000-JPL-L4_GHRSST-SSTfnd-MUR-GLOB-v02.0-fv04.1.nc\n",
      "Done with this batch\n",
      "\n",
      "/data/mursst_netcdf/v4.1/2006/170/20060619090000-JPL-L4_GHRSST-SSTfnd-MUR-GLOB-v02.0-fv04.1.nc\n",
      "start doy: 170, file: 20060619090000-JPL-L4_GHRSST-SSTfnd-MUR-GLOB-v02.0-fv04.1.nc\n",
      "end doy: 176, file: 20060624090000-JPL-L4_GHRSST-SSTfnd-MUR-GLOB-v02.0-fv04.1.nc\n",
      "Done with this batch\n",
      "\n",
      "/data/mursst_netcdf/v4.1/2006/176/20060625090000-JPL-L4_GHRSST-SSTfnd-MUR-GLOB-v02.0-fv04.1.nc\n",
      "start doy: 176, file: 20060625090000-JPL-L4_GHRSST-SSTfnd-MUR-GLOB-v02.0-fv04.1.nc\n",
      "end doy: 182, file: 20060630090000-JPL-L4_GHRSST-SSTfnd-MUR-GLOB-v02.0-fv04.1.nc\n",
      "Done with this batch\n",
      "\n",
      "/data/mursst_netcdf/v4.1/2006/182/20060701090000-JPL-L4_GHRSST-SSTfnd-MUR-GLOB-v02.0-fv04.1.nc\n",
      "start doy: 182, file: 20060701090000-JPL-L4_GHRSST-SSTfnd-MUR-GLOB-v02.0-fv04.1.nc\n",
      "end doy: 188, file: 20060706090000-JPL-L4_GHRSST-SSTfnd-MUR-GLOB-v02.0-fv04.1.nc\n",
      "Done with this batch\n",
      "\n",
      "/data/mursst_netcdf/v4.1/2006/188/20060707090000-JPL-L4_GHRSST-SSTfnd-MUR-GLOB-v02.0-fv04.1.nc\n",
      "start doy: 188, file: 20060707090000-JPL-L4_GHRSST-SSTfnd-MUR-GLOB-v02.0-fv04.1.nc\n",
      "end doy: 194, file: 20060712090000-JPL-L4_GHRSST-SSTfnd-MUR-GLOB-v02.0-fv04.1.nc\n",
      "Done with this batch\n",
      "\n",
      "/data/mursst_netcdf/v4.1/2006/194/20060713090000-JPL-L4_GHRSST-SSTfnd-MUR-GLOB-v02.0-fv04.1.nc\n",
      "start doy: 194, file: 20060713090000-JPL-L4_GHRSST-SSTfnd-MUR-GLOB-v02.0-fv04.1.nc\n",
      "end doy: 200, file: 20060718090000-JPL-L4_GHRSST-SSTfnd-MUR-GLOB-v02.0-fv04.1.nc\n",
      "Done with this batch\n",
      "\n",
      "/data/mursst_netcdf/v4.1/2006/200/20060719090000-JPL-L4_GHRSST-SSTfnd-MUR-GLOB-v02.0-fv04.1.nc\n",
      "start doy: 200, file: 20060719090000-JPL-L4_GHRSST-SSTfnd-MUR-GLOB-v02.0-fv04.1.nc\n",
      "end doy: 206, file: 20060724090000-JPL-L4_GHRSST-SSTfnd-MUR-GLOB-v02.0-fv04.1.nc\n",
      "Done with this batch\n",
      "\n",
      "/data/mursst_netcdf/v4.1/2006/206/20060725090000-JPL-L4_GHRSST-SSTfnd-MUR-GLOB-v02.0-fv04.1.nc\n",
      "start doy: 206, file: 20060725090000-JPL-L4_GHRSST-SSTfnd-MUR-GLOB-v02.0-fv04.1.nc\n",
      "end doy: 212, file: 20060730090000-JPL-L4_GHRSST-SSTfnd-MUR-GLOB-v02.0-fv04.1.nc\n",
      "Done with this batch\n",
      "\n",
      "/data/mursst_netcdf/v4.1/2006/212/20060731090000-JPL-L4_GHRSST-SSTfnd-MUR-GLOB-v02.0-fv04.1.nc\n",
      "start doy: 212, file: 20060731090000-JPL-L4_GHRSST-SSTfnd-MUR-GLOB-v02.0-fv04.1.nc\n",
      "end doy: 218, file: 20060805090000-JPL-L4_GHRSST-SSTfnd-MUR-GLOB-v02.0-fv04.1.nc\n",
      "Done with this batch\n",
      "\n",
      "/data/mursst_netcdf/v4.1/2006/218/20060806090000-JPL-L4_GHRSST-SSTfnd-MUR-GLOB-v02.0-fv04.1.nc\n",
      "start doy: 218, file: 20060806090000-JPL-L4_GHRSST-SSTfnd-MUR-GLOB-v02.0-fv04.1.nc\n",
      "end doy: 224, file: 20060811090000-JPL-L4_GHRSST-SSTfnd-MUR-GLOB-v02.0-fv04.1.nc\n",
      "Done with this batch\n",
      "\n",
      "/data/mursst_netcdf/v4.1/2006/224/20060812090000-JPL-L4_GHRSST-SSTfnd-MUR-GLOB-v02.0-fv04.1.nc\n",
      "start doy: 224, file: 20060812090000-JPL-L4_GHRSST-SSTfnd-MUR-GLOB-v02.0-fv04.1.nc\n",
      "end doy: 230, file: 20060817090000-JPL-L4_GHRSST-SSTfnd-MUR-GLOB-v02.0-fv04.1.nc\n",
      "Done with this batch\n",
      "\n",
      "/data/mursst_netcdf/v4.1/2006/230/20060818090000-JPL-L4_GHRSST-SSTfnd-MUR-GLOB-v02.0-fv04.1.nc\n",
      "start doy: 230, file: 20060818090000-JPL-L4_GHRSST-SSTfnd-MUR-GLOB-v02.0-fv04.1.nc\n",
      "end doy: 236, file: 20060823090000-JPL-L4_GHRSST-SSTfnd-MUR-GLOB-v02.0-fv04.1.nc\n",
      "Done with this batch\n",
      "\n",
      "/data/mursst_netcdf/v4.1/2006/236/20060824090000-JPL-L4_GHRSST-SSTfnd-MUR-GLOB-v02.0-fv04.1.nc\n",
      "start doy: 236, file: 20060824090000-JPL-L4_GHRSST-SSTfnd-MUR-GLOB-v02.0-fv04.1.nc\n",
      "end doy: 242, file: 20060829090000-JPL-L4_GHRSST-SSTfnd-MUR-GLOB-v02.0-fv04.1.nc\n",
      "Done with this batch\n",
      "\n",
      "/data/mursst_netcdf/v4.1/2006/242/20060830090000-JPL-L4_GHRSST-SSTfnd-MUR-GLOB-v02.0-fv04.1.nc\n",
      "start doy: 242, file: 20060830090000-JPL-L4_GHRSST-SSTfnd-MUR-GLOB-v02.0-fv04.1.nc\n",
      "end doy: 248, file: 20060904090000-JPL-L4_GHRSST-SSTfnd-MUR-GLOB-v02.0-fv04.1.nc\n",
      "Done with this batch\n",
      "\n",
      "/data/mursst_netcdf/v4.1/2006/248/20060905090000-JPL-L4_GHRSST-SSTfnd-MUR-GLOB-v02.0-fv04.1.nc\n",
      "start doy: 248, file: 20060905090000-JPL-L4_GHRSST-SSTfnd-MUR-GLOB-v02.0-fv04.1.nc\n",
      "end doy: 254, file: 20060910090000-JPL-L4_GHRSST-SSTfnd-MUR-GLOB-v02.0-fv04.1.nc\n",
      "Done with this batch\n",
      "\n",
      "/data/mursst_netcdf/v4.1/2006/254/20060911090000-JPL-L4_GHRSST-SSTfnd-MUR-GLOB-v02.0-fv04.1.nc\n",
      "start doy: 254, file: 20060911090000-JPL-L4_GHRSST-SSTfnd-MUR-GLOB-v02.0-fv04.1.nc\n",
      "end doy: 260, file: 20060916090000-JPL-L4_GHRSST-SSTfnd-MUR-GLOB-v02.0-fv04.1.nc\n",
      "Done with this batch\n",
      "\n",
      "/data/mursst_netcdf/v4.1/2006/260/20060917090000-JPL-L4_GHRSST-SSTfnd-MUR-GLOB-v02.0-fv04.1.nc\n",
      "start doy: 260, file: 20060917090000-JPL-L4_GHRSST-SSTfnd-MUR-GLOB-v02.0-fv04.1.nc\n",
      "end doy: 266, file: 20060922090000-JPL-L4_GHRSST-SSTfnd-MUR-GLOB-v02.0-fv04.1.nc\n",
      "Done with this batch\n",
      "\n",
      "/data/mursst_netcdf/v4.1/2006/266/20060923090000-JPL-L4_GHRSST-SSTfnd-MUR-GLOB-v02.0-fv04.1.nc\n",
      "start doy: 266, file: 20060923090000-JPL-L4_GHRSST-SSTfnd-MUR-GLOB-v02.0-fv04.1.nc\n",
      "end doy: 272, file: 20060928090000-JPL-L4_GHRSST-SSTfnd-MUR-GLOB-v02.0-fv04.1.nc\n",
      "Done with this batch\n",
      "\n",
      "CPU times: user 4min 45s, sys: 18.2 s, total: 5min 4s\n",
      "Wall time: 11min 11s\n"
>>>>>>> c1039869cee36506bb973207132d6c9d56bfe9d1
     ]
    }
   ],
   "source": [
    "%%time\n",
<<<<<<< HEAD
    "start_doy = 11\n",
    "end_doy = start_doy\n",
    "number_batches_to_append = 36\n",
    "batch_size = 10\n",
    "final_end_doy = start_doy + (number_batches_to_append * batch_size)\n",
    "\n",
    "while start_doy < final_end_doy:\n",
    "    end_doy = start_doy + batch_size\n",
    "    end_doy = min(366, end_doy)\n",
    "    fileObjs = generate_file_list(start_doy, end_doy)\n",
=======
    "start_doy = 152\n",
    "end_doy = start_doy\n",
    "number_batches_to_append = 20\n",
    "batch_size = 6\n",
    "final_end_doy = start_doy + (number_batches_to_append * batch_size)\n",
    "\n",
    "while start_doy < final_end_doy:\n",
    "    end_doy = start_doy + batch_size   \n",
    "    fileObjs = generate_file_list(start_doy, end_doy)\n",
    "    print(fileObjs[0])\n",
>>>>>>> c1039869cee36506bb973207132d6c9d56bfe9d1
    "    print(f\"start doy: {start_doy}, file: {fileObjs[0].split('/')[-1]}\")\n",
    "    print(f\"end doy: {end_doy}, file: {fileObjs[-1].split('/')[-1]}\")          \n",
    "    ds = xr.open_mfdataset(fileObjs, chunks=chunks, parallel=True, combine='by_coords')\n",
    "    ds_rechunk = ds.chunk(chunks=chunks)\n",
<<<<<<< HEAD
    "    if start_doy == 1:\n",
=======
    "    if start_doy == 152:\n",
>>>>>>> c1039869cee36506bb973207132d6c9d56bfe9d1
    "          ds_rechunk.to_zarr(store_dir, consolidated=True, mode='w')\n",
    "    else:\n",
    "          ds_rechunk.to_zarr(store_dir, consolidated=True, mode='a', append_dim='time')\n",
    "    start_doy = end_doy\n",
    "    print(f\"Done with this batch\")\n",
    "    print()"
   ]
  },
  {
   "cell_type": "code",
   "execution_count": null,
   "metadata": {},
   "outputs": [],
   "source": [
    "xr.open_zarr(store_dir)"
   ]
<<<<<<< HEAD
  },
  {
   "cell_type": "code",
   "execution_count": null,
   "metadata": {},
   "outputs": [],
   "source": [
    "import time\n",
    "# Add data test\n",
    "zarr_ds = xr.open_zarr(store_dir)\n",
    "start_doy = 1\n",
    "end_doy = 366\n",
    "fileObjs = generate_file_list(start_doy, end_doy)\n",
    "netcdf_ds = xr.open_mfdataset(fileObjs, parallel=True, chunks=chunks, combine='by_coords')\n",
    "lat_slice = slice(10, 50)\n",
    "lon_slice = slice(-150, -100)\n",
    "\n",
    "start_time = time.time()\n",
    "result = netcdf_ds.analysed_sst.sel(lat=lat_slice, lon=lon_slice).mean({'lat', 'lon'}).values\n",
    "netcdf_r0 = result[0]\n",
    "netcdf_r1 = result[-1]\n",
    "print(f\"time to analyze netcdf: {time.time()-start_time}\")\n",
    "\n",
    "start_time = time.time()\n",
    "result = list(zarr_ds.analysed_sst.sel(lat=lat_slice, lon=lon_slice).mean({'lat', 'lon'}).values)\n",
    "zarr_r0 = result[0]\n",
    "zarr_r1 = result[-1]\n",
    "print(f\"time to analyze zarr: {time.time()-start_time}\")\n",
    "\n",
    "assert(zarr_r0 == netcdf_r0)\n",
    "assert(zarr_r1 == netcdf_r1)\n",
    "print('tests passed')"
   ]
=======
>>>>>>> c1039869cee36506bb973207132d6c9d56bfe9d1
  }
 ],
 "metadata": {
  "kernelspec": {
   "display_name": "Python 3",
   "language": "python",
   "name": "python3"
  },
  "language_info": {
   "codemirror_mode": {
    "name": "ipython",
    "version": 3
   },
   "file_extension": ".py",
   "mimetype": "text/x-python",
   "name": "python",
   "nbconvert_exporter": "python",
   "pygments_lexer": "ipython3",
   "version": "3.8.0"
  }
 },
 "nbformat": 4,
 "nbformat_minor": 2
}
