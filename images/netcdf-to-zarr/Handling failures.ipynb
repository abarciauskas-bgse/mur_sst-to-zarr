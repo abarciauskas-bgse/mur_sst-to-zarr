{
 "cells": [
  {
   "cell_type": "markdown",
   "metadata": {},
   "source": [
    "# Handling failures\n",
    "\n",
    "In cases where the loop and append method errors for whatever reason, we can create the subset on which the error occurred and then copy to the final datastore"
   ]
  },
  {
   "cell_type": "code",
   "execution_count": null,
   "metadata": {},
   "outputs": [],
   "source": [
    "start_doy = 177\n",
    "end_doy = 182 \n",
    "fileObjs = generate_file_list(start_doy, end_doy)\n",
    "print(fileObjs[0])\n",
    "print(f\"start doy: {start_doy}, file: {fileObjs[0].split('/')[-1]}\")\n",
    "print(f\"end doy: {end_doy}, file: {fileObjs[-1].split('/')[-1]}\")          \n",
    "ds = xr.open_mfdataset(fileObjs, chunks=chunks, parallel=True, combine='by_coords')\n",
    "ds_rechunk = ds.chunk(chunks=chunks)\n",
    "subset_source = '/Volumes/Elements/zarr/subset/'\n",
    "# ds_rechunk.to_zarr(subset_source, consolidated=True, mode='w')\n",
    "\n",
    "# existing_group = zarr.open(store=store_dir)\n",
    "# subset_group = zarr.open(store=subset_source)\n",
    "# zarr.copy(subset_group, existing_group, name='mursst', if_exists='replace')"
   ]
  }
 ],
 "metadata": {
  "kernelspec": {
   "display_name": "Python 3",
   "language": "python",
   "name": "python3"
  },
  "language_info": {
   "codemirror_mode": {
    "name": "ipython",
    "version": 3
   },
   "file_extension": ".py",
   "mimetype": "text/x-python",
   "name": "python",
   "nbconvert_exporter": "python",
   "pygments_lexer": "ipython3",
   "version": "3.8.0"
  }
 },
 "nbformat": 4,
 "nbformat_minor": 2
}
